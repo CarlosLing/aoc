{
 "cells": [
  {
   "cell_type": "code",
   "execution_count": 1,
   "metadata": {},
   "outputs": [],
   "source": [
    "from aoc2023 import day1\n",
    "import numpy as np"
   ]
  },
  {
   "cell_type": "code",
   "execution_count": 2,
   "metadata": {},
   "outputs": [],
   "source": [
    "data = day1.read_data_string(\"input.txt\")\n",
    "lines = day1.split_data(data) \n",
    "paragraphs = [day1.split_data_p(paragraph) for paragraph in day1.split_data_paragraphs(data)]"
   ]
  },
  {
   "cell_type": "code",
   "execution_count": 4,
   "metadata": {},
   "outputs": [
    {
     "name": "stdout",
     "output_type": "stream",
     "text": [
      "25 108\n"
     ]
    }
   ],
   "source": [
    "for i in range(len(lines)): \n",
    "    for j in range(len(lines[i])): \n",
    "        if lines[i][j] == \"S\": \n",
    "            print(i, j)\n",
    "            break"
   ]
  },
  {
   "cell_type": "code",
   "execution_count": 5,
   "metadata": {},
   "outputs": [
    {
     "data": {
      "text/plain": [
       "'F-L----F7-7.F-7JJ.F--L-.F|F77.L|7.FLF-7.JJ--7FF-F-F7F7.7-F-7.L.FL7F|7--777.FJ-|7J-F-J-77-FF-F-7.JF77.L.JFL.L-|-FF7-77FL--F77.7-|77F7|7FF7-7-'"
      ]
     },
     "execution_count": 5,
     "metadata": {},
     "output_type": "execute_result"
    }
   ],
   "source": [
    "lines[0]"
   ]
  },
  {
   "cell_type": "code",
   "execution_count": 6,
   "metadata": {},
   "outputs": [],
   "source": [
    "move = {\n",
    "    \"|\": [(-1, 0), (1, 0),],\n",
    "    \"S\": [(-1, 0), (1, 0),],\n",
    "    \"F\": [(0, 1), (1, 0),],\n",
    "    \"J\": [(-1, 0), (0, -1),],\n",
    "    \"L\": [(-1, 0), (0, 1),],\n",
    "    \"7\": [(0, -1), (1, 0),],\n",
    "    \"-\": [(0, -1), (0, 1),],\n",
    "    \".\": [],\n",
    "}"
   ]
  },
  {
   "cell_type": "code",
   "execution_count": 9,
   "metadata": {},
   "outputs": [],
   "source": [
    "i_0, j_0 = (25, 108)\n",
    "piece_0 = \"|\"\n",
    "v_up_str = [f\"{i_0},{j_0}\", f\"{i_0-1},{j_0}\"]\n",
    "# v_up = [(i_0, j_0), (i_0-1, j_0)]\n",
    "v_down_str = [f\"{i_0},{j_0}\", f\"{i_0},{j_0}\"]\n",
    "# v_down = [(i_0, j_0), (i_0+1, j_0)]"
   ]
  },
  {
   "cell_type": "code",
   "execution_count": 20,
   "metadata": {},
   "outputs": [],
   "source": [
    "def get_last_position(v_pos): \n",
    "    coord = [int(x) for x in  v_pos[-1].split(\",\")]\n",
    "    return coord\n",
    "\n",
    "\n",
    "def get_new_positions(map, position): \n",
    "    pipe = map[position[0]][position[1]]\n",
    "    new_pos = []\n",
    "    for m in move[pipe]:\n",
    "        n_p = (position[0] + m[0], position[1] + m[1])\n",
    "        new_pos.append(n_p)\n",
    "    return new_pos\n",
    "\n",
    "\n",
    "def extend_position_vector(v_pos, new_positions): \n",
    "    extend_position = 0\n",
    "    for p in new_positions: \n",
    "        p_string = f\"{p[0]},{p[1]}\"\n",
    "        if p_string != v_pos[-2]: \n",
    "            if extend_position == 0: \n",
    "                extend_position = p_string\n",
    "            else: \n",
    "                print(v_pos)\n",
    "                print(new_positions)\n",
    "                print(extend_position)\n",
    "                raise ValueError(\"pos assigned already\")\n",
    "            \n",
    "    \n",
    "    if extend_position == 0: \n",
    "        raise ValueError(\"no pos assigned\")\n",
    "    \n",
    "    v_pos.append(extend_position)\n",
    "\n",
    "\n",
    "def check_for_overlap(v1, v2):\n",
    "    set1 = set(v1[1:])\n",
    "    set2 = set(v2[1:])\n",
    "    return set1.intersection(set2)"
   ]
  },
  {
   "cell_type": "code",
   "execution_count": 23,
   "metadata": {},
   "outputs": [],
   "source": [
    "\n",
    "v_up_str = [f\"{i_0},{j_0}\", f\"{i_0-1},{j_0}\"]\n",
    "# v_up = [(i_0, j_0), (i_0-1, j_0)]\n",
    "v_down_str = [f\"{i_0},{j_0}\", f\"{i_0+1},{j_0}\"]"
   ]
  },
  {
   "cell_type": "code",
   "execution_count": 24,
   "metadata": {},
   "outputs": [],
   "source": [
    "overlap = False\n",
    "while not overlap: \n",
    "    v_up = get_last_position(v_up_str)\n",
    "    p_up = get_new_positions(lines, v_up)\n",
    "    extend_position_vector(v_up_str, p_up)\n",
    "\n",
    "\n",
    "    v_down = get_last_position(v_down_str)\n",
    "    p_down = get_new_positions(lines, v_down)\n",
    "    extend_position_vector(v_down_str, p_down)\n",
    "\n",
    "    overlap = check_for_overlap(v_up_str, v_down_str)"
   ]
  },
  {
   "cell_type": "code",
   "execution_count": 30,
   "metadata": {},
   "outputs": [
    {
     "data": {
      "text/plain": [
       "'124,42'"
      ]
     },
     "execution_count": 30,
     "metadata": {},
     "output_type": "execute_result"
    }
   ],
   "source": [
    "v_up_str[-1]"
   ]
  },
  {
   "cell_type": "code",
   "execution_count": 31,
   "metadata": {},
   "outputs": [
    {
     "data": {
      "text/plain": [
       "'124,42'"
      ]
     },
     "execution_count": 31,
     "metadata": {},
     "output_type": "execute_result"
    }
   ],
   "source": [
    "v_down_str[-1]"
   ]
  },
  {
   "cell_type": "code",
   "execution_count": 33,
   "metadata": {},
   "outputs": [
    {
     "data": {
      "text/plain": [
       "6702"
      ]
     },
     "execution_count": 33,
     "metadata": {},
     "output_type": "execute_result"
    }
   ],
   "source": [
    "len(v_up_str)"
   ]
  },
  {
   "cell_type": "code",
   "execution_count": 17,
   "metadata": {},
   "outputs": [
    {
     "data": {
      "text/plain": [
       "['25,108', '25,108']"
      ]
     },
     "execution_count": 17,
     "metadata": {},
     "output_type": "execute_result"
    }
   ],
   "source": [
    "v_down_str"
   ]
  },
  {
   "cell_type": "code",
   "execution_count": 103,
   "metadata": {},
   "outputs": [],
   "source": [
    "m_zeros = np.zeros((len(lines), len(lines[0])))"
   ]
  },
  {
   "cell_type": "code",
   "execution_count": 104,
   "metadata": {},
   "outputs": [],
   "source": [
    "v_lines = [\n",
    "    \"|\",\n",
    "    \"S\",\n",
    "    \"J\",\n",
    "    \"L\",]"
   ]
  },
  {
   "cell_type": "code",
   "execution_count": 105,
   "metadata": {},
   "outputs": [],
   "source": [
    "m_zeros\n",
    "for v in v_up_str: \n",
    "    x, y = [int(x) for x in  v.split(\",\")]\n",
    "    if lines[x][y] in v_lines:\n",
    "        m_zeros[x,y] = 2\n",
    "    else:\n",
    "        m_zeros[x,y] = 1\n",
    "\n",
    "for v in v_down_str: \n",
    "    x, y = [int(x) for x in  v.split(\",\")]\n",
    "    if lines[x][y] in v_lines:\n",
    "        m_zeros[x,y] = 2\n",
    "    else:\n",
    "        m_zeros[x,y] = 1"
   ]
  },
  {
   "cell_type": "code",
   "execution_count": 106,
   "metadata": {},
   "outputs": [],
   "source": [
    "num_in = 0\n",
    "for i in range(np.shape(m_zeros)[0]): \n",
    "    for j in range(np.shape(m_zeros)[1]):\n",
    "        if m_zeros[i,j] == 0: \n",
    "            if np.sum(m_zeros[i][:j] == 2) % 2 == 1: \n",
    "                num_in+=1"
   ]
  },
  {
   "cell_type": "code",
   "execution_count": 107,
   "metadata": {},
   "outputs": [
    {
     "data": {
      "text/plain": [
       "303"
      ]
     },
     "execution_count": 107,
     "metadata": {},
     "output_type": "execute_result"
    }
   ],
   "source": [
    "num_in"
   ]
  },
  {
   "cell_type": "code",
   "execution_count": 62,
   "metadata": {},
   "outputs": [
    {
     "data": {
      "text/plain": [
       "array([[0., 0., 0., ..., 0., 0., 0.],\n",
       "       [0., 0., 0., ..., 0., 0., 0.],\n",
       "       [0., 0., 0., ..., 0., 0., 0.],\n",
       "       ...,\n",
       "       [0., 0., 0., ..., 0., 0., 0.],\n",
       "       [0., 0., 0., ..., 0., 0., 0.],\n",
       "       [0., 0., 0., ..., 0., 0., 0.]])"
      ]
     },
     "execution_count": 62,
     "metadata": {},
     "output_type": "execute_result"
    }
   ],
   "source": [
    "m_zeros"
   ]
  },
  {
   "cell_type": "code",
   "execution_count": 63,
   "metadata": {},
   "outputs": [],
   "source": [
    "directions = [(1,1), (1,0), (1,-1), \n",
    "              (0,1), (0,-1), \n",
    "              (-1,1), (-1,0), (-1,-1)]"
   ]
  },
  {
   "cell_type": "code",
   "execution_count": 92,
   "metadata": {},
   "outputs": [],
   "source": [
    "to_populate = [(0,0)]\n",
    "while len(to_populate) > 0:\n",
    "    element = to_populate.pop()\n",
    "    m_zeros[element[0], element[1]] = 3\n",
    "    for d in directions: \n",
    "        try: \n",
    "            if m_zeros[element[0] + d[0], element[1] + d[1]] == 0: \n",
    "                to_populate.append((element[0] + d[0], element[1] + d[1]))\n",
    "        except IndexError:\n",
    "            pass\n"
   ]
  },
  {
   "cell_type": "code",
   "execution_count": 53,
   "metadata": {},
   "outputs": [
    {
     "ename": "RecursionError",
     "evalue": "maximum recursion depth exceeded in comparison",
     "output_type": "error",
     "traceback": [
      "\u001b[0;31m---------------------------------------------------------------------------\u001b[0m",
      "\u001b[0;31mRecursionError\u001b[0m                            Traceback (most recent call last)",
      "\u001b[1;32m/Users/carlos.garcia2/Documents/personal/aoc2023/solution_d10.ipynb Cell 19\u001b[0m line \u001b[0;36m1\n\u001b[0;32m----> <a href='vscode-notebook-cell:/Users/carlos.garcia2/Documents/personal/aoc2023/solution_d10.ipynb#X44sZmlsZQ%3D%3D?line=0'>1</a>\u001b[0m populate_matrix((\u001b[39m0\u001b[39;49m, \u001b[39m0\u001b[39;49m))\n",
      "\u001b[1;32m/Users/carlos.garcia2/Documents/personal/aoc2023/solution_d10.ipynb Cell 19\u001b[0m line \u001b[0;36m6\n\u001b[1;32m      <a href='vscode-notebook-cell:/Users/carlos.garcia2/Documents/personal/aoc2023/solution_d10.ipynb#X44sZmlsZQ%3D%3D?line=3'>4</a>\u001b[0m \u001b[39mtry\u001b[39;00m: \n\u001b[1;32m      <a href='vscode-notebook-cell:/Users/carlos.garcia2/Documents/personal/aoc2023/solution_d10.ipynb#X44sZmlsZQ%3D%3D?line=4'>5</a>\u001b[0m     \u001b[39mif\u001b[39;00m m_zeros[element[\u001b[39m0\u001b[39m] \u001b[39m+\u001b[39m d[\u001b[39m0\u001b[39m], element[\u001b[39m1\u001b[39m] \u001b[39m+\u001b[39m d[\u001b[39m1\u001b[39m]] \u001b[39m==\u001b[39m \u001b[39m0\u001b[39m: \n\u001b[0;32m----> <a href='vscode-notebook-cell:/Users/carlos.garcia2/Documents/personal/aoc2023/solution_d10.ipynb#X44sZmlsZQ%3D%3D?line=5'>6</a>\u001b[0m         populate_matrix((element[\u001b[39m0\u001b[39;49m] \u001b[39m+\u001b[39;49m d[\u001b[39m0\u001b[39;49m], element[\u001b[39m1\u001b[39;49m] \u001b[39m+\u001b[39;49m d[\u001b[39m1\u001b[39;49m]))\n\u001b[1;32m      <a href='vscode-notebook-cell:/Users/carlos.garcia2/Documents/personal/aoc2023/solution_d10.ipynb#X44sZmlsZQ%3D%3D?line=6'>7</a>\u001b[0m \u001b[39mexcept\u001b[39;00m \u001b[39mIndexError\u001b[39;00m:\n\u001b[1;32m      <a href='vscode-notebook-cell:/Users/carlos.garcia2/Documents/personal/aoc2023/solution_d10.ipynb#X44sZmlsZQ%3D%3D?line=7'>8</a>\u001b[0m     \u001b[39mpass\u001b[39;00m\n",
      "\u001b[1;32m/Users/carlos.garcia2/Documents/personal/aoc2023/solution_d10.ipynb Cell 19\u001b[0m line \u001b[0;36m6\n\u001b[1;32m      <a href='vscode-notebook-cell:/Users/carlos.garcia2/Documents/personal/aoc2023/solution_d10.ipynb#X44sZmlsZQ%3D%3D?line=3'>4</a>\u001b[0m \u001b[39mtry\u001b[39;00m: \n\u001b[1;32m      <a href='vscode-notebook-cell:/Users/carlos.garcia2/Documents/personal/aoc2023/solution_d10.ipynb#X44sZmlsZQ%3D%3D?line=4'>5</a>\u001b[0m     \u001b[39mif\u001b[39;00m m_zeros[element[\u001b[39m0\u001b[39m] \u001b[39m+\u001b[39m d[\u001b[39m0\u001b[39m], element[\u001b[39m1\u001b[39m] \u001b[39m+\u001b[39m d[\u001b[39m1\u001b[39m]] \u001b[39m==\u001b[39m \u001b[39m0\u001b[39m: \n\u001b[0;32m----> <a href='vscode-notebook-cell:/Users/carlos.garcia2/Documents/personal/aoc2023/solution_d10.ipynb#X44sZmlsZQ%3D%3D?line=5'>6</a>\u001b[0m         populate_matrix((element[\u001b[39m0\u001b[39;49m] \u001b[39m+\u001b[39;49m d[\u001b[39m0\u001b[39;49m], element[\u001b[39m1\u001b[39;49m] \u001b[39m+\u001b[39;49m d[\u001b[39m1\u001b[39;49m]))\n\u001b[1;32m      <a href='vscode-notebook-cell:/Users/carlos.garcia2/Documents/personal/aoc2023/solution_d10.ipynb#X44sZmlsZQ%3D%3D?line=6'>7</a>\u001b[0m \u001b[39mexcept\u001b[39;00m \u001b[39mIndexError\u001b[39;00m:\n\u001b[1;32m      <a href='vscode-notebook-cell:/Users/carlos.garcia2/Documents/personal/aoc2023/solution_d10.ipynb#X44sZmlsZQ%3D%3D?line=7'>8</a>\u001b[0m     \u001b[39mpass\u001b[39;00m\n",
      "    \u001b[0;31m[... skipping similar frames: populate_matrix at line 6 (2969 times)]\u001b[0m\n",
      "\u001b[1;32m/Users/carlos.garcia2/Documents/personal/aoc2023/solution_d10.ipynb Cell 19\u001b[0m line \u001b[0;36m6\n\u001b[1;32m      <a href='vscode-notebook-cell:/Users/carlos.garcia2/Documents/personal/aoc2023/solution_d10.ipynb#X44sZmlsZQ%3D%3D?line=3'>4</a>\u001b[0m \u001b[39mtry\u001b[39;00m: \n\u001b[1;32m      <a href='vscode-notebook-cell:/Users/carlos.garcia2/Documents/personal/aoc2023/solution_d10.ipynb#X44sZmlsZQ%3D%3D?line=4'>5</a>\u001b[0m     \u001b[39mif\u001b[39;00m m_zeros[element[\u001b[39m0\u001b[39m] \u001b[39m+\u001b[39m d[\u001b[39m0\u001b[39m], element[\u001b[39m1\u001b[39m] \u001b[39m+\u001b[39m d[\u001b[39m1\u001b[39m]] \u001b[39m==\u001b[39m \u001b[39m0\u001b[39m: \n\u001b[0;32m----> <a href='vscode-notebook-cell:/Users/carlos.garcia2/Documents/personal/aoc2023/solution_d10.ipynb#X44sZmlsZQ%3D%3D?line=5'>6</a>\u001b[0m         populate_matrix((element[\u001b[39m0\u001b[39;49m] \u001b[39m+\u001b[39;49m d[\u001b[39m0\u001b[39;49m], element[\u001b[39m1\u001b[39;49m] \u001b[39m+\u001b[39;49m d[\u001b[39m1\u001b[39;49m]))\n\u001b[1;32m      <a href='vscode-notebook-cell:/Users/carlos.garcia2/Documents/personal/aoc2023/solution_d10.ipynb#X44sZmlsZQ%3D%3D?line=6'>7</a>\u001b[0m \u001b[39mexcept\u001b[39;00m \u001b[39mIndexError\u001b[39;00m:\n\u001b[1;32m      <a href='vscode-notebook-cell:/Users/carlos.garcia2/Documents/personal/aoc2023/solution_d10.ipynb#X44sZmlsZQ%3D%3D?line=7'>8</a>\u001b[0m     \u001b[39mpass\u001b[39;00m\n",
      "\u001b[1;32m/Users/carlos.garcia2/Documents/personal/aoc2023/solution_d10.ipynb Cell 19\u001b[0m line \u001b[0;36m5\n\u001b[1;32m      <a href='vscode-notebook-cell:/Users/carlos.garcia2/Documents/personal/aoc2023/solution_d10.ipynb#X44sZmlsZQ%3D%3D?line=2'>3</a>\u001b[0m \u001b[39mfor\u001b[39;00m d \u001b[39min\u001b[39;00m directions: \n\u001b[1;32m      <a href='vscode-notebook-cell:/Users/carlos.garcia2/Documents/personal/aoc2023/solution_d10.ipynb#X44sZmlsZQ%3D%3D?line=3'>4</a>\u001b[0m     \u001b[39mtry\u001b[39;00m: \n\u001b[0;32m----> <a href='vscode-notebook-cell:/Users/carlos.garcia2/Documents/personal/aoc2023/solution_d10.ipynb#X44sZmlsZQ%3D%3D?line=4'>5</a>\u001b[0m         \u001b[39mif\u001b[39;00m m_zeros[element[\u001b[39m0\u001b[39;49m] \u001b[39m+\u001b[39;49m d[\u001b[39m0\u001b[39;49m], element[\u001b[39m1\u001b[39;49m] \u001b[39m+\u001b[39;49m d[\u001b[39m1\u001b[39;49m]] \u001b[39m==\u001b[39;49m \u001b[39m0\u001b[39;49m: \n\u001b[1;32m      <a href='vscode-notebook-cell:/Users/carlos.garcia2/Documents/personal/aoc2023/solution_d10.ipynb#X44sZmlsZQ%3D%3D?line=5'>6</a>\u001b[0m             populate_matrix((element[\u001b[39m0\u001b[39m] \u001b[39m+\u001b[39m d[\u001b[39m0\u001b[39m], element[\u001b[39m1\u001b[39m] \u001b[39m+\u001b[39m d[\u001b[39m1\u001b[39m]))\n\u001b[1;32m      <a href='vscode-notebook-cell:/Users/carlos.garcia2/Documents/personal/aoc2023/solution_d10.ipynb#X44sZmlsZQ%3D%3D?line=6'>7</a>\u001b[0m     \u001b[39mexcept\u001b[39;00m \u001b[39mIndexError\u001b[39;00m:\n",
      "\u001b[0;31mRecursionError\u001b[0m: maximum recursion depth exceeded in comparison"
     ]
    }
   ],
   "source": [
    "populate_matrix((0, 0))"
   ]
  },
  {
   "cell_type": "code",
   "execution_count": 69,
   "metadata": {},
   "outputs": [
    {
     "data": {
      "text/plain": [
       "570"
      ]
     },
     "execution_count": 69,
     "metadata": {},
     "output_type": "execute_result"
    }
   ],
   "source": [
    "np.size(m_zeros)-np.count_nonzero(m_zeros)"
   ]
  },
  {
   "cell_type": "code",
   "execution_count": 67,
   "metadata": {},
   "outputs": [
    {
     "data": {
      "text/plain": [
       "19030"
      ]
     },
     "execution_count": 67,
     "metadata": {},
     "output_type": "execute_result"
    }
   ],
   "source": [
    "np.count_nonzero(m_zeros)"
   ]
  },
  {
   "cell_type": "code",
   "execution_count": 75,
   "metadata": {},
   "outputs": [
    {
     "data": {
      "image/png": "[encoded data removed]",
      "text/plain": [
       "<Figure size 640x480 with 2 Axes>"
      ]
     },
     "metadata": {},
     "output_type": "display_data"
    }
   ],
   "source": [
    "import seaborn as sns\n",
    "import matplotlib.pyplot as plt\n",
    "\n",
    "\n",
    "# Create a heatmap\n",
    "sns.heatmap(m_zeros, cmap=\"YlGnBu\")\n",
    "\n",
    "# Show the plot\n",
    "plt.show()"
   ]
  },
  {
   "cell_type": "code",
   "execution_count": null,
   "metadata": {},
   "outputs": [],
   "source": []
  }
 ],
 "metadata": {
  "kernelspec": {
   "display_name": "aoc",
   "language": "python",
   "name": "python3"
  },
  "language_info": {
   "codemirror_mode": {
    "name": "ipython",
    "version": 3
   },
   "file_extension": ".py",
   "mimetype": "text/x-python",
   "name": "python",
   "nbconvert_exporter": "python",
   "pygments_lexer": "ipython3",
   "version": "3.10.13"
  }
 },
 "nbformat": 4,
 "nbformat_minor": 2
}
