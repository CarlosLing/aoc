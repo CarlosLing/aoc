{
 "cells": [
  {
   "cell_type": "code",
   "execution_count": 1,
   "metadata": {},
   "outputs": [],
   "source": [
    "from aoc2023 import day1\n",
    "from aoc2023 import maps\n",
    "import numpy as np\n",
    "import functools"
   ]
  },
  {
   "cell_type": "code",
   "execution_count": 2,
   "metadata": {},
   "outputs": [],
   "source": [
    "data = day1.read_data_string(\"input.txt\")\n",
    "# data = day1.read_data_string(\"input_sample.txt\")\n",
    "lines = day1.split_data(data) \n",
    "paragraphs = [day1.split_data_p(paragraph) for paragraph in day1.split_data_paragraphs(data)]"
   ]
  },
  {
   "cell_type": "code",
   "execution_count": null,
   "metadata": {},
   "outputs": [],
   "source": []
  },
  {
   "cell_type": "code",
   "execution_count": 3,
   "metadata": {},
   "outputs": [],
   "source": [
    "directions = {\n",
    "    \"\\\\\": {\"1,0\": [(0,1)], \"-1,0\": [(0,-1)],\"0,1\": [(1,0)],\"0,-1\": [(-1,0)],},\n",
    "    \"/\": {\"1,0\": [(0,-1)], \"-1,0\": [(0,1)],\"0,1\": [(-1,0)],\"0,-1\": [(1,0)],},\n",
    "    \"-\": {\"1,0\": [(1,0)], \"-1,0\": [(-1,0)],\"0,1\": [(1,0),(-1,0)],\"0,-1\": [(1,0),(-1,0)],},\n",
    "    \"|\": {\"1,0\": [(0,1),(0,-1)], \"-1,0\": [(0,1),(0,-1)],\"0,1\": [(0,1)],\"0,-1\": [(0,-1)],},\n",
    "}"
   ]
  },
  {
   "cell_type": "code",
   "execution_count": null,
   "metadata": {},
   "outputs": [],
   "source": []
  },
  {
   "cell_type": "code",
   "execution_count": 4,
   "metadata": {},
   "outputs": [],
   "source": [
    "def sum_tuples(t1, t2):\n",
    "    return tuple(a+b for a, b in zip(t1, t2))"
   ]
  },
  {
   "cell_type": "code",
   "execution_count": 5,
   "metadata": {},
   "outputs": [],
   "source": [
    "def in_range(x): \n",
    "    c1 = x[0] >= 0 and x[0] < len(lines[0])\n",
    "    c2 = x[1] >= 0 and x[1] < len(lines)\n",
    "    return c1 and c2"
   ]
  },
  {
   "cell_type": "code",
   "execution_count": null,
   "metadata": {},
   "outputs": [],
   "source": []
  },
  {
   "cell_type": "code",
   "execution_count": 8,
   "metadata": {},
   "outputs": [],
   "source": [
    "start = {\"t\": (-1, 0), \"d\": (1,0)}\n",
    "\n",
    "filled = np.zeros((len(lines), len(lines[0])))\n",
    "rays = [start]\n",
    "rays_seen = set()"
   ]
  },
  {
   "cell_type": "code",
   "execution_count": 9,
   "metadata": {},
   "outputs": [],
   "source": [
    "start = True\n",
    "while len(rays) > 0: \n",
    "    r = rays.pop(0)\n",
    "    # print(r['t'])\n",
    "    r_string = str(r[\"t\"] + r[\"d\"])\n",
    "    if not r_string in rays_seen: \n",
    "        rays_seen.add(r_string)\n",
    "        if not start: \n",
    "            filled[r[\"t\"]]=1\n",
    "        else: \n",
    "            start = False\n",
    "        t_1 = sum_tuples(r[\"t\"], r[\"d\"])\n",
    "        if in_range(t_1): \n",
    "            v_map = lines[t_1[1]][t_1[0]]\n",
    "            if v_map != '.': \n",
    "                dir_string = f\"{r['d'][0]},{r['d'][1]}\"\n",
    "                dir_vector = directions[v_map][dir_string]\n",
    "                for d in dir_vector:\n",
    "                    rays.append({'t': t_1, 'd': d})\n",
    "            else: \n",
    "                rays.append({'t': t_1, 'd': r[\"d\"]})\n",
    "p1 = filled.sum()"
   ]
  },
  {
   "cell_type": "code",
   "execution_count": 11,
   "metadata": {},
   "outputs": [
    {
     "data": {
      "text/plain": [
       "7996.0"
      ]
     },
     "execution_count": 11,
     "metadata": {},
     "output_type": "execute_result"
    }
   ],
   "source": [
    "p1\n"
   ]
  },
  {
   "cell_type": "code",
   "execution_count": 13,
   "metadata": {},
   "outputs": [],
   "source": [
    "p2_vec = []"
   ]
  },
  {
   "cell_type": "code",
   "execution_count": 16,
   "metadata": {},
   "outputs": [
    {
     "data": {
      "text/plain": [
       "110"
      ]
     },
     "execution_count": 16,
     "metadata": {},
     "output_type": "execute_result"
    }
   ],
   "source": [
    "len(lines)"
   ]
  },
  {
   "cell_type": "code",
   "execution_count": 19,
   "metadata": {},
   "outputs": [],
   "source": [
    "for i in range(110):\n",
    "    start = {\"t\": (110, i), \"d\": (-1,0)}\n",
    "\n",
    "    filled = np.zeros((len(lines), len(lines[0])))\n",
    "    rays = [start]\n",
    "    rays_seen = set()\n",
    "    start = True\n",
    "    while len(rays) > 0: \n",
    "        r = rays.pop(0)\n",
    "        # print(r['t'])\n",
    "        r_string = str(r[\"t\"] + r[\"d\"])\n",
    "        if not r_string in rays_seen: \n",
    "            rays_seen.add(r_string)\n",
    "            if not start: \n",
    "                filled[r[\"t\"]]=1\n",
    "            else: \n",
    "                start = False\n",
    "            t_1 = sum_tuples(r[\"t\"], r[\"d\"])\n",
    "            if in_range(t_1): \n",
    "                v_map = lines[t_1[1]][t_1[0]]\n",
    "                if v_map != '.': \n",
    "                    dir_string = f\"{r['d'][0]},{r['d'][1]}\"\n",
    "                    dir_vector = directions[v_map][dir_string]\n",
    "                    for d in dir_vector:\n",
    "                        rays.append({'t': t_1, 'd': d})\n",
    "                else: \n",
    "                    rays.append({'t': t_1, 'd': r[\"d\"]})\n",
    "    p2_vec.append(filled.sum())"
   ]
  },
  {
   "cell_type": "code",
   "execution_count": 20,
   "metadata": {},
   "outputs": [
    {
     "data": {
      "text/plain": [
       "8239.0"
      ]
     },
     "execution_count": 20,
     "metadata": {},
     "output_type": "execute_result"
    }
   ],
   "source": [
    "max(p2_vec)"
   ]
  },
  {
   "cell_type": "code",
   "execution_count": 18,
   "metadata": {},
   "outputs": [
    {
     "data": {
      "text/plain": [
       "array([[1., 0., 0., ..., 0., 0., 0.],\n",
       "       [1., 0., 0., ..., 0., 0., 0.],\n",
       "       [1., 1., 1., ..., 0., 0., 0.],\n",
       "       ...,\n",
       "       [0., 0., 0., ..., 1., 0., 0.],\n",
       "       [1., 1., 1., ..., 1., 0., 0.],\n",
       "       [0., 0., 0., ..., 1., 0., 0.]])"
      ]
     },
     "execution_count": 18,
     "metadata": {},
     "output_type": "execute_result"
    }
   ],
   "source": [
    "filled.transpose()"
   ]
  },
  {
   "cell_type": "code",
   "execution_count": 19,
   "metadata": {},
   "outputs": [
    {
     "data": {
      "text/plain": [
       "7996.0"
      ]
     },
     "execution_count": 19,
     "metadata": {},
     "output_type": "execute_result"
    }
   ],
   "source": [
    "filled.sum()"
   ]
  },
  {
   "cell_type": "code",
   "execution_count": null,
   "metadata": {},
   "outputs": [],
   "source": []
  }
 ],
 "metadata": {
  "kernelspec": {
   "display_name": "aoc",
   "language": "python",
   "name": "python3"
  },
  "language_info": {
   "codemirror_mode": {
    "name": "ipython",
    "version": 3
   },
   "file_extension": ".py",
   "mimetype": "text/x-python",
   "name": "python",
   "nbconvert_exporter": "python",
   "pygments_lexer": "ipython3",
   "version": "3.10.13"
  }
 },
 "nbformat": 4,
 "nbformat_minor": 2
}
