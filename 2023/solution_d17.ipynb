{
 "cells": [
  {
   "cell_type": "code",
   "execution_count": 41,
   "metadata": {},
   "outputs": [],
   "source": [
    "from aoc2023 import day1\n",
    "from aoc2023 import maps\n",
    "import numpy as np\n",
    "import functools"
   ]
  },
  {
   "cell_type": "code",
   "execution_count": 143,
   "metadata": {},
   "outputs": [],
   "source": [
    "data = \"\"\"2413432311323\n",
    "3215453535623\n",
    "3255245654254\n",
    "3446585845452\n",
    "4546657867536\n",
    "1438598798454\n",
    "4457876987766\n",
    "3637877979653\n",
    "4654967986887\n",
    "4564679986453\n",
    "1224686865563\n",
    "2546548887735\n",
    "4322674655533\n",
    "\"\"\""
   ]
  },
  {
   "cell_type": "code",
   "execution_count": 144,
   "metadata": {},
   "outputs": [],
   "source": [
    "# data = day1.read_data_string(\"input.txt\")\n",
    "# data = day1.read_data_string(\"input_sample.txt\")\n",
    "lines = day1.split_data(data) \n",
    "paragraphs = [day1.split_data_p(paragraph) for paragraph in day1.split_data_paragraphs(data)]"
   ]
  },
  {
   "cell_type": "code",
   "execution_count": 145,
   "metadata": {},
   "outputs": [],
   "source": [
    "values = np.array([[int(x)for x in line]for line in lines])"
   ]
  },
  {
   "cell_type": "code",
   "execution_count": 146,
   "metadata": {},
   "outputs": [],
   "source": [
    "dim = len(lines)"
   ]
  },
  {
   "cell_type": "code",
   "execution_count": 147,
   "metadata": {},
   "outputs": [],
   "source": [
    "distances = np.ones((dim,dim))*100000000000000\n",
    "visited = np.zeros((dim,dim))\n",
    "longest_straight = np.zeros((dim,dim))\n",
    "direction = np.zeros((dim,dim))\n"
   ]
  },
  {
   "cell_type": "code",
   "execution_count": 148,
   "metadata": {},
   "outputs": [],
   "source": [
    "directions_map = {\n",
    "    1: (0,1),\n",
    "    2: (0,-1),\n",
    "    3: (1,0),\n",
    "    4: (-1,0)\n",
    "}\n",
    "\n",
    "\n",
    "# Reverse dictionary\n",
    "rev_directions_map = {v: k for k, v in directions_map.items()}"
   ]
  },
  {
   "cell_type": "code",
   "execution_count": 149,
   "metadata": {},
   "outputs": [],
   "source": [
    "def sub_tuples(t1, t2):\n",
    "    return tuple(a-b for a, b in zip(t1, t2))"
   ]
  },
  {
   "cell_type": "code",
   "execution_count": 150,
   "metadata": {},
   "outputs": [],
   "source": [
    "def sum_tuples(t1, t2):\n",
    "    return tuple(a+b for a, b in zip(t1, t2))"
   ]
  },
  {
   "cell_type": "code",
   "execution_count": 151,
   "metadata": {},
   "outputs": [],
   "source": [
    "last_node = (dim-1,dim-1)\n",
    "distances[last_node] = 0 \n",
    "visited[last_node] = 1\n",
    "row, col = last_node\n",
    "rows, cols = values.shape\n",
    "nodes = [(row-1,col), (row+1,col), (row, col-1), (row, col+1)]\n",
    "\n",
    "adjacent_nodes = [(i,j) for i,j in nodes if 0 <= i < rows and 0 <= j < cols]\n",
    "if longest_straight[last_node] >=3: \n",
    "    dir_prev = direction[last_node]\n",
    "    adjacent_nodes.remove(directions_map[dir_prev])\n",
    "for node in adjacent_nodes: \n",
    "    if visited[node]== 0: \n",
    "        node_distance = distances[last_node] + values[last_node]\n",
    "        if node_distance < distances[node]: \n",
    "            d = sub_tuples(node, last_node)\n",
    "            distances[node] = node_distance\n",
    "            direction[node] = rev_directions_map[d]\n",
    "            if direction[last_node] == direction[node]:\n",
    "                longest_straight[node] = longest_straight[last_node] +1\n",
    "            else: \n",
    "                longest_straight[node] = 1\n",
    "        if node_distance == distances[node]:\n",
    "            d = sub_tuples(node, last_node)\n",
    "            new_dir = rev_directions_map[d]\n",
    "            if new_dir == direction[node]: \n",
    "                if direction[last_node] == direction[node]:\n",
    "                    new_lon_s = longest_straight[last_node] +1\n",
    "                else: \n",
    "                    new_lon_s = 1\n",
    "                longest_straight[node] = min(new_lon_s, longest_straight[node])\n",
    "            else: \n",
    "                longest_straight[node] = 0 \n",
    "        # Define what happens when they are the same? Play with most free nodes\n",
    "        \n",
    "\n",
    "    \n"
   ]
  },
  {
   "cell_type": "code",
   "execution_count": 156,
   "metadata": {},
   "outputs": [
    {
     "data": {
      "text/plain": [
       "array([[105., 102.,  98.,  95.,  91.,  88.,  78.,  75.,  74.,  73.,  70.,\n",
       "         69.,  67.],\n",
       "       [102., 100.,  99.,  92.,  88.,  83.,  80.,  76.,  73.,  68.,  64.,\n",
       "         67.,  64.],\n",
       "       [104., 102.,  99.,  94.,  92.,  88.,  83.,  73.,  68.,  64.,  62.,\n",
       "         58.,  60.],\n",
       "       [104., 104., 104.,  99.,  94.,  92.,  88.,  71.,  67.,  62.,  58.,\n",
       "         53.,  58.],\n",
       "       [100.,  99., 104.,  98.,  92.,  87.,  80.,  74.,  65.,  58.,  53.,\n",
       "         50.,  45.],\n",
       "       [ 99.,  95.,  92.,  92.,  87.,  79.,  72.,  67.,  58.,  51.,  50.,\n",
       "         45.,  41.],\n",
       "       [ 96.,  92.,  87.,  87.,  79.,  72.,  66.,  58.,  50.,  44.,  37.,\n",
       "         32.,  35.],\n",
       "       [ 85.,  87.,  84.,  79.,  73.,  66.,  59.,  50.,  43.,  35.,  31.,\n",
       "         27.,  32.],\n",
       "       [ 81.,  81.,  79.,  75.,  70.,  64.,  52.,  43.,  35.,  29.,  23.,\n",
       "         19.,  27.],\n",
       "       [ 77.,  76.,  74.,  71.,  67.,  57.,  48.,  39.,  31.,  23.,  19.,\n",
       "         14.,  11.],\n",
       "       [ 76.,  74.,  72.,  67.,  61.,  53.,  47.,  39.,  25.,  20.,  15.,\n",
       "          9.,   8.],\n",
       "       [ 77.,  75.,  68.,  62.,  57.,  53.,  39.,  31.,  23.,  16.,   9.,\n",
       "          6.,   3.],\n",
       "       [ 75.,  72.,  70.,  68.,  62.,  46.,  42.,  36.,  31.,  11.,   6.,\n",
       "          3.,   0.]])"
      ]
     },
     "execution_count": 156,
     "metadata": {},
     "output_type": "execute_result"
    }
   ],
   "source": [
    "distances"
   ]
  },
  {
   "cell_type": "code",
   "execution_count": 153,
   "metadata": {},
   "outputs": [],
   "source": [
    "distances_unseen = distances + visited *100000000000\n",
    "index = np.unravel_index(distances_unseen.argmin(), distances_unseen.shape)"
   ]
  },
  {
   "cell_type": "code",
   "execution_count": 154,
   "metadata": {},
   "outputs": [],
   "source": [
    "last_node = np.unravel_index(distances_unseen.argmin(), distances_unseen.shape)"
   ]
  },
  {
   "cell_type": "code",
   "execution_count": 155,
   "metadata": {},
   "outputs": [],
   "source": [
    "while visited[(0,0)] == 0: \n",
    "    distances_unseen = distances + visited *100000000000\n",
    "    last_node = np.unravel_index(distances_unseen.argmin(), distances_unseen.shape)\n",
    "    visited[last_node] = 1\n",
    "    row, col = last_node\n",
    "    rows, cols = values.shape\n",
    "    nodes = [(row-1,col), (row+1,col), (row, col-1), (row, col+1)]\n",
    "\n",
    "    adjacent_nodes = [(i,j) for i,j in nodes if 0 <= i < rows and 0 <= j < cols]\n",
    "    if longest_straight[last_node] >=3: \n",
    "        dir_prev = direction[last_node]\n",
    "        node_to_remove = sum_tuples(directions_map[dir_prev],last_node)\n",
    "        if node_to_remove in adjacent_nodes: \n",
    "            adjacent_nodes.remove(node_to_remove)\n",
    "    for node in adjacent_nodes: \n",
    "        if visited[node]== 0: \n",
    "            node_distance = distances[last_node] + values[last_node]\n",
    "            if node_distance < distances[node]: \n",
    "                d = sub_tuples(node, last_node)\n",
    "                distances[node] = node_distance\n",
    "                direction[node] = rev_directions_map[d]\n",
    "                if direction[last_node] == direction[node]:\n",
    "                    longest_straight[node] = longest_straight[last_node] +1\n",
    "                else: \n",
    "                    longest_straight[node] = 1\n",
    "            \n",
    "            if node_distance == distances[node]:\n",
    "                d = sub_tuples(node, last_node)\n",
    "                new_dir = rev_directions_map[d]\n",
    "                if new_dir == direction[node]: \n",
    "                    if direction[last_node] == direction[node]:\n",
    "                        new_lon_s = longest_straight[last_node] +1\n",
    "                    else: \n",
    "                        new_lon_s = 1\n",
    "                    longest_straight[node] = min(new_lon_s, longest_straight[node])\n",
    "                else: \n",
    "                    longest_straight[node] = 0\n",
    "                    direction[node] = 0\n",
    "                    \n",
    "            # Define what happens when they are the same? Play with most free nodes\n",
    "    "
   ]
  },
  {
   "cell_type": "code",
   "execution_count": 128,
   "metadata": {},
   "outputs": [
    {
     "name": "stdout",
     "output_type": "stream",
     "text": [
      "902\n",
      "1073\n"
     ]
    }
   ],
   "source": [
    "import sys\n",
    "from pathlib import Path\n",
    "from queue import PriorityQueue\n",
    "\n",
    "\n",
    "\n",
    "def least_heat(grid, height, width, minimum_streak=0, maximum_steak=3):\n",
    "    frontier = PriorityQueue()\n",
    "    frontier.put((grid[(1, 0)], (1, 0), (1, 0), 1))\n",
    "    frontier.put((grid[(0, 1)], (0, 1), (0, 1), 1))\n",
    "    visited = set()\n",
    "    target = (width - 1, height - 1)\n",
    "    while not frontier.empty():\n",
    "        cost, (x, y), (dx, dy), streak = frontier.get()\n",
    "        if (x, y) == target and minimum_streak <= streak:\n",
    "            return cost\n",
    "        if ((x, y), (dx, dy), streak) in visited:\n",
    "            continue\n",
    "        visited.add(((x, y), (dx, dy), streak))\n",
    "        if streak < (maximum_steak - 1) and (x + dx, y + dy) in grid:\n",
    "            straight_position = (x + dx, y + dy)\n",
    "            straight_cost = cost + grid[straight_position]\n",
    "            frontier.put((straight_cost, straight_position, (dx, dy), streak + 1))\n",
    "        if minimum_streak <= streak:\n",
    "            lx, ly = dy, -dx\n",
    "            left_position = (x + lx, y + ly)\n",
    "            rx, ry = -dy, dx\n",
    "            right_position = (x + rx, y + ry)\n",
    "            if left_position in grid:\n",
    "                left_cost = cost + grid[left_position]\n",
    "                frontier.put((left_cost, left_position, (lx, ly), 0))\n",
    "            if right_position in grid:\n",
    "                right_cost = cost + grid[right_position]\n",
    "                frontier.put((right_cost, right_position, (rx, ry), 0))\n",
    "\n",
    "\n",
    "def main():\n",
    "    with open(\"input.txt\") as f:\n",
    "        lines = f.read().splitlines()\n",
    "    height, width = len(lines), len(lines[0])\n",
    "    grid = {(x, y): int(n) for y, line in enumerate(lines) for x, n in enumerate(line)}\n",
    "    p1 = least_heat(grid, height, width)\n",
    "    p2 = least_heat(grid, height, width, minimum_streak=3, maximum_steak=10)\n",
    "    print(p1)\n",
    "    print(p2)\n",
    "\n",
    "\n",
    "if __name__ == '__main__':\n",
    "    main()"
   ]
  },
  {
   "cell_type": "code",
   "execution_count": null,
   "metadata": {},
   "outputs": [],
   "source": []
  }
 ],
 "metadata": {
  "kernelspec": {
   "display_name": "aoc",
   "language": "python",
   "name": "python3"
  },
  "language_info": {
   "codemirror_mode": {
    "name": "ipython",
    "version": 3
   },
   "file_extension": ".py",
   "mimetype": "text/x-python",
   "name": "python",
   "nbconvert_exporter": "python",
   "pygments_lexer": "ipython3",
   "version": "3.10.13"
  }
 },
 "nbformat": 4,
 "nbformat_minor": 2
}
