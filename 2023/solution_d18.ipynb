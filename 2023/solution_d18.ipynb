{
 "cells": [
  {
   "cell_type": "code",
   "execution_count": 3,
   "metadata": {},
   "outputs": [],
   "source": [
    "from aoc2023 import day1\n",
    "from aoc2023 import maps\n",
    "import numpy as np\n",
    "import functools"
   ]
  },
  {
   "cell_type": "code",
   "execution_count": 4,
   "metadata": {},
   "outputs": [],
   "source": [
    "data = \"\"\"R 6 (#70c710)\n",
    "D 5 (#0dc571)\n",
    "L 2 (#5713f0)\n",
    "D 2 (#d2c081)\n",
    "R 2 (#59c680)\n",
    "D 2 (#411b91)\n",
    "L 5 (#8ceee2)\n",
    "U 2 (#caa173)\n",
    "L 1 (#1b58a2)\n",
    "U 2 (#caa171)\n",
    "R 2 (#7807d2)\n",
    "U 3 (#a77fa3)\n",
    "L 2 (#015232)\n",
    "U 2 (#7a21e3)\n",
    "\"\"\""
   ]
  },
  {
   "cell_type": "code",
   "execution_count": 56,
   "metadata": {},
   "outputs": [],
   "source": [
    "# data = day1.read_data_string(\"input.txt\")\n",
    "# data = day1.read_data_string(\"input_sample.txt\")\n",
    "lines = day1.split_data(data) \n",
    "paragraphs = [day1.split_data_p(paragraph) for paragraph in day1.split_data_paragraphs(data)]"
   ]
  },
  {
   "cell_type": "code",
   "execution_count": 57,
   "metadata": {},
   "outputs": [],
   "source": [
    "total_tunnel_lenght = {\n",
    "    \"U\": 0, \n",
    "    \"D\": 0, \n",
    "    \"L\": 0, \n",
    "    \"R\": 0, \n",
    "}\n",
    "total_tunnel_lenght = {\n",
    "    0: \"R\", \n",
    "    1: \"D\", \n",
    "    2: \"L\", \n",
    "    3: \"U\", \n",
    "}\n",
    "for line in lines: \n",
    "    len_tunnel = int(line.split(\" \")[1])\n",
    "    dir_tunnel = line.split(\" \")[0]\n",
    "    total_tunnel_lenght[dir_tunnel] += len_tunnel"
   ]
  },
  {
   "cell_type": "code",
   "execution_count": 58,
   "metadata": {},
   "outputs": [
    {
     "data": {
      "text/plain": [
       "{'U': 995, 'D': 995, 'L': 999, 'R': 999}"
      ]
     },
     "execution_count": 58,
     "metadata": {},
     "output_type": "execute_result"
    }
   ],
   "source": [
    "total_tunnel_lenght"
   ]
  },
  {
   "cell_type": "code",
   "execution_count": 67,
   "metadata": {},
   "outputs": [],
   "source": [
    "map_lava = np.zeros((2000,2000))\n",
    "map_borders = np.zeros((2000,2000))"
   ]
  },
  {
   "cell_type": "code",
   "execution_count": 68,
   "metadata": {},
   "outputs": [],
   "source": [
    "directions_lava = {\n",
    "    \"R\": (0,1),\n",
    "    \"L\": (0,-1),\n",
    "    \"D\": (1,0),\n",
    "    \"U\": (-1,0)\n",
    "}"
   ]
  },
  {
   "cell_type": "code",
   "execution_count": 69,
   "metadata": {},
   "outputs": [],
   "source": [
    "def sum_tuples(t1, t2):\n",
    "    return tuple(a+b for a, b in zip(t1, t2))"
   ]
  },
  {
   "cell_type": "code",
   "execution_count": 70,
   "metadata": {},
   "outputs": [],
   "source": [
    "square = (1000,1000)\n",
    "for line in lines: \n",
    "    len_tunnel = int(line.split(\" \")[1])\n",
    "    dir_tunnel = line.split(\" \")[0]\n",
    "    for i in range(len_tunnel): \n",
    "        map_lava[square] = 1\n",
    "        if dir_tunnel == \"U\": \n",
    "            map_borders[square] = 1\n",
    "        square = sum_tuples(square, directions_lava[dir_tunnel])\n",
    "\n",
    "        if dir_tunnel == \"D\": \n",
    "            map_borders[square] = -1\n",
    "\n",
    "    total_tunnel_lenght[dir_tunnel] += len_tunnel"
   ]
  },
  {
   "cell_type": "code",
   "execution_count": 75,
   "metadata": {},
   "outputs": [],
   "source": [
    "row_start = 600\n",
    "row_end = 1100\n",
    "col_start = 700\n",
    "col_end = 1300\n",
    "\n",
    "submatrix_lava = map_lava[row_start:row_end, col_start:col_end]\n",
    "submatrix_borders = map_borders[row_start:row_end, col_start:col_end]"
   ]
  },
  {
   "cell_type": "code",
   "execution_count": 71,
   "metadata": {},
   "outputs": [
    {
     "data": {
      "text/plain": [
       "array([[0., 0., 0., ..., 0., 0., 0.],\n",
       "       [0., 0., 0., ..., 0., 0., 0.],\n",
       "       [0., 0., 0., ..., 0., 0., 0.],\n",
       "       ...,\n",
       "       [0., 0., 0., ..., 0., 0., 0.],\n",
       "       [0., 0., 0., ..., 0., 0., 0.],\n",
       "       [0., 0., 0., ..., 0., 0., 0.]])"
      ]
     },
     "execution_count": 71,
     "metadata": {},
     "output_type": "execute_result"
    }
   ],
   "source": [
    "map_borders"
   ]
  },
  {
   "cell_type": "code",
   "execution_count": 77,
   "metadata": {},
   "outputs": [],
   "source": [
    "for i in range(submatrix_lava.shape[0]):\n",
    "    for j in range(submatrix_lava.shape[1]): \n",
    "        if (submatrix_lava[(i,j)] == 0): \n",
    "            if sum(submatrix_borders[i, :j]) > 0: \n",
    "                submatrix_lava[(i,j)] = 1"
   ]
  },
  {
   "cell_type": "code",
   "execution_count": 80,
   "metadata": {},
   "outputs": [
    {
     "data": {
      "text/plain": [
       "66993.0"
      ]
     },
     "execution_count": 80,
     "metadata": {},
     "output_type": "execute_result"
    }
   ],
   "source": [
    "sum(sum(submatrix_lava))"
   ]
  },
  {
   "cell_type": "code",
   "execution_count": 79,
   "metadata": {},
   "outputs": [
    {
     "data": {
      "image/png": "[encoded data removed]",
      "text/plain": [
       "<Figure size 640x480 with 2 Axes>"
      ]
     },
     "metadata": {},
     "output_type": "display_data"
    }
   ],
   "source": [
    "import seaborn as sns\n",
    "import matplotlib.pyplot as plt\n",
    "\n",
    "\n",
    "# Create a heatmap\n",
    "sns.heatmap(submatrix_lava, cmap=\"YlGnBu\")\n",
    "\n",
    "# Show the plot\n",
    "plt.show()"
   ]
  },
  {
   "cell_type": "code",
   "execution_count": 82,
   "metadata": {},
   "outputs": [],
   "source": [
    "total_tunnel_lenght = {\n",
    "    \"U\": 0, \n",
    "    \"D\": 0, \n",
    "    \"L\": 0, \n",
    "    \"R\": 0, \n",
    "}\n",
    "hex_to_dir = {\n",
    "    0: \"R\", \n",
    "    1: \"D\", \n",
    "    2: \"L\", \n",
    "    3: \"U\", \n",
    "}\n",
    "for line in lines: \n",
    "    hex_code = line.split(\" \")[-1].replace(\"(\", \"\").replace(\")\", \"\").replace(\"#\", \"\")\n",
    "    \n",
    "    hex_code_dist = hex_code[:-1]\n",
    "    hex_code_dir = hex_code[-1]\n",
    "\n",
    "    len_tunnel = int(hex_code_dist, 16)\n",
    "    dir_tunnel = hex_to_dir[int(hex_code_dir)]\n",
    "    total_tunnel_lenght[dir_tunnel] += len_tunnel"
   ]
  },
  {
   "cell_type": "code",
   "execution_count": 83,
   "metadata": {},
   "outputs": [
    {
     "data": {
      "text/plain": [
       "{'U': 60156403, 'D': 60156403, 'L': 58393377, 'R': 58393377}"
      ]
     },
     "execution_count": 83,
     "metadata": {},
     "output_type": "execute_result"
    }
   ],
   "source": [
    "total_tunnel_lenght"
   ]
  },
  {
   "cell_type": "code",
   "execution_count": 84,
   "metadata": {},
   "outputs": [
    {
     "name": "stdout",
     "output_type": "stream",
     "text": [
      "177243763226648\n"
     ]
    }
   ],
   "source": [
    "a, x, y = 0, 1, 1\n",
    "for l in lines:\n",
    "    i = l.split()[ -1 ]\n",
    "    d, h = int( i[ 2 : -2 ], 16 ), int( i[ -2 ] )\n",
    "    nx = x + [ 1, 0, -1, 0 ][ h ] * d\n",
    "    ny = y + [ 0, 1, 0, -1 ][ h ] * d\n",
    "    a += x * ny - nx * y + abs( nx - x ) + abs( ny - y )\n",
    "    x, y = nx, ny\n",
    "print( a // 2 + 1 )"
   ]
  },
  {
   "cell_type": "code",
   "execution_count": null,
   "metadata": {},
   "outputs": [],
   "source": []
  }
 ],
 "metadata": {
  "kernelspec": {
   "display_name": "aoc",
   "language": "python",
   "name": "python3"
  },
  "language_info": {
   "codemirror_mode": {
    "name": "ipython",
    "version": 3
   },
   "file_extension": ".py",
   "mimetype": "text/x-python",
   "name": "python",
   "nbconvert_exporter": "python",
   "pygments_lexer": "ipython3",
   "version": "3.10.13"
  }
 },
 "nbformat": 4,
 "nbformat_minor": 2
}
