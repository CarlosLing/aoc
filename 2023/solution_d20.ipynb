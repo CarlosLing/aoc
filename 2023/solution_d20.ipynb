{
 "cells": [
  {
   "cell_type": "code",
   "execution_count": 1,
   "metadata": {},
   "outputs": [],
   "source": [
    "from aoc2023 import day1\n",
    "from aoc2023 import maps\n",
    "import numpy as np\n",
    "import functools"
   ]
  },
  {
   "cell_type": "code",
   "execution_count": null,
   "metadata": {},
   "outputs": [],
   "source": []
  },
  {
   "cell_type": "code",
   "execution_count": 141,
   "metadata": {},
   "outputs": [],
   "source": [
    "data = day1.read_data_string(\"input.txt\")\n",
    "# data = day1.read_data_string(\"input_sample.txt\")\n",
    "lines = day1.split_data(data) \n",
    "paragraphs = [day1.split_data_p(paragraph) for paragraph in day1.split_data_paragraphs(data)]"
   ]
  },
  {
   "cell_type": "code",
   "execution_count": 142,
   "metadata": {},
   "outputs": [],
   "source": [
    "def parse_connections(lines): \n",
    "    connections = {}\n",
    "    flip_flops = set()\n",
    "    conjunctions = set()\n",
    "    for l in lines: \n",
    "        node, cons = l.split(\" -> \")\n",
    "        if '%' in node: \n",
    "            node = node.replace('%', '')\n",
    "            flip_flops.add(node)\n",
    "        elif '&' in node: \n",
    "            node = node.replace('&', '')\n",
    "            conjunctions.add(node)\n",
    "        else : \n",
    "            print(\"broadcast\")\n",
    "        \n",
    "        cons = cons.split(', ')\n",
    "        connections[node] = cons\n",
    "    \n",
    "    return connections, flip_flops, conjunctions\n"
   ]
  },
  {
   "cell_type": "code",
   "execution_count": 202,
   "metadata": {},
   "outputs": [
    {
     "name": "stdout",
     "output_type": "stream",
     "text": [
      "broadcast\n"
     ]
    }
   ],
   "source": [
    "cons, flips, conjunctions = parse_connections(lines)"
   ]
  },
  {
   "cell_type": "code",
   "execution_count": 255,
   "metadata": {},
   "outputs": [],
   "source": [
    "flips_state = {f:\"low\" for f in flips}\n",
    "conjunctions_state = {c:{f:\"low\" for f in flips if c in cons[f]} for c in conjunctions}\n"
   ]
  },
  {
   "cell_type": "code",
   "execution_count": 256,
   "metadata": {},
   "outputs": [],
   "source": [
    "\n",
    "from queue import Queue\n"
   ]
  },
  {
   "cell_type": "code",
   "execution_count": 257,
   "metadata": {},
   "outputs": [
    {
     "data": {
      "text/plain": [
       "{}"
      ]
     },
     "execution_count": 257,
     "metadata": {},
     "output_type": "execute_result"
    }
   ],
   "source": [
    "conjunctions_state[\"rm\"]"
   ]
  },
  {
   "cell_type": "code",
   "execution_count": 258,
   "metadata": {},
   "outputs": [],
   "source": [
    "count_h = 0 \n",
    "count_l = 0"
   ]
  },
  {
   "cell_type": "code",
   "execution_count": 259,
   "metadata": {},
   "outputs": [
    {
     "name": "stdout",
     "output_type": "stream",
     "text": [
      "3907\n"
     ]
    }
   ],
   "source": [
    "\n",
    "list_x = []\n",
    "for i in range(10000):\n",
    "    count_x = 0\n",
    "    actions = Queue()\n",
    "    actions.put((\"low\", \"broadcaster\", \"button\"))\n",
    "\n",
    "    def process_flip(flip, signal): \n",
    "        if signal == \"high\": \n",
    "            pass \n",
    "        else:\n",
    "            if flips_state[flip] == \"high\": \n",
    "                flips_state[flip] = \"low\"\n",
    "                for c in cons[flip]: \n",
    "                    actions.put((\"low\", c, flip))\n",
    "            else :\n",
    "                flips_state[flip] = \"high\"\n",
    "                for c in cons[flip]: \n",
    "                    actions.put((\"high\", c, flip))\n",
    "\n",
    "\n",
    "    def process_conjunction(conj, signal, input_node): \n",
    "        c_state = conjunctions_state[conj]\n",
    "\n",
    "        if signal == \"high\": \n",
    "            c_state[input_node] = \"high\"\n",
    "        else:\n",
    "            c_state[input_node] = \"low\"\n",
    "        \n",
    "        output = \"low\"\n",
    "        for _, value in c_state.items(): \n",
    "            if value == \"low\": \n",
    "                output = \"high\"\n",
    "                break\n",
    "\n",
    "        for c in cons[conj]: \n",
    "            actions.put((output, c, conj))\n",
    "\n",
    "    found = False\n",
    "    while not actions.empty():\n",
    "        a, node, previous = actions.get()\n",
    "        # print(a, node)\n",
    "        if a == \"low\": \n",
    "            count_l += 1\n",
    "        if a == \"high\": \n",
    "            count_h += 1\n",
    "        if node in flips: \n",
    "            process_flip(node, a)\n",
    "        if node in conjunctions: \n",
    "            process_conjunction(node, a, previous)\n",
    "        if node == \"broadcaster\": \n",
    "            for c in cons[node]: \n",
    "                actions.put((a, c, node))\n",
    "        \n",
    "        if node == \"bb\":\n",
    "            if a == \"low\": \n",
    "                found = True\n",
    "\n",
    "    if found: \n",
    "        print(i+1)\n",
    "        break\n",
    "        # print(list(actions.queue))"
   ]
  },
  {
   "cell_type": "code",
   "execution_count": 239,
   "metadata": {},
   "outputs": [
    {
     "name": "stdout",
     "output_type": "stream",
     "text": [
      "Part 1: 800830848\n",
      "{'qd': 4001, 'dp': 4027, 'dh': 3877, 'bb': 3907}\n",
      "Part 2: 244055946148853\n"
     ]
    }
   ],
   "source": [
    "#!/bin/python3\n",
    "\n",
    "import sys\n",
    "import math\n",
    "from typing import List, Tuple\n",
    "\n",
    "sys.setrecursionlimit(100000)\n",
    "FILE = \"input.txt\"\n",
    "\n",
    "\n",
    "def read_lines_to_list() -> List[str]:\n",
    "    lines: List[str] = []\n",
    "    with open(FILE, \"r\", encoding=\"utf-8\") as f:\n",
    "        for line in f:\n",
    "            line = line.strip()\n",
    "            split = line.split(\" -> \")\n",
    "\n",
    "            name = split[0]\n",
    "            flip_flop = name.startswith(\"%\")\n",
    "            conjunction = name.startswith(\"&\")\n",
    "            target = split[1].split(\", \")\n",
    "\n",
    "            if flip_flop:\n",
    "                state = False\n",
    "                name = split[0][1:]\n",
    "            elif conjunction:\n",
    "                state = {}\n",
    "                name = split[0][1:]\n",
    "            else:\n",
    "                state = None\n",
    "\n",
    "            val = (name, [target, flip_flop, conjunction, state])\n",
    "\n",
    "            lines.append(val)\n",
    "\n",
    "    return lines\n",
    "\n",
    "\n",
    "def part_one():\n",
    "    lines = read_lines_to_list()\n",
    "    mappings = dict((a, b) for (a, b) in lines)\n",
    "\n",
    "    # For any conjunction modules we must initialize inputs...\n",
    "    for k, v in mappings.items():\n",
    "        if v[2]:\n",
    "            for a, b in mappings.items():\n",
    "                if k in b[0]:\n",
    "                    v[3][a] = False\n",
    "\n",
    "    low = 0\n",
    "    high = 0\n",
    "    for _ in range(1000):\n",
    "        queue = [(\"broadcaster\", 0, None)]\n",
    "        while queue:\n",
    "            (curr, signal, input) = queue.pop(0)\n",
    "\n",
    "            if signal:\n",
    "                high += 1\n",
    "            else:\n",
    "                low += 1\n",
    "\n",
    "            if curr not in mappings:\n",
    "                continue\n",
    "\n",
    "            [targets, is_ff, is_con, state] = mappings[curr]\n",
    "\n",
    "            if is_ff:\n",
    "                if not signal:\n",
    "                    if state:\n",
    "                        mappings[curr][3] = False\n",
    "                        new_signal = 0\n",
    "                    else:\n",
    "                        mappings[curr][3] = True\n",
    "                        new_signal = 1\n",
    "\n",
    "                    for target in targets:\n",
    "                        queue.append((target, new_signal, curr))\n",
    "            elif is_con:\n",
    "                state[input] = bool(signal)\n",
    "                if all(state.values()):\n",
    "                    new_signal = 0\n",
    "                else:\n",
    "                    new_signal = 1\n",
    "                for target in targets:\n",
    "                    queue.append((target, new_signal, curr))\n",
    "            else:\n",
    "                for target in targets:\n",
    "                    queue.append((target, signal, curr))\n",
    "\n",
    "    answer = low * high\n",
    "    print(f\"Part 1: {answer}\")\n",
    "\n",
    "\n",
    "def part_two():\n",
    "    lines = read_lines_to_list()\n",
    "    mappings = dict((a, b) for (a, b) in lines)\n",
    "\n",
    "    for k, v in mappings.items():\n",
    "        if v[2]:\n",
    "            for a, b in mappings.items():\n",
    "                if k in b[0]:\n",
    "                    v[3][a] = False\n",
    "\n",
    "    # A little bit of hardcoded trickery for my input... I specifically needed xr, fv, kk, and vt to all be low.\n",
    "    lowest_parents = {\n",
    "        \"qd\": None,\n",
    "        \"dp\": None,\n",
    "        \"dh\": None,\n",
    "        \"bb\": None,\n",
    "    }\n",
    "\n",
    "    curr_cycle = 0\n",
    "    answer = 0\n",
    "    while True:\n",
    "        if all(val is not None for val in lowest_parents.values()):\n",
    "            print(lowest_parents)\n",
    "            answer = math.lcm(*list(lowest_parents.values()))\n",
    "            break\n",
    "\n",
    "        curr_cycle += 1\n",
    "        queue = [(\"broadcaster\", 0, None)]\n",
    "        while queue:\n",
    "            (curr, signal, input) = queue.pop(0)\n",
    "\n",
    "            if curr in lowest_parents and not signal:\n",
    "                lowest_parents[curr] = curr_cycle\n",
    "\n",
    "            # Ideally this happens but it won't.\n",
    "            if curr == \"rx\" and not signal:\n",
    "                break\n",
    "\n",
    "            if curr not in mappings:\n",
    "                continue\n",
    "\n",
    "            [targets, is_ff, is_con, state] = mappings[curr]\n",
    "\n",
    "            if is_ff:\n",
    "                if not signal:\n",
    "                    if state:\n",
    "                        mappings[curr][3] = False\n",
    "                        new_signal = 0\n",
    "                    else:\n",
    "                        mappings[curr][3] = True\n",
    "                        new_signal = 1\n",
    "\n",
    "                    for target in targets:\n",
    "                        queue.append((target, new_signal, curr))\n",
    "            elif is_con:\n",
    "                state[input] = bool(signal)\n",
    "                if all(state.values()):\n",
    "                    new_signal = 0\n",
    "                else:\n",
    "                    new_signal = 1\n",
    "                for target in targets:\n",
    "                    queue.append((target, new_signal, curr))\n",
    "            else:\n",
    "                for target in targets:\n",
    "                    queue.append((target, signal, curr))\n",
    "\n",
    "    print(f\"Part 2: {answer}\")\n",
    "\n",
    "\n",
    "part_one()\n",
    "part_two()\n"
   ]
  },
  {
   "cell_type": "code",
   "execution_count": null,
   "metadata": {},
   "outputs": [],
   "source": []
  },
  {
   "cell_type": "code",
   "execution_count": null,
   "metadata": {},
   "outputs": [],
   "source": []
  }
 ],
 "metadata": {
  "kernelspec": {
   "display_name": "aoc",
   "language": "python",
   "name": "python3"
  },
  "language_info": {
   "codemirror_mode": {
    "name": "ipython",
    "version": 3
   },
   "file_extension": ".py",
   "mimetype": "text/x-python",
   "name": "python",
   "nbconvert_exporter": "python",
   "pygments_lexer": "ipython3",
   "version": "3.10.13"
  }
 },
 "nbformat": 4,
 "nbformat_minor": 2
}
