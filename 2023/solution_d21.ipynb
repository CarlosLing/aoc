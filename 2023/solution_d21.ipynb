{
 "cells": [
  {
   "cell_type": "code",
   "execution_count": 1,
   "metadata": {},
   "outputs": [],
   "source": [
    "from aoc2023 import day1\n",
    "from aoc2023 import maps\n",
    "import numpy as np\n",
    "import functools"
   ]
  },
  {
   "cell_type": "code",
   "execution_count": 86,
   "metadata": {},
   "outputs": [],
   "source": [
    "data = \"\"\"...........\n",
    ".....###.#.\n",
    ".###.##..#.\n",
    "..#.#...#..\n",
    "....#.#....\n",
    ".##..S####.\n",
    ".##..#...#.\n",
    ".......##..\n",
    ".##.#.####.\n",
    ".##..##.##.\n",
    "...........\n",
    "\"\"\""
   ]
  },
  {
   "cell_type": "code",
   "execution_count": 94,
   "metadata": {},
   "outputs": [],
   "source": [
    "data = day1.read_data_string(\"input.txt\")\n",
    "# data = day1.read_data_string(\"input_sample.txt\")\n",
    "lines = day1.split_data(data) \n",
    "paragraphs = [day1.split_data_p(paragraph) for paragraph in day1.split_data_paragraphs(data)]"
   ]
  },
  {
   "cell_type": "code",
   "execution_count": 95,
   "metadata": {},
   "outputs": [],
   "source": [
    "directions = {\n",
    "    \"R\": (0,1),\n",
    "    \"L\": (0,-1),\n",
    "    \"D\": (1,0),\n",
    "    \"U\": (-1,0)\n",
    "}"
   ]
  },
  {
   "cell_type": "code",
   "execution_count": 96,
   "metadata": {},
   "outputs": [],
   "source": [
    "for i in range(len(lines)): \n",
    "    found=False\n",
    "    for j in range(len(lines[i])): \n",
    "        if lines[i][j] == \"S\": \n",
    "            found = True\n",
    "            start_tile = (i,j)\n",
    "            break\n",
    "    if found: \n",
    "        break"
   ]
  },
  {
   "cell_type": "code",
   "execution_count": 97,
   "metadata": {},
   "outputs": [],
   "source": [
    "initial_tiles = [start_tile]\n",
    "next_tiles = [start_tile]"
   ]
  },
  {
   "cell_type": "code",
   "execution_count": 98,
   "metadata": {},
   "outputs": [],
   "source": [
    "def tile_is_garden(tile, map): \n",
    "    if (tile[0] >= 0 and tile[0] < len(map[0])) and (tile[1] >= 0 and tile[1] < len(map)):\n",
    "        tile_content = map[tile[0]][tile[1]]\n",
    "        if tile_content == '#': \n",
    "            return False\n",
    "        else:\n",
    "            return True\n",
    "    else: \n",
    "        return False\n",
    "\n",
    "def tile_is_garden_2(tile, map): \n",
    "    tile_x = tile[0] % len(map[0])\n",
    "    tile_y = tile[1] % len(map)\n",
    "    tile_content = map[tile_x][tile_y]\n",
    "    if tile_content == '#': \n",
    "        return False\n",
    "    else:\n",
    "        return True\n",
    "\n",
    "def sum_tuples(t1, t2):\n",
    "    return tuple(a+b for a, b in zip(t1, t2))"
   ]
  },
  {
   "cell_type": "code",
   "execution_count": 99,
   "metadata": {},
   "outputs": [
    {
     "name": "stdout",
     "output_type": "stream",
     "text": [
      "(0, 1)\n",
      "(0, -1)\n",
      "(1, 0)\n",
      "(-1, 0)\n"
     ]
    }
   ],
   "source": [
    "for d in directions.values(): \n",
    "    print(d)"
   ]
  },
  {
   "cell_type": "code",
   "execution_count": 100,
   "metadata": {},
   "outputs": [],
   "source": [
    "\n",
    "initial_tiles = [start_tile]\n",
    "for i in range(64):\n",
    "    next_tiles = set()\n",
    "    for tile in initial_tiles:\n",
    "        for d in directions.values(): \n",
    "            new_tile = sum_tuples(tile, d)\n",
    "            if tile_is_garden(new_tile, lines): \n",
    "                next_tiles.add(new_tile)\n",
    "    initial_tiles = next_tiles\n",
    "            "
   ]
  },
  {
   "cell_type": "code",
   "execution_count": 101,
   "metadata": {},
   "outputs": [],
   "source": [
    "from tqdm import tqdm"
   ]
  },
  {
   "cell_type": "code",
   "execution_count": 102,
   "metadata": {},
   "outputs": [
    {
     "data": {
      "text/plain": [
       "65"
      ]
     },
     "execution_count": 102,
     "metadata": {},
     "output_type": "execute_result"
    }
   ],
   "source": [
    "26501365%len(lines)"
   ]
  },
  {
   "cell_type": "code",
   "execution_count": 112,
   "metadata": {},
   "outputs": [
    {
     "data": {
      "text/plain": [
       "196"
      ]
     },
     "execution_count": 112,
     "metadata": {},
     "output_type": "execute_result"
    }
   ],
   "source": [
    "65 + len(lines) "
   ]
  },
  {
   "cell_type": "code",
   "execution_count": 107,
   "metadata": {},
   "outputs": [
    {
     "data": {
      "text/plain": [
       "202300"
      ]
     },
     "execution_count": 107,
     "metadata": {},
     "output_type": "execute_result"
    }
   ],
   "source": [
    "26501365//len(lines)"
   ]
  },
  {
   "cell_type": "code",
   "execution_count": 111,
   "metadata": {},
   "outputs": [
    {
     "data": {
      "text/plain": [
       "131"
      ]
     },
     "execution_count": 111,
     "metadata": {},
     "output_type": "execute_result"
    }
   ],
   "source": [
    "len(lines)"
   ]
  },
  {
   "cell_type": "code",
   "execution_count": 113,
   "metadata": {},
   "outputs": [],
   "source": [
    "a_0 = len_tiles[64]\n",
    "a_1 = len_tiles[195]\n",
    "a_2 = len_tiles[326]"
   ]
  },
  {
   "cell_type": "code",
   "execution_count": 114,
   "metadata": {},
   "outputs": [],
   "source": [
    "x_0 = a_0\n",
    "x_2 = (a_2 -2*a_1+a_0)/2\n",
    "x_1 = a_1-x_2-x_0"
   ]
  },
  {
   "cell_type": "code",
   "execution_count": 123,
   "metadata": {},
   "outputs": [
    {
     "data": {
      "text/plain": [
       "92857"
      ]
     },
     "execution_count": 123,
     "metadata": {},
     "output_type": "execute_result"
    }
   ],
   "source": [
    "a_2"
   ]
  },
  {
   "cell_type": "code",
   "execution_count": 117,
   "metadata": {},
   "outputs": [],
   "source": [
    "def f(x): \n",
    "    return x_0 +x_1*x +x_2*x*x"
   ]
  },
  {
   "cell_type": "code",
   "execution_count": 124,
   "metadata": {},
   "outputs": [
    {
     "data": {
      "text/plain": [
       "606188414811259.0"
      ]
     },
     "execution_count": 124,
     "metadata": {},
     "output_type": "execute_result"
    }
   ],
   "source": [
    "f(202300)"
   ]
  },
  {
   "cell_type": "code",
   "execution_count": null,
   "metadata": {},
   "outputs": [],
   "source": [
    "327"
   ]
  },
  {
   "cell_type": "code",
   "execution_count": null,
   "metadata": {},
   "outputs": [],
   "source": [
    "len(lines)"
   ]
  },
  {
   "cell_type": "code",
   "execution_count": 105,
   "metadata": {},
   "outputs": [
    {
     "name": "stderr",
     "output_type": "stream",
     "text": [
      "100%|██████████| 327/327 [00:25<00:00, 12.68it/s] \n"
     ]
    }
   ],
   "source": [
    "initial_tiles = [start_tile]\n",
    "len_tiles = []\n",
    "for i in tqdm(range(327)):\n",
    "    next_tiles = set()\n",
    "    for tile in initial_tiles:\n",
    "        for d in directions.values(): \n",
    "            new_tile = sum_tuples(tile, d)\n",
    "            if tile_is_garden_2(new_tile, lines): \n",
    "                next_tiles.add(new_tile)\n",
    "    initial_tiles = next_tiles\n",
    "    len_tiles.append(len(initial_tiles))"
   ]
  },
  {
   "cell_type": "code",
   "execution_count": 108,
   "metadata": {},
   "outputs": [
    {
     "data": {
      "text/plain": [
       "92857"
      ]
     },
     "execution_count": 108,
     "metadata": {},
     "output_type": "execute_result"
    }
   ],
   "source": [
    "len_tiles[-1]"
   ]
  },
  {
   "cell_type": "code",
   "execution_count": null,
   "metadata": {},
   "outputs": [
    {
     "data": {
      "text/plain": [
       "3646"
      ]
     },
     "execution_count": 56,
     "metadata": {},
     "output_type": "execute_result"
    }
   ],
   "source": [
    "len(next_tiles)"
   ]
  },
  {
   "cell_type": "code",
   "execution_count": null,
   "metadata": {},
   "outputs": [],
   "source": []
  }
 ],
 "metadata": {
  "kernelspec": {
   "display_name": "aoc",
   "language": "python",
   "name": "python3"
  },
  "language_info": {
   "codemirror_mode": {
    "name": "ipython",
    "version": 3
   },
   "file_extension": ".py",
   "mimetype": "text/x-python",
   "name": "python",
   "nbconvert_exporter": "python",
   "pygments_lexer": "ipython3",
   "version": "3.10.13"
  }
 },
 "nbformat": 4,
 "nbformat_minor": 2
}
