{
 "cells": [
  {
   "cell_type": "code",
   "execution_count": 1,
   "metadata": {},
   "outputs": [],
   "source": [
    "from aoc2023 import day1\n",
    "from aoc2023 import maps\n",
    "import numpy as np\n",
    "import functools"
   ]
  },
  {
   "cell_type": "code",
   "execution_count": 2,
   "metadata": {},
   "outputs": [],
   "source": [
    "data = \"\"\"#.#####################\n",
    "#.......#########...###\n",
    "#######.#########.#.###\n",
    "###.....#.>.>.###.#.###\n",
    "###v#####.#v#.###.#.###\n",
    "###.>...#.#.#.....#...#\n",
    "###v###.#.#.#########.#\n",
    "###...#.#.#.......#...#\n",
    "#####.#.#.#######.#.###\n",
    "#.....#.#.#.......#...#\n",
    "#.#####.#.#.#########v#\n",
    "#.#...#...#...###...>.#\n",
    "#.#.#v#######v###.###v#\n",
    "#...#.>.#...>.>.#.###.#\n",
    "#####v#.#.###v#.#.###.#\n",
    "#.....#...#...#.#.#...#\n",
    "#.#########.###.#.#.###\n",
    "#...###...#...#...#.###\n",
    "###.###.#.###v#####v###\n",
    "#...#...#.#.>.>.#.>.###\n",
    "#.###.###.#.###.#.#v###\n",
    "#.....###...###...#...#\n",
    "#####################.#\n",
    "\"\"\""
   ]
  },
  {
   "cell_type": "code",
   "execution_count": 30,
   "metadata": {},
   "outputs": [],
   "source": [
    "\n",
    "import sys\n",
    "sys.setrecursionlimit(30000) "
   ]
  },
  {
   "cell_type": "code",
   "execution_count": 17,
   "metadata": {},
   "outputs": [],
   "source": [
    "data = day1.read_data_string(\"input.txt\")\n",
    "# data = day1.read_data_string(\"input_sample.txt\")\n",
    "lines = day1.split_data(data) \n",
    "paragraphs = [day1.split_data_p(paragraph) for paragraph in day1.split_data_paragraphs(data)]"
   ]
  },
  {
   "cell_type": "code",
   "execution_count": 18,
   "metadata": {},
   "outputs": [],
   "source": [
    "directions = {\n",
    "    \">\": (0,1),\n",
    "    \"<\": (0,-1),\n",
    "    \"v\": (1,0),\n",
    "    \"^\": (-1,0)\n",
    "}\n",
    "all_dirs = []\n",
    "for k, v in directions.items(): \n",
    "    all_dirs.append(v)"
   ]
  },
  {
   "cell_type": "code",
   "execution_count": 19,
   "metadata": {},
   "outputs": [],
   "source": [
    "h = len(lines)\n",
    "w = len(lines[0])\n"
   ]
  },
  {
   "cell_type": "code",
   "execution_count": null,
   "metadata": {},
   "outputs": [],
   "source": []
  },
  {
   "cell_type": "code",
   "execution_count": 20,
   "metadata": {},
   "outputs": [],
   "source": [
    "first_tile = (0,1)\n",
    "visited = set()\n",
    "visited.add(first_tile)\n",
    "final_tile = (h-1,w-2)"
   ]
  },
  {
   "cell_type": "code",
   "execution_count": 21,
   "metadata": {},
   "outputs": [],
   "source": [
    "def tile_is_valid(tile, map): \n",
    "    if (tile[0] >= 0 and tile[0] < len(map[0])) and (tile[1] >= 0 and tile[1] < len(map)):\n",
    "        tile_content = map[tile[0]][tile[1]]\n",
    "        if tile_content == '#': \n",
    "            return False\n",
    "        else:\n",
    "            return True\n",
    "    else: \n",
    "        return False"
   ]
  },
  {
   "cell_type": "code",
   "execution_count": 22,
   "metadata": {},
   "outputs": [],
   "source": [
    "def tile_directions(tile, map):\n",
    "    tile_content = map[tile[0]][tile[1]]\n",
    "    if tile_content in directions.keys(): \n",
    "        dirs = [directions[tile_content]]\n",
    "    else: \n",
    "        dirs = all_dirs.copy()\n",
    "    return(dirs)\n"
   ]
  },
  {
   "cell_type": "code",
   "execution_count": 23,
   "metadata": {},
   "outputs": [],
   "source": [
    "def sum_tuples(t1, t2):\n",
    "    return tuple(a+b for a, b in zip(t1, t2))"
   ]
  },
  {
   "cell_type": "code",
   "execution_count": 24,
   "metadata": {},
   "outputs": [],
   "source": [
    "def next_tiles(tile, directions, map, visited_tiles): \n",
    "    n_tiles = []\n",
    "    for d in directions: \n",
    "        t = sum_tuples(d, tile)\n",
    "        if tile_is_valid(tile, map): \n",
    "            if not t in visited_tiles: \n",
    "                n_tiles.append(t)\n",
    "    return(n_tiles)\n"
   ]
  },
  {
   "cell_type": "code",
   "execution_count": 11,
   "metadata": {},
   "outputs": [],
   "source": [
    "def max_path(current_tile, visited_tiles, map): \n",
    "    v_tiles = visited_tiles.copy()\n",
    "    while current_tile != final_tile: \n",
    "        v_tiles.add(current_tile)\n",
    "        dirs = tile_directions(current_tile, map)\n",
    "        n_tiles = next_tiles(current_tile, dirs, map, v_tiles)\n",
    "        # print(n_tiles)\n",
    "        if len(n_tiles)>1:\n",
    "            distances = []\n",
    "            for t in n_tiles: \n",
    "                distances.append(max_path(t,v_tiles,map))\n",
    "            return max(distances)\n",
    "        elif len(n_tiles)==1:\n",
    "            current_tile = n_tiles[0]\n",
    "        else: \n",
    "            return(0) \n",
    "    return len(v_tiles)"
   ]
  },
  {
   "cell_type": "code",
   "execution_count": 25,
   "metadata": {},
   "outputs": [],
   "source": [
    "def max_path_2(current_tile, visited_tiles, map): \n",
    "    v_tiles = visited_tiles.copy()\n",
    "    while current_tile != final_tile: \n",
    "        v_tiles.add(current_tile)\n",
    "        dirs = all_dirs\n",
    "        n_tiles = next_tiles(current_tile, dirs, map, v_tiles)\n",
    "        # print(n_tiles)\n",
    "        if len(n_tiles)>1:\n",
    "            distances = []\n",
    "            for t in n_tiles: \n",
    "                distances.append(max_path_2(t,v_tiles,map))\n",
    "            return max(distances)\n",
    "        elif len(n_tiles)==1:\n",
    "            current_tile = n_tiles[0]\n",
    "        else: \n",
    "            return(0) \n",
    "    return len(v_tiles)"
   ]
  },
  {
   "cell_type": "code",
   "execution_count": null,
   "metadata": {},
   "outputs": [],
   "source": [
    "# Create graph: \n",
    "# nodes: \n",
    "def find_nodes(nodes=):"
   ]
  },
  {
   "cell_type": "code",
   "execution_count": 26,
   "metadata": {},
   "outputs": [],
   "source": [
    "first_tile = (0,1)\n",
    "visited = set()\n",
    "visited.add(first_tile)\n",
    "final_tile = (h-1,w-2)"
   ]
  },
  {
   "cell_type": "code",
   "execution_count": null,
   "metadata": {},
   "outputs": [],
   "source": []
  },
  {
   "cell_type": "code",
   "execution_count": 37,
   "metadata": {},
   "outputs": [],
   "source": [
    "# %debug\n",
    "p1 = max_path(first_tile, visited, lines)"
   ]
  },
  {
   "cell_type": "code",
   "execution_count": 38,
   "metadata": {},
   "outputs": [
    {
     "data": {
      "text/plain": [
       "2214"
      ]
     },
     "execution_count": 38,
     "metadata": {},
     "output_type": "execute_result"
    }
   ],
   "source": [
    "p1"
   ]
  },
  {
   "cell_type": "code",
   "execution_count": 31,
   "metadata": {},
   "outputs": [
    {
     "ename": "KeyboardInterrupt",
     "evalue": "",
     "output_type": "error",
     "traceback": [
      "\u001b[0;31m---------------------------------------------------------------------------\u001b[0m",
      "\u001b[0;31mKeyboardInterrupt\u001b[0m                         Traceback (most recent call last)",
      "Cell \u001b[0;32mIn[31], line 1\u001b[0m\n\u001b[0;32m----> 1\u001b[0m p2 \u001b[38;5;241m=\u001b[39m \u001b[43mmax_path_2\u001b[49m\u001b[43m(\u001b[49m\u001b[43mfirst_tile\u001b[49m\u001b[43m,\u001b[49m\u001b[43m \u001b[49m\u001b[43mvisited\u001b[49m\u001b[43m,\u001b[49m\u001b[43m \u001b[49m\u001b[43mlines\u001b[49m\u001b[43m)\u001b[49m\n",
      "Cell \u001b[0;32mIn[25], line 11\u001b[0m, in \u001b[0;36mmax_path_2\u001b[0;34m(current_tile, visited_tiles, map)\u001b[0m\n\u001b[1;32m      9\u001b[0m     distances \u001b[38;5;241m=\u001b[39m []\n\u001b[1;32m     10\u001b[0m     \u001b[38;5;28;01mfor\u001b[39;00m t \u001b[38;5;129;01min\u001b[39;00m n_tiles: \n\u001b[0;32m---> 11\u001b[0m         distances\u001b[38;5;241m.\u001b[39mappend(\u001b[43mmax_path_2\u001b[49m\u001b[43m(\u001b[49m\u001b[43mt\u001b[49m\u001b[43m,\u001b[49m\u001b[43mv_tiles\u001b[49m\u001b[43m,\u001b[49m\u001b[38;5;28;43mmap\u001b[39;49m\u001b[43m)\u001b[49m)\n\u001b[1;32m     12\u001b[0m     \u001b[38;5;28;01mreturn\u001b[39;00m \u001b[38;5;28mmax\u001b[39m(distances)\n\u001b[1;32m     13\u001b[0m \u001b[38;5;28;01melif\u001b[39;00m \u001b[38;5;28mlen\u001b[39m(n_tiles)\u001b[38;5;241m==\u001b[39m\u001b[38;5;241m1\u001b[39m:\n",
      "Cell \u001b[0;32mIn[25], line 11\u001b[0m, in \u001b[0;36mmax_path_2\u001b[0;34m(current_tile, visited_tiles, map)\u001b[0m\n\u001b[1;32m      9\u001b[0m     distances \u001b[38;5;241m=\u001b[39m []\n\u001b[1;32m     10\u001b[0m     \u001b[38;5;28;01mfor\u001b[39;00m t \u001b[38;5;129;01min\u001b[39;00m n_tiles: \n\u001b[0;32m---> 11\u001b[0m         distances\u001b[38;5;241m.\u001b[39mappend(\u001b[43mmax_path_2\u001b[49m\u001b[43m(\u001b[49m\u001b[43mt\u001b[49m\u001b[43m,\u001b[49m\u001b[43mv_tiles\u001b[49m\u001b[43m,\u001b[49m\u001b[38;5;28;43mmap\u001b[39;49m\u001b[43m)\u001b[49m)\n\u001b[1;32m     12\u001b[0m     \u001b[38;5;28;01mreturn\u001b[39;00m \u001b[38;5;28mmax\u001b[39m(distances)\n\u001b[1;32m     13\u001b[0m \u001b[38;5;28;01melif\u001b[39;00m \u001b[38;5;28mlen\u001b[39m(n_tiles)\u001b[38;5;241m==\u001b[39m\u001b[38;5;241m1\u001b[39m:\n",
      "    \u001b[0;31m[... skipping similar frames: max_path_2 at line 11 (5082 times)]\u001b[0m\n",
      "Cell \u001b[0;32mIn[25], line 11\u001b[0m, in \u001b[0;36mmax_path_2\u001b[0;34m(current_tile, visited_tiles, map)\u001b[0m\n\u001b[1;32m      9\u001b[0m     distances \u001b[38;5;241m=\u001b[39m []\n\u001b[1;32m     10\u001b[0m     \u001b[38;5;28;01mfor\u001b[39;00m t \u001b[38;5;129;01min\u001b[39;00m n_tiles: \n\u001b[0;32m---> 11\u001b[0m         distances\u001b[38;5;241m.\u001b[39mappend(\u001b[43mmax_path_2\u001b[49m\u001b[43m(\u001b[49m\u001b[43mt\u001b[49m\u001b[43m,\u001b[49m\u001b[43mv_tiles\u001b[49m\u001b[43m,\u001b[49m\u001b[38;5;28;43mmap\u001b[39;49m\u001b[43m)\u001b[49m)\n\u001b[1;32m     12\u001b[0m     \u001b[38;5;28;01mreturn\u001b[39;00m \u001b[38;5;28mmax\u001b[39m(distances)\n\u001b[1;32m     13\u001b[0m \u001b[38;5;28;01melif\u001b[39;00m \u001b[38;5;28mlen\u001b[39m(n_tiles)\u001b[38;5;241m==\u001b[39m\u001b[38;5;241m1\u001b[39m:\n",
      "Cell \u001b[0;32mIn[25], line 2\u001b[0m, in \u001b[0;36mmax_path_2\u001b[0;34m(current_tile, visited_tiles, map)\u001b[0m\n\u001b[1;32m      1\u001b[0m \u001b[38;5;28;01mdef\u001b[39;00m \u001b[38;5;21mmax_path_2\u001b[39m(current_tile, visited_tiles, \u001b[38;5;28mmap\u001b[39m): \n\u001b[0;32m----> 2\u001b[0m     v_tiles \u001b[38;5;241m=\u001b[39m \u001b[43mvisited_tiles\u001b[49m\u001b[38;5;241;43m.\u001b[39;49m\u001b[43mcopy\u001b[49m\u001b[43m(\u001b[49m\u001b[43m)\u001b[49m\n\u001b[1;32m      3\u001b[0m     \u001b[38;5;28;01mwhile\u001b[39;00m current_tile \u001b[38;5;241m!=\u001b[39m final_tile: \n\u001b[1;32m      4\u001b[0m         v_tiles\u001b[38;5;241m.\u001b[39madd(current_tile)\n",
      "\u001b[0;31mKeyboardInterrupt\u001b[0m: "
     ]
    }
   ],
   "source": [
    "\n",
    "p2 = max_path_2(first_tile, visited, lines)"
   ]
  },
  {
   "cell_type": "code",
   "execution_count": 16,
   "metadata": {},
   "outputs": [
    {
     "data": {
      "text/plain": [
       "154"
      ]
     },
     "execution_count": 16,
     "metadata": {},
     "output_type": "execute_result"
    }
   ],
   "source": [
    "p2"
   ]
  },
  {
   "cell_type": "code",
   "execution_count": 33,
   "metadata": {},
   "outputs": [
    {
     "name": "stdout",
     "output_type": "stream",
     "text": [
      "2214\n",
      "6594\n"
     ]
    }
   ],
   "source": [
    "data = lines\n",
    "# Part 1\n",
    "edges = {}\n",
    "for r, row in enumerate(data):\n",
    "    for c, v in enumerate(row):\n",
    "        if v == \".\":\n",
    "            for dr, dc in [(-1, 0), (0, -1), (0, 1), (1, 0)]:\n",
    "                ar, ac = r + dr, c + dc\n",
    "                if not (0 <= ar < len(data) and 0 <= ac < len(row)):\n",
    "                    continue\n",
    "                if data[ar][ac] == \".\":\n",
    "                    edges.setdefault((r, c), set()).add((ar, ac))\n",
    "                    edges.setdefault((ar, ac), set()).add((r, c))\n",
    "        if v == \">\":\n",
    "            edges.setdefault((r, c), set()).add((r, c + 1))\n",
    "            edges.setdefault((r, c - 1), set()).add((r, c))\n",
    "        if v == \"v\":\n",
    "            edges.setdefault((r, c), set()).add((r + 1, c))\n",
    "            edges.setdefault((r - 1, c), set()).add((r, c))\n",
    "\n",
    "n, m = len(data), len(data[0])\n",
    "\n",
    "q = [(0, 1, 0)]\n",
    "visited = set()\n",
    "best = 0\n",
    "while q:\n",
    "    r, c, d = q.pop()\n",
    "    if d == -1:\n",
    "        visited.remove((r, c))\n",
    "        continue\n",
    "    if (r, c) == (n - 1, m - 2):\n",
    "        best = max(best, d)\n",
    "        continue\n",
    "    if (r, c) in visited:\n",
    "        continue\n",
    "    visited.add((r, c))\n",
    "    q.append((r, c, -1))\n",
    "    for ar, ac in edges[(r, c)]:\n",
    "        q.append((ar, ac, d + 1))\n",
    "print(best)\n",
    "\n",
    "# Part 2\n",
    "edges = {}  # (r, c) -> (ar, ac, length)\n",
    "for r, row in enumerate(data):\n",
    "    for c, v in enumerate(row):\n",
    "        if v in \".>v\":\n",
    "            for dr, dc in [(-1, 0), (0, -1), (0, 1), (1, 0)]:\n",
    "                ar, ac = r + dr, c + dc\n",
    "                if not (0 <= ar < len(data) and 0 <= ac < len(row)):\n",
    "                    continue\n",
    "                if data[ar][ac] in \".>v\":\n",
    "                    edges.setdefault((r, c), set()).add((ar, ac, 1))\n",
    "                    edges.setdefault((ar, ac), set()).add((r, c, 1))\n",
    "\n",
    "# Remove nodes with degree 2 by merging the edges\n",
    "while True:\n",
    "    for n, e in edges.items():\n",
    "        if len(e) == 2:\n",
    "            a, b = e\n",
    "            edges[a[:2]].remove(n + (a[2],))\n",
    "            edges[b[:2]].remove(n + (b[2],))\n",
    "            edges[a[:2]].add((b[0], b[1], a[2] + b[2]))\n",
    "            edges[b[:2]].add((a[0], a[1], a[2] + b[2]))\n",
    "            del edges[n]\n",
    "            break\n",
    "    else:\n",
    "        break\n",
    "\n",
    "n, m = len(data), len(data[0])\n",
    "\n",
    "q = [(0, 1, 0)]\n",
    "visited = set()\n",
    "best = 0\n",
    "while q:\n",
    "    r, c, d = q.pop()\n",
    "    if d == -1:\n",
    "        visited.remove((r, c))\n",
    "        continue\n",
    "    if (r, c) == (n - 1, m - 2):\n",
    "        best = max(best, d)\n",
    "        continue\n",
    "    if (r, c) in visited:\n",
    "        continue\n",
    "    visited.add((r, c))\n",
    "    q.append((r, c, -1))\n",
    "    for ar, ac, l in edges[(r, c)]:\n",
    "        q.append((ar, ac, d + l))\n",
    "print(best)"
   ]
  },
  {
   "cell_type": "code",
   "execution_count": null,
   "metadata": {},
   "outputs": [],
   "source": []
  }
 ],
 "metadata": {
  "kernelspec": {
   "display_name": "aoc",
   "language": "python",
   "name": "python3"
  },
  "language_info": {
   "codemirror_mode": {
    "name": "ipython",
    "version": 3
   },
   "file_extension": ".py",
   "mimetype": "text/x-python",
   "name": "python",
   "nbconvert_exporter": "python",
   "pygments_lexer": "ipython3",
   "version": "3.10.13"
  }
 },
 "nbformat": 4,
 "nbformat_minor": 2
}
