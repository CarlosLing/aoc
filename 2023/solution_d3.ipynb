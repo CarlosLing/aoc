{
 "cells": [
  {
   "cell_type": "code",
   "execution_count": 2,
   "metadata": {},
   "outputs": [],
   "source": [
    "from aoc2023 import day1"
   ]
  },
  {
   "cell_type": "code",
   "execution_count": 3,
   "metadata": {},
   "outputs": [],
   "source": [
    "data = day1.read_data_string(\"inputs/d3.txt\")"
   ]
  },
  {
   "cell_type": "code",
   "execution_count": 4,
   "metadata": {},
   "outputs": [],
   "source": [
    "lines = day1.split_data(data) \n"
   ]
  },
  {
   "cell_type": "code",
   "execution_count": 69,
   "metadata": {},
   "outputs": [],
   "source": [
    "data = \"\"\"467..114..\n",
    "...*......\n",
    "..35..633.\n",
    "......#...\n",
    "617*......\n",
    ".....+.58.\n",
    "..592.....\n",
    "......755.\n",
    "...$.*....\n",
    ".664.598..\n",
    "\"\"\"\n"
   ]
  },
  {
   "cell_type": "code",
   "execution_count": 127,
   "metadata": {},
   "outputs": [],
   "source": [
    "lines = day1.split_data(data) "
   ]
  },
  {
   "cell_type": "code",
   "execution_count": 5,
   "metadata": {},
   "outputs": [],
   "source": [
    "import numpy as np"
   ]
  },
  {
   "cell_type": "code",
   "execution_count": 6,
   "metadata": {},
   "outputs": [],
   "source": [
    "motors = [[int((not char in \"0123456789\") and (char != \".\")) for char in line]for line in lines]"
   ]
  },
  {
   "cell_type": "code",
   "execution_count": 132,
   "metadata": {},
   "outputs": [
    {
     "data": {
      "text/plain": [
       "array([[0, 0, 0, ..., 0, 0, 0],\n",
       "       [0, 0, 0, ..., 0, 0, 0],\n",
       "       [0, 0, 0, ..., 0, 0, 0],\n",
       "       ...,\n",
       "       [0, 0, 0, ..., 0, 0, 0],\n",
       "       [0, 0, 0, ..., 0, 0, 0],\n",
       "       [0, 0, 0, ..., 0, 0, 0]])"
      ]
     },
     "execution_count": 132,
     "metadata": {},
     "output_type": "execute_result"
    }
   ],
   "source": [
    "np.array(motors)"
   ]
  },
  {
   "cell_type": "code",
   "execution_count": 7,
   "metadata": {},
   "outputs": [],
   "source": [
    "import re\n",
    "def find_positions(s):\n",
    "    pattern = re.compile(r'\\d+')\n",
    "    matches = pattern.finditer(s)\n",
    "    positions = [(m.group(), (m.start(), m.end()-1)) for m in matches]\n",
    "    return positions"
   ]
  },
  {
   "cell_type": "code",
   "execution_count": null,
   "metadata": {},
   "outputs": [],
   "source": []
  },
  {
   "cell_type": "code",
   "execution_count": 8,
   "metadata": {},
   "outputs": [],
   "source": [
    "def check_submatrix(matrix, i, i_n, j, j_n):\n",
    "    # Ensure indexes are within matrix dimensions\n",
    "    i = max(0, i)\n",
    "    i_n = min(len(matrix), i_n)\n",
    "    j = max(0, j)\n",
    "    j_n = min(len(matrix[0]), j_n)\n",
    "\n",
    "    # Check submatrix for any 1s\n",
    "    for x in range(i, i_n):\n",
    "        for y in range(j, j_n):\n",
    "            if matrix[x][y] == 1:\n",
    "                return True\n",
    "    return False"
   ]
  },
  {
   "cell_type": "code",
   "execution_count": 10,
   "metadata": {},
   "outputs": [],
   "source": [
    "sum = 0\n",
    "list_numbers = []\n",
    "for i in range(len(lines)): \n",
    "    for number, positions in find_positions(lines[i]): \n",
    "        if check_submatrix(motors, i-1, i+2, positions[0]-1, positions[1]+2): \n",
    "            #print(number)\n",
    "            sum += int(number)\n",
    "            list_numbers.append(int(number))"
   ]
  },
  {
   "cell_type": "code",
   "execution_count": 11,
   "metadata": {},
   "outputs": [
    {
     "data": {
      "text/plain": [
       "519444"
      ]
     },
     "execution_count": 11,
     "metadata": {},
     "output_type": "execute_result"
    }
   ],
   "source": [
    "sum"
   ]
  },
  {
   "cell_type": "code",
   "execution_count": 13,
   "metadata": {},
   "outputs": [],
   "source": []
  },
  {
   "cell_type": "code",
   "execution_count": 19,
   "metadata": {},
   "outputs": [],
   "source": [
    "\n",
    "import numpy as np\n",
    "from scipy import sparse\n",
    "\n",
    "# Create a numpy array\n",
    "gears = [[int(char == \"*\") for char in line]for line in lines]\n",
    "gears = np.array(gears)\n",
    "\n",
    "# Convert numpy array to sparse matrix (CSR method)\n",
    "gears = sparse.coo_matrix(gears)\n",
    "gears = list(zip(gears.row, gears.col))"
   ]
  },
  {
   "cell_type": "code",
   "execution_count": null,
   "metadata": {},
   "outputs": [],
   "source": []
  },
  {
   "cell_type": "code",
   "execution_count": 21,
   "metadata": {},
   "outputs": [],
   "source": [
    "gear = gears[0]"
   ]
  },
  {
   "cell_type": "code",
   "execution_count": 22,
   "metadata": {},
   "outputs": [],
   "source": [
    "row, column = gear"
   ]
  },
  {
   "cell_type": "code",
   "execution_count": null,
   "metadata": {},
   "outputs": [],
   "source": [
    "numbers_gears = []\n",
    "for i in range(row - 1, row + 2): \n",
    "    for number, positions in find_positions(lines[i]): \n",
    "        if check_submatrix(motors, i-1, i+2, positions[0]-1, positions[1]+2): \n",
    "            #print(number)\n",
    "            sum += int(number)\n",
    "            list_numbers.append(int(number))"
   ]
  },
  {
   "cell_type": "code",
   "execution_count": 20,
   "metadata": {},
   "outputs": [
    {
     "ename": "SyntaxError",
     "evalue": "incomplete input (103950261.py, line 1)",
     "output_type": "error",
     "traceback": [
      "\u001b[0;36m  Cell \u001b[0;32mIn[20], line 1\u001b[0;36m\u001b[0m\n\u001b[0;31m    for gear in gears:\u001b[0m\n\u001b[0m                       ^\u001b[0m\n\u001b[0;31mSyntaxError\u001b[0m\u001b[0;31m:\u001b[0m incomplete input\n"
     ]
    }
   ],
   "source": [
    "for gear in gears: "
   ]
  },
  {
   "cell_type": "code",
   "execution_count": 18,
   "metadata": {},
   "outputs": [
    {
     "data": {
      "text/plain": [
       "[(1, 4, 1),\n",
       " (1, 55, 1),\n",
       " (1, 75, 1),\n",
       " (1, 123, 1),\n",
       " (2, 13, 1),\n",
       " (2, 100, 1),\n",
       " (2, 103, 1),\n",
       " (3, 23, 1),\n",
       " (3, 66, 1),\n",
       " (3, 77, 1),\n",
       " (4, 87, 1),\n",
       " (5, 32, 1),\n",
       " (5, 34, 1),\n",
       " (6, 11, 1),\n",
       " (6, 81, 1),\n",
       " (6, 120, 1),\n",
       " (7, 67, 1),\n",
       " (8, 36, 1),\n",
       " (8, 64, 1),\n",
       " (8, 130, 1),\n",
       " (9, 83, 1),\n",
       " (9, 89, 1),\n",
       " (9, 107, 1),\n",
       " (10, 118, 1),\n",
       " (11, 21, 1),\n",
       " (11, 35, 1),\n",
       " (12, 7, 1),\n",
       " (12, 53, 1),\n",
       " (12, 83, 1),\n",
       " (12, 105, 1),\n",
       " (13, 4, 1),\n",
       " (13, 30, 1),\n",
       " (13, 45, 1),\n",
       " (13, 116, 1),\n",
       " (13, 127, 1),\n",
       " (13, 131, 1),\n",
       " (14, 21, 1),\n",
       " (14, 58, 1),\n",
       " (14, 110, 1),\n",
       " (15, 86, 1),\n",
       " (17, 78, 1),\n",
       " (18, 54, 1),\n",
       " (18, 75, 1),\n",
       " (18, 131, 1),\n",
       " (19, 83, 1),\n",
       " (20, 3, 1),\n",
       " (20, 115, 1),\n",
       " (21, 9, 1),\n",
       " (21, 48, 1),\n",
       " (21, 67, 1),\n",
       " (21, 100, 1),\n",
       " (21, 127, 1),\n",
       " (22, 30, 1),\n",
       " (22, 54, 1),\n",
       " (22, 57, 1),\n",
       " (22, 75, 1),\n",
       " (23, 23, 1),\n",
       " (23, 38, 1),\n",
       " (23, 65, 1),\n",
       " (23, 83, 1),\n",
       " (23, 97, 1),\n",
       " (24, 5, 1),\n",
       " (25, 126, 1),\n",
       " (26, 41, 1),\n",
       " (26, 53, 1),\n",
       " (26, 115, 1),\n",
       " (26, 131, 1),\n",
       " (27, 10, 1),\n",
       " (27, 57, 1),\n",
       " (27, 97, 1),\n",
       " (27, 124, 1),\n",
       " (28, 17, 1),\n",
       " (28, 77, 1),\n",
       " (28, 101, 1),\n",
       " (28, 135, 1),\n",
       " (29, 131, 1),\n",
       " (30, 46, 1),\n",
       " (30, 64, 1),\n",
       " (30, 123, 1),\n",
       " (31, 26, 1),\n",
       " (31, 39, 1),\n",
       " (31, 88, 1),\n",
       " (32, 5, 1),\n",
       " (32, 20, 1),\n",
       " (32, 29, 1),\n",
       " (32, 55, 1),\n",
       " (32, 59, 1),\n",
       " (32, 123, 1),\n",
       " (33, 105, 1),\n",
       " (33, 114, 1),\n",
       " (34, 46, 1),\n",
       " (34, 93, 1),\n",
       " (34, 128, 1),\n",
       " (36, 32, 1),\n",
       " (36, 40, 1),\n",
       " (37, 6, 1),\n",
       " (37, 36, 1),\n",
       " (37, 101, 1),\n",
       " (38, 72, 1),\n",
       " (38, 86, 1),\n",
       " (38, 93, 1),\n",
       " (39, 19, 1),\n",
       " (39, 28, 1),\n",
       " (39, 55, 1),\n",
       " (39, 61, 1),\n",
       " (39, 79, 1),\n",
       " (39, 106, 1),\n",
       " (39, 134, 1),\n",
       " (40, 15, 1),\n",
       " (40, 44, 1),\n",
       " (40, 119, 1),\n",
       " (41, 7, 1),\n",
       " (41, 72, 1),\n",
       " (42, 12, 1),\n",
       " (42, 30, 1),\n",
       " (42, 114, 1),\n",
       " (43, 98, 1),\n",
       " (44, 23, 1),\n",
       " (44, 60, 1),\n",
       " (44, 68, 1),\n",
       " (44, 130, 1),\n",
       " (45, 9, 1),\n",
       " (45, 27, 1),\n",
       " (45, 114, 1),\n",
       " (46, 43, 1),\n",
       " (47, 87, 1),\n",
       " (47, 130, 1),\n",
       " (48, 3, 1),\n",
       " (48, 51, 1),\n",
       " (48, 107, 1),\n",
       " (48, 135, 1),\n",
       " (49, 73, 1),\n",
       " (51, 13, 1),\n",
       " (51, 105, 1),\n",
       " (52, 79, 1),\n",
       " (52, 115, 1),\n",
       " (52, 122, 1),\n",
       " (53, 70, 1),\n",
       " (53, 75, 1),\n",
       " (53, 128, 1),\n",
       " (53, 134, 1),\n",
       " (54, 29, 1),\n",
       " (54, 64, 1),\n",
       " (54, 112, 1),\n",
       " (55, 6, 1),\n",
       " (55, 120, 1),\n",
       " (56, 31, 1),\n",
       " (56, 68, 1),\n",
       " (56, 78, 1),\n",
       " (56, 89, 1),\n",
       " (58, 24, 1),\n",
       " (58, 45, 1),\n",
       " (58, 53, 1),\n",
       " (58, 63, 1),\n",
       " (58, 105, 1),\n",
       " (59, 84, 1),\n",
       " (59, 91, 1),\n",
       " (60, 4, 1),\n",
       " (61, 13, 1),\n",
       " (61, 23, 1),\n",
       " (61, 76, 1),\n",
       " (61, 103, 1),\n",
       " (61, 111, 1),\n",
       " (61, 117, 1),\n",
       " (62, 54, 1),\n",
       " (63, 38, 1),\n",
       " (63, 83, 1),\n",
       " (63, 90, 1),\n",
       " (63, 124, 1),\n",
       " (64, 15, 1),\n",
       " (64, 24, 1),\n",
       " (65, 3, 1),\n",
       " (65, 41, 1),\n",
       " (66, 57, 1),\n",
       " (66, 109, 1),\n",
       " (66, 115, 1),\n",
       " (66, 130, 1),\n",
       " (67, 78, 1),\n",
       " (67, 122, 1),\n",
       " (67, 135, 1),\n",
       " (68, 29, 1),\n",
       " (69, 67, 1),\n",
       " (69, 115, 1),\n",
       " (70, 37, 1),\n",
       " (70, 80, 1),\n",
       " (71, 59, 1),\n",
       " (72, 64, 1),\n",
       " (73, 6, 1),\n",
       " (73, 89, 1),\n",
       " (74, 47, 1),\n",
       " (74, 94, 1),\n",
       " (74, 113, 1),\n",
       " (75, 125, 1),\n",
       " (76, 18, 1),\n",
       " (76, 42, 1),\n",
       " (76, 62, 1),\n",
       " (76, 120, 1),\n",
       " (77, 74, 1),\n",
       " (77, 89, 1),\n",
       " (77, 102, 1),\n",
       " (78, 12, 1),\n",
       " (78, 50, 1),\n",
       " (78, 97, 1),\n",
       " (79, 58, 1),\n",
       " (79, 124, 1),\n",
       " (80, 83, 1),\n",
       " (82, 101, 1),\n",
       " (83, 27, 1),\n",
       " (83, 59, 1),\n",
       " (83, 85, 1),\n",
       " (83, 131, 1),\n",
       " (84, 15, 1),\n",
       " (85, 43, 1),\n",
       " (85, 46, 1),\n",
       " (85, 107, 1),\n",
       " (86, 27, 1),\n",
       " (86, 94, 1),\n",
       " (86, 113, 1),\n",
       " (88, 3, 1),\n",
       " (88, 9, 1),\n",
       " (88, 13, 1),\n",
       " (88, 46, 1),\n",
       " (89, 70, 1),\n",
       " (89, 79, 1),\n",
       " (89, 136, 1),\n",
       " (90, 20, 1),\n",
       " (90, 28, 1),\n",
       " (90, 64, 1),\n",
       " (92, 82, 1),\n",
       " (93, 24, 1),\n",
       " (93, 69, 1),\n",
       " (93, 97, 1),\n",
       " (93, 106, 1),\n",
       " (93, 124, 1),\n",
       " (93, 129, 1),\n",
       " (94, 117, 1),\n",
       " (95, 7, 1),\n",
       " (95, 62, 1),\n",
       " (95, 65, 1),\n",
       " (95, 102, 1),\n",
       " (95, 109, 1),\n",
       " (96, 18, 1),\n",
       " (96, 28, 1),\n",
       " (96, 112, 1),\n",
       " (97, 43, 1),\n",
       " (97, 93, 1),\n",
       " (98, 33, 1),\n",
       " (98, 39, 1),\n",
       " (98, 131, 1),\n",
       " (99, 27, 1),\n",
       " (99, 66, 1),\n",
       " (99, 73, 1),\n",
       " (99, 123, 1),\n",
       " (100, 56, 1),\n",
       " (100, 128, 1),\n",
       " (101, 10, 1),\n",
       " (101, 24, 1),\n",
       " (101, 48, 1),\n",
       " (101, 103, 1),\n",
       " (102, 37, 1),\n",
       " (102, 63, 1),\n",
       " (102, 80, 1),\n",
       " (103, 82, 1),\n",
       " (103, 118, 1),\n",
       " (104, 20, 1),\n",
       " (104, 74, 1),\n",
       " (104, 107, 1),\n",
       " (104, 121, 1),\n",
       " (105, 6, 1),\n",
       " (105, 25, 1),\n",
       " (105, 37, 1),\n",
       " (105, 46, 1),\n",
       " (105, 89, 1),\n",
       " (106, 14, 1),\n",
       " (106, 55, 1),\n",
       " (106, 130, 1),\n",
       " (107, 65, 1),\n",
       " (108, 30, 1),\n",
       " (108, 35, 1),\n",
       " (108, 78, 1),\n",
       " (108, 102, 1),\n",
       " (109, 120, 1),\n",
       " (110, 9, 1),\n",
       " (110, 75, 1),\n",
       " (110, 95, 1),\n",
       " (111, 54, 1),\n",
       " (113, 31, 1),\n",
       " (113, 114, 1),\n",
       " (113, 135, 1),\n",
       " (114, 63, 1),\n",
       " (114, 89, 1),\n",
       " (114, 125, 1),\n",
       " (115, 47, 1),\n",
       " (115, 75, 1),\n",
       " (115, 95, 1),\n",
       " (116, 12, 1),\n",
       " (116, 18, 1),\n",
       " (116, 54, 1),\n",
       " (117, 33, 1),\n",
       " (117, 99, 1),\n",
       " (118, 78, 1),\n",
       " (118, 125, 1),\n",
       " (119, 51, 1),\n",
       " (119, 68, 1),\n",
       " (120, 8, 1),\n",
       " (120, 76, 1),\n",
       " (121, 5, 1),\n",
       " (121, 135, 1),\n",
       " (122, 21, 1),\n",
       " (122, 102, 1),\n",
       " (122, 114, 1),\n",
       " (123, 18, 1),\n",
       " (123, 35, 1),\n",
       " (123, 44, 1),\n",
       " (123, 63, 1),\n",
       " (123, 70, 1),\n",
       " (123, 92, 1),\n",
       " (123, 124, 1),\n",
       " (124, 98, 1),\n",
       " (125, 10, 1),\n",
       " (125, 21, 1),\n",
       " (126, 26, 1),\n",
       " (126, 133, 1),\n",
       " (127, 41, 1),\n",
       " (127, 67, 1),\n",
       " (127, 100, 1),\n",
       " (128, 62, 1),\n",
       " (128, 116, 1),\n",
       " (129, 30, 1),\n",
       " (129, 89, 1),\n",
       " (129, 97, 1),\n",
       " (130, 3, 1),\n",
       " (130, 71, 1),\n",
       " (130, 82, 1),\n",
       " (131, 36, 1),\n",
       " (131, 112, 1),\n",
       " (132, 9, 1),\n",
       " (132, 46, 1),\n",
       " (132, 57, 1),\n",
       " (132, 92, 1),\n",
       " (133, 3, 1),\n",
       " (133, 66, 1),\n",
       " (133, 102, 1),\n",
       " (133, 117, 1),\n",
       " (134, 94, 1),\n",
       " (135, 42, 1),\n",
       " (135, 114, 1),\n",
       " (136, 83, 1),\n",
       " (136, 98, 1),\n",
       " (136, 122, 1),\n",
       " (136, 130, 1),\n",
       " (137, 13, 1),\n",
       " (137, 70, 1),\n",
       " (137, 87, 1),\n",
       " (138, 7, 1),\n",
       " (138, 33, 1),\n",
       " (138, 59, 1),\n",
       " (138, 109, 1)]"
      ]
     },
     "execution_count": 18,
     "metadata": {},
     "output_type": "execute_result"
    }
   ],
   "source": [
    "gears"
   ]
  },
  {
   "cell_type": "code",
   "execution_count": 117,
   "metadata": {},
   "outputs": [
    {
     "data": {
      "text/plain": [
       "-2311"
      ]
     },
     "execution_count": 117,
     "metadata": {},
     "output_type": "execute_result"
    }
   ],
   "source": [
    "sum - 519444"
   ]
  },
  {
   "cell_type": "code",
   "execution_count": 113,
   "metadata": {},
   "outputs": [],
   "source": [
    "import sys\n",
    "from collections import defaultdict\n",
    "\n",
    "FILE = sys.argv[1] if len(sys.argv) > 1 else \"input.txt\"\n",
    "\n",
    "\n",
    "def is_symbol(val: str):\n",
    "    return not val.isdigit() and val != \".\"\n",
    "\n",
    "\n",
    "def possible_gear(val: str):\n",
    "    return val == \"*\""
   ]
  },
  {
   "cell_type": "code",
   "execution_count": 143,
   "metadata": {},
   "outputs": [
    {
     "name": "stdout",
     "output_type": "stream",
     "text": [
      "Part 1: 519444\n",
      "Part 2: 74528807\n"
     ]
    }
   ],
   "source": [
    "sum = 0\n",
    "list_numbers_2 = []\n",
    "with open(\"input.txt\", \"r\", encoding=\"utf-8\") as f:\n",
    "    schematic = []\n",
    "\n",
    "    for line in f:\n",
    "        line = line.strip()\n",
    "        schematic.append(list(line))\n",
    "\n",
    "    curr_number = None\n",
    "    curr_number_valid = False\n",
    "\n",
    "    possible_gears = defaultdict(list)\n",
    "    next_to_gear = None\n",
    "\n",
    "    for i in range(0, len(schematic)):\n",
    "        if curr_number is not None and curr_number_valid:\n",
    "            list_numbers_2.append(curr_number)\n",
    "            sum += curr_number\n",
    "            if next_to_gear is not None:\n",
    "                possible_gears[next_to_gear].append(curr_number)\n",
    "\n",
    "        curr_number = None\n",
    "        curr_number_valid = False\n",
    "        next_to_gear = None\n",
    "\n",
    "        for j in range(0, len(schematic[i])):\n",
    "            val: str = schematic[i][j]\n",
    "\n",
    "            if val.isdigit():\n",
    "                if curr_number is None:\n",
    "                    curr_number = int(val)\n",
    "                else:\n",
    "                    curr_number = curr_number * 10 + int(val)\n",
    "\n",
    "                # Check in all 8 directions around number to see if valid\n",
    "                for m in [-1, 0, 1]:\n",
    "                    for n in [-1, 0, 1]:\n",
    "                        if i + m >= 0 and i + m < len(schematic) and j + n >= 0 and j + n < len(schematic[i + m]):\n",
    "                            check = schematic[i + m][j + n]\n",
    "                            curr_number_valid |= is_symbol(check)\n",
    "\n",
    "                            if possible_gear(check):\n",
    "                                next_to_gear = (i + m, j + n)\n",
    "\n",
    "            else:\n",
    "                if curr_number is not None:\n",
    "                    if curr_number_valid:\n",
    "                        list_numbers_2.append(curr_number)\n",
    "                        sum += curr_number\n",
    "                        possible_gears[next_to_gear].append(curr_number)\n",
    "\n",
    "                curr_number = None\n",
    "                curr_number_valid = False\n",
    "                next_to_gear = None\n",
    "\n",
    "print(f\"Part 1: {sum}\")\n",
    "\n",
    "sum = 0\n",
    "for nums in possible_gears.values():\n",
    "    if len(nums) == 2:\n",
    "        total = nums[0] * nums[1]\n",
    "        sum += total\n",
    "\n",
    "print(f\"Part 2: {sum}\")"
   ]
  },
  {
   "cell_type": "code",
   "execution_count": 150,
   "metadata": {},
   "outputs": [
    {
     "data": {
      "text/plain": [
       "[565, 325, 841, 725, 609, 131, 536, 462, 60, 424]"
      ]
     },
     "execution_count": 150,
     "metadata": {},
     "output_type": "execute_result"
    }
   ],
   "source": [
    "list_numbers_2[:10]"
   ]
  },
  {
   "cell_type": "code",
   "execution_count": 156,
   "metadata": {},
   "outputs": [
    {
     "name": "stdout",
     "output_type": "stream",
     "text": [
      "[867, 344, 558]\n",
      "[867, 867, 867]\n"
     ]
    }
   ],
   "source": [
    "for i in range(len(list_numbers)): \n",
    "    value = list_numbers[i] - list_numbers_2[i]\n",
    "    if value != 0: \n",
    "        print(list_numbers[i-1:i+2])\n",
    "        print(list_numbers_2[i-1:i+2])\n",
    "        break\n",
    "     "
   ]
  },
  {
   "cell_type": "code",
   "execution_count": 149,
   "metadata": {},
   "outputs": [
    {
     "data": {
      "text/plain": [
       "[565, 325, 841, 725, 609, 131, 536, 462, 60, 424]"
      ]
     },
     "execution_count": 149,
     "metadata": {},
     "output_type": "execute_result"
    }
   ],
   "source": [
    "list_numbers[:10]"
   ]
  },
  {
   "cell_type": "code",
   "execution_count": 145,
   "metadata": {},
   "outputs": [
    {
     "data": {
      "text/plain": [
       "1056"
      ]
     },
     "execution_count": 145,
     "metadata": {},
     "output_type": "execute_result"
    }
   ],
   "source": [
    "len(list_numbers_2)"
   ]
  },
  {
   "cell_type": "code",
   "execution_count": 146,
   "metadata": {},
   "outputs": [
    {
     "data": {
      "text/plain": [
       "1053"
      ]
     },
     "execution_count": 146,
     "metadata": {},
     "output_type": "execute_result"
    }
   ],
   "source": [
    "len(list_numbers)"
   ]
  },
  {
   "cell_type": "code",
   "execution_count": 158,
   "metadata": {},
   "outputs": [
    {
     "ename": "TypeError",
     "evalue": "'int' object is not callable",
     "output_type": "error",
     "traceback": [
      "\u001b[0;31m---------------------------------------------------------------------------\u001b[0m",
      "\u001b[0;31mTypeError\u001b[0m                                 Traceback (most recent call last)",
      "\u001b[1;32m/Users/carlos.garcia2/Documents/personal/aoc2023/solution_d3.ipynb Cell 26\u001b[0m line \u001b[0;36m1\n\u001b[0;32m----> <a href='vscode-notebook-cell:/Users/carlos.garcia2/Documents/personal/aoc2023/solution_d3.ipynb#X64sZmlsZQ%3D%3D?line=0'>1</a>\u001b[0m \u001b[39msum\u001b[39;49m(list_numbers_2)\n",
      "\u001b[0;31mTypeError\u001b[0m: 'int' object is not callable"
     ]
    }
   ],
   "source": [
    "sum(list_numbers_2)"
   ]
  },
  {
   "cell_type": "code",
   "execution_count": 161,
   "metadata": {},
   "outputs": [
    {
     "data": {
      "text/plain": [
       "519444"
      ]
     },
     "execution_count": 161,
     "metadata": {},
     "output_type": "execute_result"
    }
   ],
   "source": [
    "np.array(list_numbers_2).sum()\n"
   ]
  },
  {
   "cell_type": "code",
   "execution_count": null,
   "metadata": {},
   "outputs": [],
   "source": []
  }
 ],
 "metadata": {
  "kernelspec": {
   "display_name": "aoc",
   "language": "python",
   "name": "python3"
  },
  "language_info": {
   "codemirror_mode": {
    "name": "ipython",
    "version": 3
   },
   "file_extension": ".py",
   "mimetype": "text/x-python",
   "name": "python",
   "nbconvert_exporter": "python",
   "pygments_lexer": "ipython3",
   "version": "3.10.13"
  }
 },
 "nbformat": 4,
 "nbformat_minor": 2
}
