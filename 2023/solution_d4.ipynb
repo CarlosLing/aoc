{
 "cells": [
  {
   "cell_type": "code",
   "execution_count": 38,
   "metadata": {},
   "outputs": [],
   "source": [
    "from aoc2023 import day1\n",
    "import numpy as np"
   ]
  },
  {
   "cell_type": "code",
   "execution_count": 57,
   "metadata": {},
   "outputs": [],
   "source": [
    "data = day1.read_data_string(\"input.txt\")\n",
    "lines = day1.split_data(data) \n",
    "# paragraphs = [day1.split_data(paragraph) for paragraph in day1.split_data_paragraphs(data)]"
   ]
  },
  {
   "cell_type": "code",
   "execution_count": 48,
   "metadata": {},
   "outputs": [],
   "source": [
    "data = \"\"\"Card 1: 41 48 83 86 17 | 83 86  6 31 17  9 48 53\n",
    "Card 2: 13 32 20 16 61 | 61 30 68 82 17 32 24 19\n",
    "Card 3:  1 21 53 59 44 | 69 82 63 72 16 21 14  1\n",
    "Card 4: 41 92 73 84 69 | 59 84 76 51 58  5 54 83\n",
    "Card 5: 87 83 26 28 32 | 88 30 70 12 93 22 82 36\n",
    "Card 6: 31 18 13 56 72 | 74 77 10 23 35 67 36 11\n",
    "\"\"\"\n",
    "lines = day1.split_data(data) "
   ]
  },
  {
   "cell_type": "code",
   "execution_count": 58,
   "metadata": {},
   "outputs": [],
   "source": [
    "line = lines[0]"
   ]
  },
  {
   "cell_type": "code",
   "execution_count": 59,
   "metadata": {},
   "outputs": [],
   "source": [
    "n_cards = len(lines)"
   ]
  },
  {
   "cell_type": "code",
   "execution_count": 60,
   "metadata": {},
   "outputs": [],
   "source": [
    "cards = list(np.ones(n_cards))"
   ]
  },
  {
   "cell_type": "code",
   "execution_count": 61,
   "metadata": {},
   "outputs": [],
   "source": [
    "cards = np.ones(n_cards)\n",
    "for i in range(n_cards): \n",
    "    line = lines[i]\n",
    "    winning, card = line.split(\":\")[-1].split(\"|\")\n",
    "    winning = {int(number) for number in winning.split(\" \") if len(number) > 0}\n",
    "    card = {int(number) for number in card.split(\" \") if len(number) > 0}\n",
    "    inter = len(card.intersection(winning))\n",
    "    for j in range(inter): \n",
    "        if i+1+j < n_cards: \n",
    "            cards[i+1+j] = cards[i+1+j] + cards[i]\n",
    "    if inter > 0: \n",
    "        sum += np.power(2, inter-1)"
   ]
  },
  {
   "cell_type": "code",
   "execution_count": 62,
   "metadata": {},
   "outputs": [
    {
     "data": {
      "text/plain": [
       "11827296.0"
      ]
     },
     "execution_count": 62,
     "metadata": {},
     "output_type": "execute_result"
    }
   ],
   "source": [
    "cards.sum()"
   ]
  },
  {
   "cell_type": "code",
   "execution_count": null,
   "metadata": {},
   "outputs": [],
   "source": []
  },
  {
   "cell_type": "code",
   "execution_count": null,
   "metadata": {},
   "outputs": [],
   "source": []
  },
  {
   "cell_type": "code",
   "execution_count": 34,
   "metadata": {},
   "outputs": [],
   "source": [
    "sum = 0 \n",
    "for line in lines: \n",
    "    winning, card = line.split(\":\")[-1].split(\"|\")\n",
    "    winning = {int(number) for number in winning.split(\" \") if len(number) > 0}\n",
    "    card = {int(number) for number in card.split(\" \") if len(number) > 0}\n",
    "    inter = len(card.intersection(winning))\n",
    "    if inter > 0: \n",
    "        sum += np.power(2, inter-1)"
   ]
  },
  {
   "cell_type": "code",
   "execution_count": 31,
   "metadata": {},
   "outputs": [],
   "source": [
    "cards"
   ]
  },
  {
   "cell_type": "code",
   "execution_count": 33,
   "metadata": {},
   "outputs": [
    {
     "data": {
      "text/plain": [
       "1"
      ]
     },
     "execution_count": 33,
     "metadata": {},
     "output_type": "execute_result"
    }
   ],
   "source": [
    "np.power(2, 0)"
   ]
  },
  {
   "cell_type": "code",
   "execution_count": 35,
   "metadata": {},
   "outputs": [
    {
     "data": {
      "text/plain": [
       "21568"
      ]
     },
     "execution_count": 35,
     "metadata": {},
     "output_type": "execute_result"
    }
   ],
   "source": [
    "sum"
   ]
  },
  {
   "cell_type": "code",
   "execution_count": 19,
   "metadata": {},
   "outputs": [],
   "source": [
    "winning = {int(number) for number in winning.split(\" \") if len(number) > 0}\n",
    "card = {int(number) for number in card.split(\" \") if len(number) > 0}"
   ]
  },
  {
   "cell_type": "code",
   "execution_count": 21,
   "metadata": {},
   "outputs": [
    {
     "data": {
      "text/plain": [
       "10"
      ]
     },
     "execution_count": 21,
     "metadata": {},
     "output_type": "execute_result"
    }
   ],
   "source": [
    "len(card.intersection(winning))"
   ]
  },
  {
   "cell_type": "code",
   "execution_count": 16,
   "metadata": {},
   "outputs": [
    {
     "data": {
      "text/plain": [
       "[96,\n",
       " 33,\n",
       " 86,\n",
       " 53,\n",
       " 15,\n",
       " 82,\n",
       " 50,\n",
       " 85,\n",
       " 61,\n",
       " 8,\n",
       " 98,\n",
       " 72,\n",
       " 43,\n",
       " 63,\n",
       " 45,\n",
       " 78,\n",
       " 87,\n",
       " 69,\n",
       " 10,\n",
       " 34,\n",
       " 73,\n",
       " 88,\n",
       " 65,\n",
       " 27,\n",
       " 19]"
      ]
     },
     "execution_count": 16,
     "metadata": {},
     "output_type": "execute_result"
    }
   ],
   "source": [
    "card"
   ]
  },
  {
   "cell_type": "code",
   "execution_count": null,
   "metadata": {},
   "outputs": [],
   "source": []
  }
 ],
 "metadata": {
  "kernelspec": {
   "display_name": "aoc",
   "language": "python",
   "name": "python3"
  },
  "language_info": {
   "codemirror_mode": {
    "name": "ipython",
    "version": 3
   },
   "file_extension": ".py",
   "mimetype": "text/x-python",
   "name": "python",
   "nbconvert_exporter": "python",
   "pygments_lexer": "ipython3",
   "version": "3.10.13"
  }
 },
 "nbformat": 4,
 "nbformat_minor": 2
}
