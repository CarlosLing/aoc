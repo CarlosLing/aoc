{
 "cells": [
  {
   "cell_type": "code",
   "execution_count": 1,
   "metadata": {},
   "outputs": [],
   "source": [
    "from aoc2023 import day1\n",
    "import numpy as np"
   ]
  },
  {
   "cell_type": "code",
   "execution_count": null,
   "metadata": {},
   "outputs": [],
   "source": []
  },
  {
   "cell_type": "code",
   "execution_count": 2,
   "metadata": {},
   "outputs": [],
   "source": [
    "data = day1.read_data_string(\"input.txt\")\n",
    "lines = day1.split_data(data) \n",
    "paragraphs = [day1.split_data_p(paragraph) for paragraph in day1.split_data_paragraphs(data)]"
   ]
  },
  {
   "cell_type": "code",
   "execution_count": 3,
   "metadata": {},
   "outputs": [
    {
     "data": {
      "text/plain": [
       "['XQB', 'GFH']"
      ]
     },
     "execution_count": 3,
     "metadata": {},
     "output_type": "execute_result"
    }
   ],
   "source": [
    "lines[2].split(\"=\")[1].replace(\" \", \"\")[1:-1].split(\",\")"
   ]
  },
  {
   "cell_type": "code",
   "execution_count": 4,
   "metadata": {},
   "outputs": [],
   "source": [
    "map = {}\n",
    "for line in lines[2:]:\n",
    "    node = line.split(\"=\")[0].replace(\" \", \"\") \n",
    "    l , r = line.split(\"=\")[1].replace(\" \", \"\")[1:-1].split(\",\")\n",
    "    map[node] = {\"L\":l, \"R\":r}\n",
    "    "
   ]
  },
  {
   "cell_type": "code",
   "execution_count": 5,
   "metadata": {},
   "outputs": [],
   "source": [
    "guide = lines[0]"
   ]
  },
  {
   "cell_type": "code",
   "execution_count": 6,
   "metadata": {},
   "outputs": [],
   "source": [
    "starts = [x for x in list(map.keys()) if x[-1] == \"A\"]\n",
    "ends = [x for x in list(map.keys()) if x[-1] == \"Z\"]"
   ]
  },
  {
   "cell_type": "code",
   "execution_count": 8,
   "metadata": {},
   "outputs": [
    {
     "data": {
      "text/plain": [
       "['NBA', 'SXA', 'JVA', 'XVA', 'AAA', 'GRA']"
      ]
     },
     "execution_count": 8,
     "metadata": {},
     "output_type": "execute_result"
    }
   ],
   "source": [
    "starts\n",
    "# ends"
   ]
  },
  {
   "cell_type": "code",
   "execution_count": null,
   "metadata": {},
   "outputs": [],
   "source": [
    "for node in starts: \n",
    "    visited \n",
    "    current_node = \"AAA\"\n",
    "    steps = 0 \n",
    "    while current_node != \"ZZZ\": \n",
    "        for d in guide: \n",
    "            current_node = map[current_node][d]\n",
    "            steps += 1 \n",
    "            if current_node == \"ZZZ\": \n",
    "                break"
   ]
  },
  {
   "cell_type": "code",
   "execution_count": 23,
   "metadata": {},
   "outputs": [],
   "source": [
    "current_node = \"AAA\"\n",
    "steps = 0 \n",
    "while current_node != \"ZZZ\": \n",
    "    for d in guide: \n",
    "        current_node = map[current_node][d]\n",
    "        steps += 1 \n",
    "        if current_node == \"ZZZ\": \n",
    "            break"
   ]
  },
  {
   "cell_type": "code",
   "execution_count": null,
   "metadata": {},
   "outputs": [],
   "source": [
    "current_node = \"AAA\"\n",
    "    steps = 0 \n",
    "    while current_node != \"ZZZ\": \n",
    "        for d in guide: \n",
    "            current_node = map[current_node][d]\n",
    "            steps += 1 \n",
    "            if current_node == \"ZZZ\": \n",
    "                break"
   ]
  },
  {
   "cell_type": "code",
   "execution_count": null,
   "metadata": {},
   "outputs": [],
   "source": []
  },
  {
   "cell_type": "code",
   "execution_count": 48,
   "metadata": {},
   "outputs": [],
   "source": [
    "nodes = [x for x in list(map.keys()) if x[-1] == \"A\"]\n",
    "ends = [x for x in list(map.keys()) if x[-1] == \"Z\"]"
   ]
  },
  {
   "cell_type": "code",
   "execution_count": 49,
   "metadata": {},
   "outputs": [],
   "source": [
    "finished = False\n",
    "steps = 0 \n",
    "while not finished: \n",
    "    for d in guide: \n",
    "        steps += 1 \n",
    "        for i in range(len(nodes)):\n",
    "            nodes[i] = map[nodes[i]][d]\n",
    "        finished = set(nodes) == set(ends)\n",
    "        if finished: \n",
    "            break\n"
   ]
  },
  {
   "cell_type": "code",
   "execution_count": 47,
   "metadata": {},
   "outputs": [
    {
     "data": {
      "text/plain": [
       "341528327"
      ]
     },
     "execution_count": 47,
     "metadata": {},
     "output_type": "execute_result"
    }
   ],
   "source": [
    "steps"
   ]
  },
  {
   "cell_type": "code",
   "execution_count": 33,
   "metadata": {},
   "outputs": [
    {
     "data": {
      "text/plain": [
       "193752172"
      ]
     },
     "execution_count": 33,
     "metadata": {},
     "output_type": "execute_result"
    }
   ],
   "source": [
    "steps"
   ]
  },
  {
   "cell_type": "code",
   "execution_count": null,
   "metadata": {},
   "outputs": [],
   "source": []
  }
 ],
 "metadata": {
  "kernelspec": {
   "display_name": "aoc",
   "language": "python",
   "name": "python3"
  },
  "language_info": {
   "codemirror_mode": {
    "name": "ipython",
    "version": 3
   },
   "file_extension": ".py",
   "mimetype": "text/x-python",
   "name": "python",
   "nbconvert_exporter": "python",
   "pygments_lexer": "ipython3",
   "version": "3.10.13"
  }
 },
 "nbformat": 4,
 "nbformat_minor": 2
}
