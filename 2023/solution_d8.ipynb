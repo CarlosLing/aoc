{
 "cells": [
  {
   "cell_type": "code",
   "execution_count": 1,
   "metadata": {},
   "outputs": [],
   "source": [
    "from aoc2023 import day1\n",
    "import numpy as np"
   ]
  },
  {
   "cell_type": "code",
   "execution_count": null,
   "metadata": {},
   "outputs": [],
   "source": []
  },
  {
   "cell_type": "code",
   "execution_count": 2,
   "metadata": {},
   "outputs": [],
   "source": [
    "data = day1.read_data_string(\"input.txt\")\n",
    "lines = day1.split_data(data) \n",
    "paragraphs = [day1.split_data_p(paragraph) for paragraph in day1.split_data_paragraphs(data)]"
   ]
  },
  {
   "cell_type": "code",
   "execution_count": 3,
   "metadata": {},
   "outputs": [
    {
     "data": {
      "text/plain": [
       "['XQB', 'GFH']"
      ]
     },
     "execution_count": 3,
     "metadata": {},
     "output_type": "execute_result"
    }
   ],
   "source": [
    "lines[2].split(\"=\")[1].replace(\" \", \"\")[1:-1].split(\",\")"
   ]
  },
  {
   "cell_type": "code",
   "execution_count": 4,
   "metadata": {},
   "outputs": [],
   "source": [
    "map = {}\n",
    "for line in lines[2:]:\n",
    "    node = line.split(\"=\")[0].replace(\" \", \"\") \n",
    "    l , r = line.split(\"=\")[1].replace(\" \", \"\")[1:-1].split(\",\")\n",
    "    map[node] = {\"L\":l, \"R\":r}\n",
    "    "
   ]
  },
  {
   "cell_type": "code",
   "execution_count": 5,
   "metadata": {},
   "outputs": [],
   "source": [
    "guide = lines[0]"
   ]
  },
  {
   "cell_type": "code",
   "execution_count": 6,
   "metadata": {},
   "outputs": [],
   "source": [
    "starts = [x for x in list(map.keys()) if x[-1] == \"A\"]\n",
    "ends = [x for x in list(map.keys()) if x[-1] == \"Z\"]"
   ]
  },
  {
   "cell_type": "code",
   "execution_count": 7,
   "metadata": {},
   "outputs": [
    {
     "data": {
      "text/plain": [
       "['PSZ', 'VTZ', 'ZZZ', 'VGZ', 'BVZ', 'BPZ']"
      ]
     },
     "execution_count": 7,
     "metadata": {},
     "output_type": "execute_result"
    }
   ],
   "source": [
    "starts\n",
    "ends"
   ]
  },
  {
   "cell_type": "code",
   "execution_count": 8,
   "metadata": {},
   "outputs": [],
   "source": [
    "current_node = \"AAA\"\n",
    "steps = 0 \n",
    "while current_node != \"ZZZ\": \n",
    "    for d in guide: \n",
    "        current_node = map[current_node][d]\n",
    "        steps += 1 \n",
    "        if current_node == \"ZZZ\": \n",
    "            break"
   ]
  },
  {
   "cell_type": "code",
   "execution_count": null,
   "metadata": {},
   "outputs": [],
   "source": [
    "current_node = \"AAA\"\n",
    "    steps = 0 \n",
    "    while current_node != \"ZZZ\": \n",
    "        for d in guide: \n",
    "            current_node = map[current_node][d]\n",
    "            steps += 1 \n",
    "            if current_node == \"ZZZ\": \n",
    "                break"
   ]
  },
  {
   "cell_type": "code",
   "execution_count": null,
   "metadata": {},
   "outputs": [],
   "source": []
  },
  {
   "cell_type": "code",
   "execution_count": 9,
   "metadata": {},
   "outputs": [],
   "source": [
    "nodes = [x for x in list(map.keys()) if x[-1] == \"A\"]\n",
    "ends = [x for x in list(map.keys()) if x[-1] == \"Z\"]"
   ]
  },
  {
   "cell_type": "code",
   "execution_count": 10,
   "metadata": {},
   "outputs": [],
   "source": [
    "from math import lcm"
   ]
  },
  {
   "cell_type": "code",
   "execution_count": 12,
   "metadata": {},
   "outputs": [
    {
     "name": "stdout",
     "output_type": "stream",
     "text": [
      "NBA\n",
      "13939\n",
      "SXA\n",
      "17621\n",
      "JVA\n",
      "11309\n",
      "XVA\n",
      "20777\n",
      "AAA\n",
      "19199\n",
      "GRA\n",
      "15517\n"
     ]
    }
   ],
   "source": [
    "step_list = []\n",
    "for node in nodes: \n",
    "    current_node = node\n",
    "    print(current_node)\n",
    "    steps = 0 \n",
    "    while current_node[-1] != \"Z\": \n",
    "        for d in guide: \n",
    "            current_node = map[current_node][d]\n",
    "            steps += 1 \n",
    "            if current_node[-1] == \"Z\": \n",
    "                step_list.append(steps)\n",
    "                print(steps)\n",
    "                break\n",
    "\n",
    "                "
   ]
  },
  {
   "cell_type": "code",
   "execution_count": 15,
   "metadata": {},
   "outputs": [
    {
     "data": {
      "text/plain": [
       "13663968099527"
      ]
     },
     "execution_count": 15,
     "metadata": {},
     "output_type": "execute_result"
    }
   ],
   "source": [
    "lcm(*step_list)"
   ]
  },
  {
   "cell_type": "code",
   "execution_count": null,
   "metadata": {},
   "outputs": [],
   "source": []
  },
  {
   "cell_type": "code",
   "execution_count": null,
   "metadata": {},
   "outputs": [],
   "source": []
  },
  {
   "cell_type": "code",
   "execution_count": null,
   "metadata": {},
   "outputs": [],
   "source": []
  },
  {
   "cell_type": "code",
   "execution_count": 52,
   "metadata": {},
   "outputs": [
    {
     "ename": "KeyboardInterrupt",
     "evalue": "",
     "output_type": "error",
     "traceback": [
      "\u001b[0;31m---------------------------------------------------------------------------\u001b[0m",
      "\u001b[0;31mKeyboardInterrupt\u001b[0m                         Traceback (most recent call last)",
      "\u001b[1;32m/Users/carlos.garcia2/Documents/personal/aoc2023/solution_d8.ipynb Cell 13\u001b[0m line \u001b[0;36m7\n\u001b[1;32m      <a href='vscode-notebook-cell:/Users/carlos.garcia2/Documents/personal/aoc2023/solution_d8.ipynb#X16sZmlsZQ%3D%3D?line=4'>5</a>\u001b[0m steps \u001b[39m+\u001b[39m\u001b[39m=\u001b[39m \u001b[39m1\u001b[39m \n\u001b[1;32m      <a href='vscode-notebook-cell:/Users/carlos.garcia2/Documents/personal/aoc2023/solution_d8.ipynb#X16sZmlsZQ%3D%3D?line=5'>6</a>\u001b[0m \u001b[39mfor\u001b[39;00m i \u001b[39min\u001b[39;00m \u001b[39mrange\u001b[39m(\u001b[39mlen\u001b[39m(nodes)):\n\u001b[0;32m----> <a href='vscode-notebook-cell:/Users/carlos.garcia2/Documents/personal/aoc2023/solution_d8.ipynb#X16sZmlsZQ%3D%3D?line=6'>7</a>\u001b[0m     nodes[i] \u001b[39m=\u001b[39m \u001b[39mmap\u001b[39m[nodes[i]][d]\n\u001b[1;32m      <a href='vscode-notebook-cell:/Users/carlos.garcia2/Documents/personal/aoc2023/solution_d8.ipynb#X16sZmlsZQ%3D%3D?line=7'>8</a>\u001b[0m finished \u001b[39m=\u001b[39m \u001b[39mTrue\u001b[39;00m\n\u001b[1;32m      <a href='vscode-notebook-cell:/Users/carlos.garcia2/Documents/personal/aoc2023/solution_d8.ipynb#X16sZmlsZQ%3D%3D?line=8'>9</a>\u001b[0m \u001b[39mfor\u001b[39;00m node \u001b[39min\u001b[39;00m nodes: \n",
      "\u001b[0;31mKeyboardInterrupt\u001b[0m: "
     ]
    }
   ],
   "source": [
    "finished = False\n",
    "steps = 0 \n",
    "while not finished: \n",
    "    for d in guide: \n",
    "        steps += 1 \n",
    "        for i in range(len(nodes)):\n",
    "            nodes[i] = map[nodes[i]][d]\n",
    "        finished = True\n",
    "        for node in nodes: \n",
    "            if node[-1] == \"Z\": \n",
    "                finished = False \n",
    "                break\n",
    "        if finished: \n",
    "            break\n"
   ]
  },
  {
   "cell_type": "code",
   "execution_count": 47,
   "metadata": {},
   "outputs": [
    {
     "data": {
      "text/plain": [
       "341528327"
      ]
     },
     "execution_count": 47,
     "metadata": {},
     "output_type": "execute_result"
    }
   ],
   "source": [
    "steps"
   ]
  },
  {
   "cell_type": "code",
   "execution_count": 33,
   "metadata": {},
   "outputs": [
    {
     "data": {
      "text/plain": [
       "193752172"
      ]
     },
     "execution_count": 33,
     "metadata": {},
     "output_type": "execute_result"
    }
   ],
   "source": [
    "steps"
   ]
  },
  {
   "cell_type": "code",
   "execution_count": null,
   "metadata": {},
   "outputs": [],
   "source": []
  }
 ],
 "metadata": {
  "kernelspec": {
   "display_name": "aoc",
   "language": "python",
   "name": "python3"
  },
  "language_info": {
   "codemirror_mode": {
    "name": "ipython",
    "version": 3
   },
   "file_extension": ".py",
   "mimetype": "text/x-python",
   "name": "python",
   "nbconvert_exporter": "python",
   "pygments_lexer": "ipython3",
   "version": "3.10.13"
  }
 },
 "nbformat": 4,
 "nbformat_minor": 2
}
