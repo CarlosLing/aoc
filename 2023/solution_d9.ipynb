{
 "cells": [
  {
   "cell_type": "code",
   "execution_count": 2,
   "metadata": {},
   "outputs": [],
   "source": [
    "from aoc2023 import day1\n",
    "import numpy as np"
   ]
  },
  {
   "cell_type": "code",
   "execution_count": 3,
   "metadata": {},
   "outputs": [],
   "source": [
    "data = day1.read_data_string(\"input.txt\")\n",
    "lines = day1.split_data(data) \n",
    "paragraphs = [day1.split_data_p(paragraph) for paragraph in day1.split_data_paragraphs(data)]"
   ]
  },
  {
   "cell_type": "code",
   "execution_count": 13,
   "metadata": {},
   "outputs": [],
   "source": [
    "values = np.array([int(x) for x in lines[0].split(\" \")])"
   ]
  },
  {
   "cell_type": "code",
   "execution_count": 16,
   "metadata": {},
   "outputs": [],
   "source": [
    "p1 = 0\n",
    "for line in lines: \n",
    "    values = np.array([int(x) for x in line.split(\" \")])\n",
    "    registry = []\n",
    "    while len(values) > 1: \n",
    "        registry.append(values[-1])\n",
    "        values = values[1:]-values[:-1]\n",
    "    \n",
    "    \n",
    "    p1 += sum(registry)\n",
    "    "
   ]
  },
  {
   "cell_type": "code",
   "execution_count": 29,
   "metadata": {},
   "outputs": [],
   "source": [
    "p2 = 0\n",
    "for line in lines: \n",
    "    values = np.array([int(x) for x in line.split(\" \")])\n",
    "    registry = []\n",
    "    while len(values) > 1: \n",
    "        registry.append(values[0])\n",
    "        values = values[1:]-values[:-1]\n",
    "    \n",
    "    minus_one = (np.array(registry[::2]) - np.array(registry[1::2])).sum()\n",
    "    p2 += minus_one\n",
    "    "
   ]
  },
  {
   "cell_type": "code",
   "execution_count": 30,
   "metadata": {},
   "outputs": [
    {
     "data": {
      "text/plain": [
       "1050"
      ]
     },
     "execution_count": 30,
     "metadata": {},
     "output_type": "execute_result"
    }
   ],
   "source": [
    "p2\n"
   ]
  },
  {
   "cell_type": "code",
   "execution_count": 28,
   "metadata": {},
   "outputs": [
    {
     "data": {
      "text/plain": [
       "[3154263,\n",
       " 1014969,\n",
       " 287932,\n",
       " 67588,\n",
       " 11079,\n",
       " 235,\n",
       " -622,\n",
       " -247,\n",
       " -51,\n",
       " -5,\n",
       " 0,\n",
       " 0,\n",
       " 0,\n",
       " 0,\n",
       " 0,\n",
       " 0,\n",
       " 0,\n",
       " 0,\n",
       " 0,\n",
       " 0]"
      ]
     },
     "execution_count": 28,
     "metadata": {},
     "output_type": "execute_result"
    }
   ],
   "source": [
    "registry"
   ]
  },
  {
   "cell_type": "code",
   "execution_count": 27,
   "metadata": {},
   "outputs": [
    {
     "data": {
      "text/plain": [
       "array([3154263,  287932,   11079,    -622,     -51,       0,       0,\n",
       "             0,       0,       0])"
      ]
     },
     "execution_count": 27,
     "metadata": {},
     "output_type": "execute_result"
    }
   ],
   "source": [
    "np.array(registry[::2])"
   ]
  },
  {
   "cell_type": "code",
   "execution_count": 24,
   "metadata": {},
   "outputs": [
    {
     "data": {
      "text/plain": [
       "2370061"
      ]
     },
     "execution_count": 24,
     "metadata": {},
     "output_type": "execute_result"
    }
   ],
   "source": [
    "(np.array(registry[::2]) - np.array(registry[1::2])).sum()"
   ]
  },
  {
   "cell_type": "code",
   "execution_count": 19,
   "metadata": {},
   "outputs": [
    {
     "data": {
      "text/plain": [
       "[3154263, 287932, 11079, -622, -51, 0, 0, 0, 0, 0]"
      ]
     },
     "execution_count": 19,
     "metadata": {},
     "output_type": "execute_result"
    }
   ],
   "source": [
    "np.array(registry[::2])"
   ]
  },
  {
   "cell_type": "code",
   "execution_count": 17,
   "metadata": {},
   "outputs": [
    {
     "data": {
      "text/plain": [
       "1708206096"
      ]
     },
     "execution_count": 17,
     "metadata": {},
     "output_type": "execute_result"
    }
   ],
   "source": [
    "p1"
   ]
  },
  {
   "cell_type": "code",
   "execution_count": 7,
   "metadata": {},
   "outputs": [
    {
     "data": {
      "text/plain": [
       "[4,\n",
       " 7,\n",
       " 14,\n",
       " 17,\n",
       " 8,\n",
       " -3,\n",
       " 40,\n",
       " 284,\n",
       " 1054,\n",
       " 3047,\n",
       " 7774,\n",
       " 18514,\n",
       " 42224,\n",
       " 93097,\n",
       " 198790,\n",
       " 410780,\n",
       " 820904,\n",
       " 1587039,\n",
       " 2972406,\n",
       " 5405827,\n",
       " 9575760]"
      ]
     },
     "execution_count": 7,
     "metadata": {},
     "output_type": "execute_result"
    }
   ],
   "source": [
    "condition = 0 while condition: \n",
    "    values"
   ]
  },
  {
   "cell_type": "code",
   "execution_count": null,
   "metadata": {},
   "outputs": [],
   "source": []
  }
 ],
 "metadata": {
  "kernelspec": {
   "display_name": "aoc",
   "language": "python",
   "name": "python3"
  },
  "language_info": {
   "codemirror_mode": {
    "name": "ipython",
    "version": 3
   },
   "file_extension": ".py",
   "mimetype": "text/x-python",
   "name": "python",
   "nbconvert_exporter": "python",
   "pygments_lexer": "ipython3",
   "version": "3.10.13"
  }
 },
 "nbformat": 4,
 "nbformat_minor": 2
}
