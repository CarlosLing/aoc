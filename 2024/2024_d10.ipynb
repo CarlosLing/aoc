{
 "cells": [
  {
   "cell_type": "code",
   "execution_count": 1,
   "metadata": {},
   "outputs": [],
   "source": [
    "! cp /Users/carlos.garcia2/Downloads/input.txt inputs/input.txt"
   ]
  },
  {
   "cell_type": "code",
   "execution_count": 27,
   "metadata": {},
   "outputs": [],
   "source": [
    "from typing import List, Tuple\n",
    "from utils.input import AOCInput\n",
    "from utils.matrix import AOCMatrix\n",
    "import re\n",
    "import numpy as np"
   ]
  },
  {
   "cell_type": "code",
   "execution_count": 32,
   "metadata": {},
   "outputs": [],
   "source": [
    "data = AOCInput(\"inputs/sample_input.txt\")"
   ]
  },
  {
   "cell_type": "code",
   "execution_count": 72,
   "metadata": {},
   "outputs": [],
   "source": [
    "data = AOCInput(\"inputs/input.txt\")"
   ]
  },
  {
   "cell_type": "code",
   "execution_count": 73,
   "metadata": {},
   "outputs": [],
   "source": [
    "map = data.get_lines()\n",
    "# sequence = \"2333133121414131402\"\n",
    "map = [[int(x) for x in y] for y in map[:-1]]   "
   ]
  },
  {
   "cell_type": "code",
   "execution_count": 74,
   "metadata": {},
   "outputs": [],
   "source": [
    "trails = [[set() for _ in range(len(map[0]))] for _ in range(len(map))]"
   ]
  },
  {
   "cell_type": "code",
   "execution_count": 79,
   "metadata": {},
   "outputs": [],
   "source": [
    "trails=np.zeros((len(map), len(map[0])))\n",
    "for i in range(10):\n",
    "    for j in range(len(map)):\n",
    "        for k in range(len(map[0])):\n",
    "            if map[j][k] == i:\n",
    "                if i == 0: \n",
    "                    trails[j][k] = 1\n",
    "                else: \n",
    "                    if j > 0 and map[j-1][k] == (i - 1):\n",
    "                        trails[j][k] += trails[j-1][k]\n",
    "                    if j < len(map) - 1 and map[j+1][k]  == (i - 1):\n",
    "                        trails[j][k] += trails[j+1][k]\n",
    "                    if k > 0 and map[j][k-1]  == (i - 1):\n",
    "                        trails[j][k] += trails[j][k-1]\n",
    "                    if k < len(map[0]) - 1 and map[j][k+1]  == (i - 1):\n",
    "                        trails[j][k] += trails[j][k+1]\n"
   ]
  },
  {
   "cell_type": "code",
   "execution_count": 81,
   "metadata": {},
   "outputs": [],
   "source": [
    "sum = 0 \n",
    "for i in range(len(map)):\n",
    "    for j in range(len(map[0])):\n",
    "        if map[i][j] == 9:\n",
    "            sum += trails[i][j]"
   ]
  },
  {
   "cell_type": "code",
   "execution_count": 82,
   "metadata": {},
   "outputs": [
    {
     "data": {
      "text/plain": [
       "1651.0"
      ]
     },
     "execution_count": 82,
     "metadata": {},
     "output_type": "execute_result"
    }
   ],
   "source": [
    "sum"
   ]
  },
  {
   "cell_type": "code",
   "execution_count": null,
   "metadata": {},
   "outputs": [],
   "source": [
    "\n",
    "for i in range(10):\n",
    "    for j in range(len(map)):\n",
    "        for k in range(len(map[0])):\n",
    "            if map[j][k] == i:\n",
    "                if i == 0: \n",
    "                    trails[j][k].add(f\"{j},{k}\")\n",
    "                else: \n",
    "                    if j > 0 and map[j-1][k] == (i - 1):\n",
    "                        trails[j][k].update(trails[j-1][k])\n",
    "                    if j < len(map) - 1 and map[j+1][k]  == (i - 1):\n",
    "                        trails[j][k].update(trails[j+1][k])\n",
    "                    if k > 0 and map[j][k-1]  == (i - 1):\n",
    "                        trails[j][k].update(trails[j][k-1])\n",
    "                    if k < len(map[0]) - 1 and map[j][k+1]  == (i - 1):\n",
    "                        trails[j][k].update(trails[j][k+1])\n"
   ]
  },
  {
   "cell_type": "code",
   "execution_count": 77,
   "metadata": {},
   "outputs": [],
   "source": [
    "sum = 0 \n",
    "for i in range(len(map)):\n",
    "    for j in range(len(map[0])):\n",
    "        if map[i][j] == 9:\n",
    "            sum += len(trails[i][j])"
   ]
  },
  {
   "cell_type": "code",
   "execution_count": 78,
   "metadata": {},
   "outputs": [
    {
     "data": {
      "text/plain": [
       "744"
      ]
     },
     "execution_count": 78,
     "metadata": {},
     "output_type": "execute_result"
    }
   ],
   "source": [
    "sum"
   ]
  }
 ],
 "metadata": {
  "kernelspec": {
   "display_name": "sandbox-occam",
   "language": "python",
   "name": "python3"
  },
  "language_info": {
   "codemirror_mode": {
    "name": "ipython",
    "version": 3
   },
   "file_extension": ".py",
   "mimetype": "text/x-python",
   "name": "python",
   "nbconvert_exporter": "python",
   "pygments_lexer": "ipython3",
   "version": "3.10.14"
  }
 },
 "nbformat": 4,
 "nbformat_minor": 2
}
