{
 "cells": [
  {
   "cell_type": "code",
   "execution_count": 1,
   "metadata": {},
   "outputs": [],
   "source": [
    "! cp /Users/carlos.garcia2/Downloads/input.txt inputs/input.txt"
   ]
  },
  {
   "cell_type": "code",
   "execution_count": 27,
   "metadata": {},
   "outputs": [],
   "source": [
    "from typing import List, Tuple\n",
    "from utils.input import AOCInput\n",
    "from utils.matrix import AOCMatrix\n",
    "import re\n",
    "import numpy as np"
   ]
  },
  {
   "cell_type": "code",
   "execution_count": 32,
   "metadata": {},
   "outputs": [],
   "source": [
    "data = AOCInput(\"inputs/sample_input.txt\")"
   ]
  },
  {
   "cell_type": "code",
   "execution_count": 72,
   "metadata": {},
   "outputs": [],
   "source": [
    "data = AOCInput(\"inputs/input.txt\")"
   ]
  },
  {
   "cell_type": "code",
   "execution_count": 73,
   "metadata": {},
   "outputs": [],
   "source": [
    "map = data.get_lines()\n",
    "# sequence = \"2333133121414131402\"\n",
    "map = [[int(x) for x in y] for y in map[:-1]]   "
   ]
  },
  {
   "cell_type": "code",
   "execution_count": 74,
   "metadata": {},
   "outputs": [],
   "source": [
    "trails = [[set() for _ in range(len(map[0]))] for _ in range(len(map))]"
   ]
  },
  {
   "cell_type": "code",
   "execution_count": 79,
   "metadata": {},
   "outputs": [],
   "source": [
    "trails=np.zeros((len(map), len(map[0])))\n",
    "for i in range(10):\n",
    "    for j in range(len(map)):\n",
    "        for k in range(len(map[0])):\n",
    "            if map[j][k] == i:\n",
    "                if i == 0: \n",
    "                    trails[j][k] = 1\n",
    "                else: \n",
    "                    if j > 0 and map[j-1][k] == (i - 1):\n",
    "                        trails[j][k] += trails[j-1][k]\n",
    "                    if j < len(map) - 1 and map[j+1][k]  == (i - 1):\n",
    "                        trails[j][k] += trails[j+1][k]\n",
    "                    if k > 0 and map[j][k-1]  == (i - 1):\n",
    "                        trails[j][k] += trails[j][k-1]\n",
    "                    if k < len(map[0]) - 1 and map[j][k+1]  == (i - 1):\n",
    "                        trails[j][k] += trails[j][k+1]\n"
   ]
  },
  {
   "cell_type": "code",
   "execution_count": 81,
   "metadata": {},
   "outputs": [],
   "source": [
    "sum = 0 \n",
    "for i in range(len(map)):\n",
    "    for j in range(len(map[0])):\n",
    "        if map[i][j] == 9:\n",
    "            sum += trails[i][j]"
   ]
  },
  {
   "cell_type": "code",
   "execution_count": 82,
   "metadata": {},
   "outputs": [
    {
     "data": {
      "text/plain": [
       "1651.0"
      ]
     },
     "execution_count": 82,
     "metadata": {},
     "output_type": "execute_result"
    }
   ],
   "source": [
    "sum"
   ]
  },
  {
   "cell_type": "code",
   "execution_count": null,
   "metadata": {},
   "outputs": [],
   "source": [
    "\n",
    "for i in range(10):\n",
    "    for j in range(len(map)):\n",
    "        for k in range(len(map[0])):\n",
    "            if map[j][k] == i:\n",
    "                if i == 0: \n",
    "                    trails[j][k].add(f\"{j},{k}\")\n",
    "                else: \n",
    "                    if j > 0 and map[j-1][k] == (i - 1):\n",
    "                        trails[j][k].update(trails[j-1][k])\n",
    "                    if j < len(map) - 1 and map[j+1][k]  == (i - 1):\n",
    "                        trails[j][k].update(trails[j+1][k])\n",
    "                    if k > 0 and map[j][k-1]  == (i - 1):\n",
    "                        trails[j][k].update(trails[j][k-1])\n",
    "                    if k < len(map[0]) - 1 and map[j][k+1]  == (i - 1):\n",
    "                        trails[j][k].update(trails[j][k+1])\n"
   ]
  },
  {
   "cell_type": "code",
   "execution_count": 77,
   "metadata": {},
   "outputs": [],
   "source": [
    "sum = 0 \n",
    "for i in range(len(map)):\n",
    "    for j in range(len(map[0])):\n",
    "        if map[i][j] == 9:\n",
    "            sum += len(trails[i][j])"
   ]
  },
  {
   "cell_type": "code",
   "execution_count": 78,
   "metadata": {},
   "outputs": [
    {
     "data": {
      "text/plain": [
       "744"
      ]
     },
     "execution_count": 78,
     "metadata": {},
     "output_type": "execute_result"
    }
   ],
   "source": [
    "sum"
   ]
  },
  {
   "cell_type": "code",
   "execution_count": 7,
   "metadata": {},
   "outputs": [],
   "source": [
    "file_start = 0\n",
    "index_start = 0 \n",
    "index_end = len(sequence)-1\n",
    "spaces_start = sequence[index_start]\n",
    "file_end = (index_end)/2 \n",
    "spaces_end = sequence[index_end]"
   ]
  },
  {
   "cell_type": "code",
   "execution_count": 8,
   "metadata": {},
   "outputs": [],
   "source": [
    "sum = 0 \n",
    "position = 0\n",
    "start=True\n",
    "spaces_free = 0 \n",
    "while file_start <= file_end:\n",
    "    if start:\n",
    "        if spaces_start > 0:\n",
    "            #print(\"start\")\n",
    "            #print(f\"{position} * {file_start}\")\n",
    "            sum += position*file_start \n",
    "            spaces_start += -1\n",
    "            position += 1\n",
    "        else: \n",
    "            index_start += 1\n",
    "            spaces_free = sequence[index_start]\n",
    "            index_start += 1\n",
    "            spaces_start = sequence[index_start]\n",
    "            file_start += 1\n",
    "            start = False\n",
    "    else: \n",
    "        if spaces_free > 0:\n",
    "            if spaces_end > 0:\n",
    "                # print(f\"{position} * {file_end}\")\n",
    "                sum += position*file_end\n",
    "                spaces_end += -1\n",
    "                spaces_free += -1\n",
    "                position += 1\n",
    "            else: \n",
    "                index_end += -2\n",
    "                file_end += -1\n",
    "                spaces_end = sequence[index_end]\n",
    "        else:\n",
    "            if file_start == file_end:\n",
    "                spaces_start = spaces_end\n",
    "            start = True\n",
    "    "
   ]
  },
  {
   "cell_type": "code",
   "execution_count": 9,
   "metadata": {},
   "outputs": [
    {
     "data": {
      "text/plain": [
       "6421128769094.0"
      ]
     },
     "execution_count": 9,
     "metadata": {},
     "output_type": "execute_result"
    }
   ],
   "source": [
    "sum"
   ]
  },
  {
   "cell_type": "markdown",
   "metadata": {},
   "source": [
    "# 2\n"
   ]
  },
  {
   "cell_type": "code",
   "execution_count": 18,
   "metadata": {},
   "outputs": [],
   "source": [
    "sequence = data.get_lines()[0]\n",
    "sequence = \"2333133121414131402\"\n",
    "sequence = [int(x) for x in sequence]   "
   ]
  },
  {
   "cell_type": "code",
   "execution_count": 12,
   "metadata": {},
   "outputs": [],
   "source": [
    "\n",
    "disk = []\n",
    "for i in range(len(sequence)):\n",
    "    if i % 2 == 0:\n",
    "        disk = disk + [i/2]*sequence[i]\n",
    "    else: \n",
    "        disk = disk + [None]*sequence[i]"
   ]
  },
  {
   "cell_type": "code",
   "execution_count": 19,
   "metadata": {},
   "outputs": [],
   "source": [
    "\n",
    "from collections import defaultdict, Counter, deque"
   ]
  },
  {
   "cell_type": "code",
   "execution_count": 30,
   "metadata": {},
   "outputs": [],
   "source": [
    "A = deque([])\n",
    "SPACE = deque([])\n",
    "file_id = 0\n",
    "FINAL = []\n",
    "pos = 0\n",
    "part2 = True\n",
    "for i,c in enumerate(sequence):\n",
    "    if i%2==0:\n",
    "        A.append((pos, int(c), file_id))\n",
    "        for i in range(int(c)):\n",
    "            FINAL.append(file_id)\n",
    "            pos += 1\n",
    "        file_id += 1\n",
    "    else:\n",
    "        SPACE.append((pos, int(c)))\n",
    "        for i in range(int(c)):\n",
    "            FINAL.append(None)\n",
    "            pos += 1"
   ]
  },
  {
   "cell_type": "code",
   "execution_count": 31,
   "metadata": {},
   "outputs": [
    {
     "data": {
      "text/plain": [
       "deque([(0, 2, 0),\n",
       "       (5, 3, 1),\n",
       "       (11, 1, 2),\n",
       "       (15, 3, 3),\n",
       "       (19, 2, 4),\n",
       "       (22, 4, 5),\n",
       "       (27, 4, 6),\n",
       "       (32, 3, 7),\n",
       "       (36, 4, 8),\n",
       "       (40, 2, 9)])"
      ]
     },
     "execution_count": 31,
     "metadata": {},
     "output_type": "execute_result"
    }
   ],
   "source": [
    "A"
   ]
  },
  {
   "cell_type": "code",
   "execution_count": 32,
   "metadata": {},
   "outputs": [
    {
     "data": {
      "text/plain": [
       "deque([(2, 3),\n",
       "       (8, 3),\n",
       "       (12, 3),\n",
       "       (18, 1),\n",
       "       (21, 1),\n",
       "       (26, 1),\n",
       "       (31, 1),\n",
       "       (35, 1),\n",
       "       (40, 0)])"
      ]
     },
     "execution_count": 32,
     "metadata": {},
     "output_type": "execute_result"
    }
   ],
   "source": [
    "SPACE"
   ]
  },
  {
   "cell_type": "code",
   "execution_count": 33,
   "metadata": {},
   "outputs": [],
   "source": [
    "for (pos, sz, file_id) in reversed(A):\n",
    "    for space_i,(space_pos, space_sz) in enumerate(SPACE):\n",
    "        if space_pos < pos and sz <= space_sz:\n",
    "            for i in range(sz):\n",
    "                assert FINAL[pos+i] == file_id, f'{FINAL[pos+i]=}'\n",
    "                FINAL[pos+i] = None\n",
    "                FINAL[space_pos+i] = file_id\n",
    "            SPACE[space_i] = (space_pos + sz, space_sz-sz)\n",
    "            break"
   ]
  },
  {
   "cell_type": "code",
   "execution_count": 34,
   "metadata": {},
   "outputs": [
    {
     "data": {
      "text/plain": [
       "deque([(5, 0),\n",
       "       (11, 0),\n",
       "       (14, 1),\n",
       "       (18, 1),\n",
       "       (21, 1),\n",
       "       (26, 1),\n",
       "       (31, 1),\n",
       "       (35, 1),\n",
       "       (40, 0)])"
      ]
     },
     "execution_count": 34,
     "metadata": {},
     "output_type": "execute_result"
    }
   ],
   "source": [
    "SPACE"
   ]
  },
  {
   "cell_type": "code",
   "execution_count": 35,
   "metadata": {},
   "outputs": [
    {
     "name": "stdout",
     "output_type": "stream",
     "text": [
      "2858\n"
     ]
    }
   ],
   "source": [
    "ans = 0\n",
    "for i,c in enumerate(FINAL):\n",
    "    if c is not None:\n",
    "        ans += i*c\n",
    "print(ans)"
   ]
  },
  {
   "cell_type": "code",
   "execution_count": null,
   "metadata": {},
   "outputs": [],
   "source": []
  },
  {
   "cell_type": "code",
   "execution_count": null,
   "metadata": {},
   "outputs": [],
   "source": []
  }
 ],
 "metadata": {
  "kernelspec": {
   "display_name": "sandbox-occam",
   "language": "python",
   "name": "python3"
  },
  "language_info": {
   "codemirror_mode": {
    "name": "ipython",
    "version": 3
   },
   "file_extension": ".py",
   "mimetype": "text/x-python",
   "name": "python",
   "nbconvert_exporter": "python",
   "pygments_lexer": "ipython3",
   "version": "3.10.14"
  }
 },
 "nbformat": 4,
 "nbformat_minor": 2
}
