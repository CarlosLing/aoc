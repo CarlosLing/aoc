{
 "cells": [
  {
   "cell_type": "code",
   "execution_count": 2,
   "metadata": {},
   "outputs": [],
   "source": [
    "! cp /Users/carlos.garcia2/Downloads/input.txt inputs/input.txt"
   ]
  },
  {
   "cell_type": "code",
   "execution_count": 1,
   "metadata": {},
   "outputs": [],
   "source": [
    "from typing import List, Tuple\n",
    "from utils.input import AOCInput\n",
    "from utils.matrix import AOCMatrix\n",
    "import re\n",
    "import numpy as np"
   ]
  },
  {
   "cell_type": "code",
   "execution_count": 32,
   "metadata": {},
   "outputs": [],
   "source": [
    "data = AOCInput(\"inputs/sample_input.txt\")"
   ]
  },
  {
   "cell_type": "code",
   "execution_count": 3,
   "metadata": {},
   "outputs": [],
   "source": [
    "data = AOCInput(\"inputs/input.txt\")"
   ]
  },
  {
   "cell_type": "code",
   "execution_count": 26,
   "metadata": {},
   "outputs": [
    {
     "data": {
      "text/plain": [
       "[27, 10647, 103, 9, 0, 5524, 4594227, 902936]"
      ]
     },
     "execution_count": 26,
     "metadata": {},
     "output_type": "execute_result"
    }
   ],
   "source": [
    "stones"
   ]
  },
  {
   "cell_type": "code",
   "execution_count": 25,
   "metadata": {},
   "outputs": [],
   "source": [
    "stones = [int(x) for x in data.get_lines()[0].split(\" \")]"
   ]
  },
  {
   "cell_type": "code",
   "execution_count": 27,
   "metadata": {},
   "outputs": [],
   "source": [
    "def blink_stones(list_stones): \n",
    "    new_stones = []\n",
    "    for i in list_stones:\n",
    "        l = len(str(i))\n",
    "        if i == 0:\n",
    "            new_stones.append(1)\n",
    "        elif l%2== 0:\n",
    "            # print(i)\n",
    "            new_stones.append(int(str(i)[:l//2]))\n",
    "            new_stones.append(int(str(i)[l//2:]))\n",
    "        else: \n",
    "            new_stones.append(i*2024)\n",
    "        \n",
    "    return new_stones"
   ]
  },
  {
   "cell_type": "code",
   "execution_count": 30,
   "metadata": {},
   "outputs": [],
   "source": [
    "import functools\n",
    "\n",
    "@functools.cache\n",
    "def stones_in(number, blinks:int): \n",
    "    if blinks == 0: \n",
    "        return 1\n",
    "    \n",
    "    l = len(str(number))\n",
    "    if number == 0: \n",
    "        return stones_in(1, blinks-1)\n",
    "    elif l%2== 0:\n",
    "        return (\n",
    "            stones_in(int(str(number)[:l//2]), blinks-1) +\n",
    "            stones_in(int(str(number)[l//2:]), blinks-1)\n",
    "        )\n",
    "    else: \n",
    "        return stones_in(number*2024, blinks-1)\n",
    "\n",
    "    "
   ]
  },
  {
   "cell_type": "code",
   "execution_count": 31,
   "metadata": {},
   "outputs": [
    {
     "name": "stdout",
     "output_type": "stream",
     "text": [
      "229043\n"
     ]
    }
   ],
   "source": [
    "stones_sample = stones\n",
    "for i in range(25): \n",
    "    stones_sample = blink_stones(stones_sample)\n",
    "print(len(stones_sample))"
   ]
  },
  {
   "cell_type": "code",
   "execution_count": 33,
   "metadata": {},
   "outputs": [
    {
     "data": {
      "text/plain": [
       "272673043446478"
      ]
     },
     "execution_count": 33,
     "metadata": {},
     "output_type": "execute_result"
    }
   ],
   "source": [
    "sum(stones_in(x, 75) for x in stones)"
   ]
  },
  {
   "cell_type": "code",
   "execution_count": null,
   "metadata": {},
   "outputs": [],
   "source": []
  }
 ],
 "metadata": {
  "kernelspec": {
   "display_name": "sandbox-occam",
   "language": "python",
   "name": "python3"
  },
  "language_info": {
   "codemirror_mode": {
    "name": "ipython",
    "version": 3
   },
   "file_extension": ".py",
   "mimetype": "text/x-python",
   "name": "python",
   "nbconvert_exporter": "python",
   "pygments_lexer": "ipython3",
   "version": "3.10.14"
  }
 },
 "nbformat": 4,
 "nbformat_minor": 2
}
