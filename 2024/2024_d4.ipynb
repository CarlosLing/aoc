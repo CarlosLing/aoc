{
 "cells": [
  {
   "cell_type": "code",
   "execution_count": 1,
   "metadata": {},
   "outputs": [],
   "source": [
    "! cp /Users/carlos.garcia2/Downloads/input.txt 2024/inputs/input.txt"
   ]
  },
  {
   "cell_type": "code",
   "execution_count": 1,
   "metadata": {},
   "outputs": [],
   "source": [
    "from utils.input import AOCInput\n",
    "from utils.matrix import AOCMatrix\n",
    "import re\n",
    "import numpy as np"
   ]
  },
  {
   "cell_type": "code",
   "execution_count": 2,
   "metadata": {},
   "outputs": [],
   "source": [
    "# data = AOCInput(\"2024/inputs/sample_input.txt\")"
   ]
  },
  {
   "cell_type": "code",
   "execution_count": 1,
   "metadata": {},
   "outputs": [
    {
     "ename": "NameError",
     "evalue": "name 'AOCInput' is not defined",
     "output_type": "error",
     "traceback": [
      "\u001b[0;31m---------------------------------------------------------------------------\u001b[0m",
      "\u001b[0;31mNameError\u001b[0m                                 Traceback (most recent call last)",
      "Cell \u001b[0;32mIn[1], line 1\u001b[0m\n\u001b[0;32m----> 1\u001b[0m data \u001b[38;5;241m=\u001b[39m \u001b[43mAOCInput\u001b[49m(\u001b[38;5;124m\"\u001b[39m\u001b[38;5;124m2024/inputs/input.txt\u001b[39m\u001b[38;5;124m\"\u001b[39m)\n",
      "\u001b[0;31mNameError\u001b[0m: name 'AOCInput' is not defined"
     ]
    }
   ],
   "source": [
    "data = AOCInput(\"2024/inputs/input.txt\")"
   ]
  },
  {
   "cell_type": "code",
   "execution_count": 4,
   "metadata": {},
   "outputs": [],
   "source": [
    "data_lines = data.get_lines()"
   ]
  },
  {
   "cell_type": "code",
   "execution_count": 5,
   "metadata": {},
   "outputs": [],
   "source": [
    "data_clean = [[y for y in x] for x in data_lines[:-1]]"
   ]
  },
  {
   "cell_type": "code",
   "execution_count": 6,
   "metadata": {},
   "outputs": [],
   "source": [
    "pattern = \"XMAS\"\n",
    "pattern_inverted = \"SAMX\"\n"
   ]
  },
  {
   "cell_type": "code",
   "execution_count": 7,
   "metadata": {},
   "outputs": [],
   "source": [
    "matrix = AOCMatrix(data_clean)"
   ]
  },
  {
   "cell_type": "code",
   "execution_count": 3,
   "metadata": {},
   "outputs": [
    {
     "name": "stdout",
     "output_type": "stream",
     "text": [
      "01\n",
      "01\n",
      "---\n",
      "00\n",
      "11\n",
      "---\n",
      "01\n",
      "01\n",
      "---\n",
      "11\n",
      "00\n",
      "---\n",
      "10\n",
      "10\n"
     ]
    }
   ],
   "source": [
    "sample_matrix = AOCMatrix([[0, 1], [0, 1]])\n",
    "print(sample_matrix)\n",
    "print(\"---\")\n",
    "sample_matrix.transpose_matrix()\n",
    "print(sample_matrix)\n",
    "print(\"---\")\n",
    "sample_matrix.rotate_matrix()\n",
    "print(sample_matrix)\n",
    "print(\"---\")\n",
    "sample_matrix.rotate_matrix()\n",
    "print(sample_matrix)\n",
    "print(\"---\")\n",
    "sample_matrix.rotate_matrix()\n",
    "print(sample_matrix)"
   ]
  },
  {
   "cell_type": "code",
   "execution_count": 41,
   "metadata": {},
   "outputs": [
    {
     "name": "stdout",
     "output_type": "stream",
     "text": [
      "[['S' 'A' 'M' ... 'M' 'M' 'A']\n",
      " ['M' 'M' 'S' ... 'M' 'S' 'S']\n",
      " ['A' 'A' 'A' ... 'M' 'A' 'A']\n",
      " ...\n",
      " ['S' 'S' 'X' ... 'M' 'A' 'M']\n",
      " ['A' 'A' 'M' ... 'S' 'A' 'S']\n",
      " ['M' 'X' 'M' ... 'S' 'A' 'S']]\n"
     ]
    }
   ],
   "source": [
    "data_clean_transposed = np.transpose(data_clean)\n",
    "print(data_clean_transposed)"
   ]
  },
  {
   "cell_type": "code",
   "execution_count": 42,
   "metadata": {},
   "outputs": [],
   "source": [
    "def get_diagonals(matrix):\n",
    "    diagonals = []\n",
    "    n, m = len(matrix), len(matrix[0])\n",
    "    \n",
    "    # Get all diagonals from bottom-left to top-right\n",
    "    for p in range(n + m - 1):\n",
    "        diagonal = []\n",
    "        for q in range(max(0, p - m + 1), min(p + 1, n)):\n",
    "            diagonal.append(matrix[q][p - q])\n",
    "        diagonals.append(diagonal)\n",
    "    \n",
    "    # Get all anti-diagonals from top-left to bottom-right\n",
    "    for p in range(n + m - 1):\n",
    "        anti_diagonal = []\n",
    "        for q in range(max(0, p - m + 1), min(p + 1, n)):\n",
    "            anti_diagonal.append(matrix[q][m - 1 - (p - q)])\n",
    "        diagonals.append(anti_diagonal)\n",
    "    \n",
    "    return diagonals\n",
    "\n",
    "all_diagonals = get_diagonals(data_clean)\n",
    "# print(all_diagonals)"
   ]
  },
  {
   "cell_type": "code",
   "execution_count": 8,
   "metadata": {},
   "outputs": [
    {
     "name": "stdout",
     "output_type": "stream",
     "text": [
      "2551\n"
     ]
    }
   ],
   "source": [
    "total_length = 0\n",
    "for x in matrix.get_matrix():\n",
    "    str_x = \"\".join(x)\n",
    "    total_length += len(re.findall(pattern, str_x))\n",
    "    total_length += len(re.findall(pattern_inverted, str_x))\n",
    "for x in matrix.get_transpose():\n",
    "    str_x = \"\".join(x)\n",
    "    total_length += len(re.findall(pattern, str_x))\n",
    "    total_length += len(re.findall(pattern_inverted, str_x))\n",
    "for x in matrix.get_diagonals():\n",
    "    str_x = \"\".join(x)\n",
    "    total_length += len(re.findall(pattern, str_x))\n",
    "    total_length += len(re.findall(pattern_inverted, str_x))\n",
    "print(total_length)"
   ]
  },
  {
   "cell_type": "code",
   "execution_count": 50,
   "metadata": {},
   "outputs": [],
   "source": [
    "total_length = 0\n",
    "for x in data_clean:\n",
    "    str_x = \"\".join(x)\n",
    "    total_length += len(re.findall(pattern, str_x))\n",
    "    total_length += len(re.findall(pattern_inverted, str_x))\n",
    "for x in all_diagonals:\n",
    "    str_x = \"\".join(x)\n",
    "    total_length += len(re.findall(pattern, str_x))\n",
    "    total_length += len(re.findall(pattern_inverted, str_x))\n",
    "for x in data_clean_transposed:\n",
    "    str_x = \"\".join(x)\n",
    "    total_length += len(re.findall(pattern, str_x))\n",
    "    total_length += len(re.findall(pattern_inverted, str_x))"
   ]
  },
  {
   "cell_type": "code",
   "execution_count": 51,
   "metadata": {},
   "outputs": [
    {
     "data": {
      "text/plain": [
       "2551"
      ]
     },
     "execution_count": 51,
     "metadata": {},
     "output_type": "execute_result"
    }
   ],
   "source": [
    "total_length"
   ]
  },
  {
   "cell_type": "code",
   "execution_count": 27,
   "metadata": {},
   "outputs": [],
   "source": [
    "pattern = \"MAS\"\n",
    "pattern_inverted = \"SAM\"\n",
    "total_length = 0\n",
    "for i in range(len(data_clean)):\n",
    "    for j in range(len(data_clean[i])):\n",
    "        if i > 0 and j > 0 and j < len(data_clean[i]) - 1 and i < len(data_clean) - 1:\n",
    "            if data_clean[i][j] == \"A\":\n",
    "                c = data_clean[i][j] \n",
    "                d1 = data_clean[i-1][j-1]\n",
    "                d2 = data_clean[i+1][j+1]\n",
    "                ad1 = data_clean[i-1][j+1]\n",
    "                ad2 = data_clean[i+1][j-1]\n",
    "                d = d1 + c + d2\n",
    "                ad = ad1 + c + ad2\n",
    "                if (d == pattern or d == pattern_inverted) and (ad == pattern or ad == pattern_inverted):\n",
    "                    total_length += 1\n",
    "\n",
    "\n",
    "        "
   ]
  },
  {
   "cell_type": "code",
   "execution_count": 28,
   "metadata": {},
   "outputs": [
    {
     "data": {
      "text/plain": [
       "1985"
      ]
     },
     "execution_count": 28,
     "metadata": {},
     "output_type": "execute_result"
    }
   ],
   "source": [
    "total_length"
   ]
  },
  {
   "cell_type": "markdown",
   "metadata": {},
   "source": [
    "## 1"
   ]
  },
  {
   "cell_type": "code",
   "execution_count": 25,
   "metadata": {},
   "outputs": [
    {
     "data": {
      "text/plain": [
       "'XMAS'"
      ]
     },
     "execution_count": 25,
     "metadata": {},
     "output_type": "execute_result"
    }
   ],
   "source": [
    "\"X\"+ \"M\" + \"A\" + \"S\""
   ]
  },
  {
   "cell_type": "markdown",
   "metadata": {},
   "source": [
    "## 2 "
   ]
  },
  {
   "cell_type": "code",
   "execution_count": null,
   "metadata": {},
   "outputs": [],
   "source": []
  }
 ],
 "metadata": {
  "kernelspec": {
   "display_name": "sandbox-occam",
   "language": "python",
   "name": "python3"
  },
  "language_info": {
   "codemirror_mode": {
    "name": "ipython",
    "version": 3
   },
   "file_extension": ".py",
   "mimetype": "text/x-python",
   "name": "python",
   "nbconvert_exporter": "python",
   "pygments_lexer": "ipython3",
   "version": "3.10.14"
  }
 },
 "nbformat": 4,
 "nbformat_minor": 2
}
