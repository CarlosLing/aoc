{
 "cells": [
  {
   "cell_type": "code",
   "execution_count": 1,
   "metadata": {},
   "outputs": [],
   "source": [
    "! cp /Users/carlos.garcia2/Downloads/input.txt inputs/input.txt"
   ]
  },
  {
   "cell_type": "code",
   "execution_count": 46,
   "metadata": {},
   "outputs": [],
   "source": [
    "from typing import List, Tuple\n",
    "from utils.input import AOCInput\n",
    "from utils.matrix import AOCMatrix\n",
    "import re\n",
    "import numpy as np"
   ]
  },
  {
   "cell_type": "code",
   "execution_count": 69,
   "metadata": {},
   "outputs": [],
   "source": [
    "data = AOCInput(\"inputs/sample_input.txt\")"
   ]
  },
  {
   "cell_type": "code",
   "execution_count": 101,
   "metadata": {},
   "outputs": [],
   "source": [
    "data = AOCInput(\"inputs/input.txt\")"
   ]
  },
  {
   "cell_type": "code",
   "execution_count": 102,
   "metadata": {},
   "outputs": [],
   "source": [
    "data = data.get_lines()[:-1]\n",
    "data = [(int(x.split(\": \")[0]), [int(y)for y in x.split(\": \")[1].split(\" \")]) for x in data]"
   ]
  },
  {
   "cell_type": "code",
   "execution_count": 71,
   "metadata": {},
   "outputs": [
    {
     "data": {
      "text/plain": [
       "(292, [11, 6, 16, 20])"
      ]
     },
     "execution_count": 71,
     "metadata": {},
     "output_type": "execute_result"
    }
   ],
   "source": [
    "data[-1]"
   ]
  },
  {
   "cell_type": "code",
   "execution_count": 72,
   "metadata": {},
   "outputs": [],
   "source": [
    "def verify(target: int, remaining: List[int], result: int):\n",
    "    if result > target:\n",
    "        return False\n",
    "    if result == target:\n",
    "        if len(remaining) == 0:\n",
    "            return True\n",
    "        else:\n",
    "            return verify(target, remaining[1:], result + remaining[0]) or verify(target, remaining[1:], result * remaining[0])\n",
    "    if result < target:\n",
    "        if len(remaining) == 0:\n",
    "            return False\n",
    "        else: \n",
    "            return verify(target, remaining[1:], result + remaining[0]) or verify(target, remaining[1:], result * remaining[0])"
   ]
  },
  {
   "cell_type": "code",
   "execution_count": 87,
   "metadata": {},
   "outputs": [
    {
     "name": "stdout",
     "output_type": "stream",
     "text": [
      "3749\n"
     ]
    }
   ],
   "source": [
    "sum = 0 \n",
    "for x in data:\n",
    "    if verify(x[0], x[1][1:], x[1][0]):\n",
    "        sum += x[0]\n",
    "print(sum)"
   ]
  },
  {
   "cell_type": "code",
   "execution_count": 74,
   "metadata": {},
   "outputs": [
    {
     "data": {
      "text/plain": [
       "0"
      ]
     },
     "execution_count": 74,
     "metadata": {},
     "output_type": "execute_result"
    }
   ],
   "source": [
    "x1 = 30 \n",
    "x2 = 1\n",
    "# len(str(x2))\n",
    "str(x1)[:len(str(x2))] == str(x2)\n",
    "int(str(x1)[len(str(x2)):])"
   ]
  },
  {
   "cell_type": "code",
   "execution_count": 103,
   "metadata": {},
   "outputs": [],
   "source": [
    "def verify(target: int, remaining: List[int], result: int):\n",
    "    if result > target:\n",
    "        return False\n",
    "    if result == target:\n",
    "        if len(remaining) == 0:\n",
    "            return True\n",
    "        else:\n",
    "            return verify(target, remaining[1:], result + remaining[0]) or verify(target, remaining[1:], result * remaining[0])\n",
    "    if result < target:\n",
    "        if len(remaining) == 0:\n",
    "            return False\n",
    "        else: \n",
    "            return verify(target, remaining[1:], result + remaining[0]) or verify(target, remaining[1:], result * remaining[0]) or verify(target, remaining[1:], int(str(result) + str(remaining[0])))"
   ]
  },
  {
   "cell_type": "code",
   "execution_count": 104,
   "metadata": {},
   "outputs": [
    {
     "name": "stdout",
     "output_type": "stream",
     "text": [
      "248427118972289\n"
     ]
    }
   ],
   "source": [
    "sum = 0 \n",
    "for x in data:\n",
    "    if verify(x[0], x[1][1:], x[1][0]):\n",
    "        sum += x[0]\n",
    "print(sum)"
   ]
  }
 ],
 "metadata": {
  "kernelspec": {
   "display_name": "sandbox-occam",
   "language": "python",
   "name": "python3"
  },
  "language_info": {
   "codemirror_mode": {
    "name": "ipython",
    "version": 3
   },
   "file_extension": ".py",
   "mimetype": "text/x-python",
   "name": "python",
   "nbconvert_exporter": "python",
   "pygments_lexer": "ipython3",
   "version": "3.10.14"
  }
 },
 "nbformat": 4,
 "nbformat_minor": 2
}
