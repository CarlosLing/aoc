{
 "cells": [
  {
   "cell_type": "code",
   "execution_count": 1,
   "metadata": {},
   "outputs": [],
   "source": [
    "! cp /Users/carlos.garcia2/Downloads/input.txt inputs/input.txt"
   ]
  },
  {
   "cell_type": "code",
   "execution_count": 1,
   "metadata": {},
   "outputs": [],
   "source": [
    "from typing import List, Tuple\n",
    "from utils.input import AOCInput\n",
    "from utils.matrix import AOCMatrix\n",
    "import re\n",
    "import numpy as np"
   ]
  },
  {
   "cell_type": "code",
   "execution_count": 39,
   "metadata": {},
   "outputs": [],
   "source": [
    "data = AOCInput(\"inputs/sample_input.txt\")"
   ]
  },
  {
   "cell_type": "code",
   "execution_count": 40,
   "metadata": {},
   "outputs": [],
   "source": [
    "data = AOCInput(\"inputs/input.txt\")"
   ]
  },
  {
   "cell_type": "code",
   "execution_count": 41,
   "metadata": {},
   "outputs": [],
   "source": [
    "data = [[y for y in x] for x in  data.get_lines()[:-1]]"
   ]
  },
  {
   "cell_type": "code",
   "execution_count": 42,
   "metadata": {},
   "outputs": [],
   "source": [
    "concatenated_set = set(sum(data, []))\n",
    "concatenated_set.discard('.')\n",
    "# print(concatenated_set)"
   ]
  },
  {
   "cell_type": "code",
   "execution_count": 43,
   "metadata": {},
   "outputs": [],
   "source": [
    "matrix_nodes = np.zeros((len(data), len(data[0])))   "
   ]
  },
  {
   "cell_type": "code",
   "execution_count": 44,
   "metadata": {},
   "outputs": [
    {
     "name": "stdout",
     "output_type": "stream",
     "text": [
      "Element: p, Indices: [(26, 26), (45, 22), (48, 29), (49, 17)]\n",
      "Element: f, Indices: [(33, 23), (34, 30), (39, 24), (40, 11)]\n",
      "Element: 5, Indices: [(24, 16), (35, 3), (36, 9), (37, 4)]\n",
      "Element: B, Indices: [(26, 41), (36, 38), (49, 46)]\n",
      "Element: 0, Indices: [(31, 27), (35, 8), (40, 1), (44, 12)]\n",
      "Element: S, Indices: [(33, 43), (40, 49), (45, 48)]\n",
      "Element: Q, Indices: [(28, 45), (29, 35), (38, 34), (41, 30)]\n",
      "Element: M, Indices: [(35, 9), (36, 19), (41, 22), (42, 24)]\n",
      "Element: T, Indices: [(24, 25), (30, 36), (31, 31), (37, 42)]\n",
      "Element: V, Indices: [(10, 9), (26, 24), (27, 28), (29, 23)]\n",
      "Element: P, Indices: [(30, 6), (41, 9), (43, 18)]\n",
      "Element: b, Indices: [(24, 49), (28, 42), (29, 40), (33, 39)]\n",
      "Element: O, Indices: [(3, 18), (9, 13), (14, 9), (22, 6)]\n",
      "Element: U, Indices: [(13, 37), (14, 41), (24, 32), (41, 18)]\n",
      "Element: j, Indices: [(11, 36), (18, 33), (20, 38), (25, 27)]\n",
      "Element: t, Indices: [(21, 33), (30, 32), (34, 27), (41, 26)]\n",
      "Element: g, Indices: [(21, 48), (26, 46), (30, 47), (39, 43)]\n",
      "Element: W, Indices: [(28, 29), (45, 44), (49, 39)]\n",
      "Element: 2, Indices: [(29, 41), (44, 43), (45, 46), (48, 26)]\n",
      "Element: J, Indices: [(20, 35), (21, 36), (25, 49), (26, 34)]\n",
      "Element: r, Indices: [(11, 26), (14, 19), (16, 22), (19, 33)]\n",
      "Element: X, Indices: [(14, 45), (16, 46), (19, 47), (23, 44)]\n",
      "Element: x, Indices: [(37, 2), (41, 1), (42, 3), (44, 6)]\n",
      "Element: 6, Indices: [(9, 18), (14, 37), (18, 40), (21, 35)]\n",
      "Element: Z, Indices: [(6, 9), (7, 19), (11, 10), (16, 18)]\n",
      "Element: 3, Indices: [(8, 22), (27, 49), (32, 47), (43, 40)]\n",
      "Element: 4, Indices: [(27, 25), (35, 34), (40, 21), (42, 36)]\n",
      "Element: z, Indices: [(30, 20), (33, 22), (44, 31), (49, 33)]\n",
      "Element: q, Indices: [(13, 44), (41, 19), (42, 21), (46, 10)]\n",
      "Element: G, Indices: [(2, 19), (3, 21), (7, 16), (30, 4)]\n",
      "Element: u, Indices: [(45, 49), (48, 45), (49, 42)]\n",
      "Element: A, Indices: [(2, 2), (8, 13), (9, 0)]\n",
      "Element: N, Indices: [(28, 14), (36, 43), (39, 48), (41, 41)]\n",
      "Element: C, Indices: [(33, 41), (35, 44), (38, 45), (48, 48)]\n",
      "Element: m, Indices: [(38, 35), (42, 40), (45, 38)]\n",
      "Element: a, Indices: [(11, 29), (18, 45), (23, 46), (28, 44)]\n",
      "Element: 8, Indices: [(28, 38), (30, 29), (35, 33), (45, 40)]\n",
      "Element: v, Indices: [(17, 39), (25, 26), (30, 28), (32, 25)]\n",
      "Element: R, Indices: [(5, 10), (6, 1), (7, 25), (8, 2)]\n",
      "Element: 1, Indices: [(24, 42), (25, 40), (28, 35), (49, 45)]\n",
      "Element: s, Indices: [(4, 16), (9, 12), (10, 23), (11, 17)]\n",
      "Element: 9, Indices: [(6, 36), (9, 26), (10, 25), (11, 33)]\n",
      "Element: 7, Indices: [(18, 36), (35, 43), (39, 44), (40, 45)]\n",
      "Element: c, Indices: [(10, 32), (12, 39), (13, 34), (19, 9)]\n",
      "Element: F, Indices: [(20, 41), (35, 42), (39, 39), (40, 48)]\n",
      "Element: o, Indices: [(3, 6), (6, 2), (7, 5), (8, 19)]\n",
      "Element: w, Indices: [(1, 23), (4, 22), (5, 24), (6, 21)]\n",
      "Element: n, Indices: [(15, 13), (20, 7), (22, 10), (29, 18)]\n"
     ]
    }
   ],
   "source": [
    "for element in concatenated_set:\n",
    "    indices = [(i, j) for i, row in enumerate(data) for j, val in enumerate(row) if val == element]\n",
    "    print(f\"Element: {element}, Indices: {indices}\")\n",
    "    for i, j in indices:\n",
    "        for i2, j2 in indices:\n",
    "            try: \n",
    "                if 2*i-i2 >=0 and 2*j-j2 >=0:\n",
    "                    if (2*i-i2, 2*j-j2) not in indices:\n",
    "                        matrix_nodes[2*i-i2, 2*j-j2] = 1\n",
    "            except IndexError:\n",
    "                pass"
   ]
  },
  {
   "cell_type": "code",
   "execution_count": 45,
   "metadata": {},
   "outputs": [],
   "source": [
    "matrix_nodes = np.zeros((len(data), len(data[0])))   "
   ]
  },
  {
   "cell_type": "code",
   "execution_count": 46,
   "metadata": {},
   "outputs": [
    {
     "name": "stdout",
     "output_type": "stream",
     "text": [
      "Element: p, Indices: [(26, 26), (45, 22), (48, 29), (49, 17)]\n",
      "Element: f, Indices: [(33, 23), (34, 30), (39, 24), (40, 11)]\n",
      "Element: 5, Indices: [(24, 16), (35, 3), (36, 9), (37, 4)]\n",
      "Element: B, Indices: [(26, 41), (36, 38), (49, 46)]\n",
      "Element: 0, Indices: [(31, 27), (35, 8), (40, 1), (44, 12)]\n",
      "Element: S, Indices: [(33, 43), (40, 49), (45, 48)]\n",
      "Element: Q, Indices: [(28, 45), (29, 35), (38, 34), (41, 30)]\n",
      "Element: M, Indices: [(35, 9), (36, 19), (41, 22), (42, 24)]\n",
      "Element: T, Indices: [(24, 25), (30, 36), (31, 31), (37, 42)]\n",
      "Element: V, Indices: [(10, 9), (26, 24), (27, 28), (29, 23)]\n",
      "Element: P, Indices: [(30, 6), (41, 9), (43, 18)]\n",
      "Element: b, Indices: [(24, 49), (28, 42), (29, 40), (33, 39)]\n",
      "Element: O, Indices: [(3, 18), (9, 13), (14, 9), (22, 6)]\n",
      "Element: U, Indices: [(13, 37), (14, 41), (24, 32), (41, 18)]\n",
      "Element: j, Indices: [(11, 36), (18, 33), (20, 38), (25, 27)]\n",
      "Element: t, Indices: [(21, 33), (30, 32), (34, 27), (41, 26)]\n",
      "Element: g, Indices: [(21, 48), (26, 46), (30, 47), (39, 43)]\n",
      "Element: W, Indices: [(28, 29), (45, 44), (49, 39)]\n",
      "Element: 2, Indices: [(29, 41), (44, 43), (45, 46), (48, 26)]\n",
      "Element: J, Indices: [(20, 35), (21, 36), (25, 49), (26, 34)]\n",
      "Element: r, Indices: [(11, 26), (14, 19), (16, 22), (19, 33)]\n",
      "Element: X, Indices: [(14, 45), (16, 46), (19, 47), (23, 44)]\n",
      "Element: x, Indices: [(37, 2), (41, 1), (42, 3), (44, 6)]\n",
      "Element: 6, Indices: [(9, 18), (14, 37), (18, 40), (21, 35)]\n",
      "Element: Z, Indices: [(6, 9), (7, 19), (11, 10), (16, 18)]\n",
      "Element: 3, Indices: [(8, 22), (27, 49), (32, 47), (43, 40)]\n",
      "Element: 4, Indices: [(27, 25), (35, 34), (40, 21), (42, 36)]\n",
      "Element: z, Indices: [(30, 20), (33, 22), (44, 31), (49, 33)]\n",
      "Element: q, Indices: [(13, 44), (41, 19), (42, 21), (46, 10)]\n",
      "Element: G, Indices: [(2, 19), (3, 21), (7, 16), (30, 4)]\n",
      "Element: u, Indices: [(45, 49), (48, 45), (49, 42)]\n",
      "Element: A, Indices: [(2, 2), (8, 13), (9, 0)]\n",
      "Element: N, Indices: [(28, 14), (36, 43), (39, 48), (41, 41)]\n",
      "Element: C, Indices: [(33, 41), (35, 44), (38, 45), (48, 48)]\n",
      "Element: m, Indices: [(38, 35), (42, 40), (45, 38)]\n",
      "Element: a, Indices: [(11, 29), (18, 45), (23, 46), (28, 44)]\n",
      "Element: 8, Indices: [(28, 38), (30, 29), (35, 33), (45, 40)]\n",
      "Element: v, Indices: [(17, 39), (25, 26), (30, 28), (32, 25)]\n",
      "Element: R, Indices: [(5, 10), (6, 1), (7, 25), (8, 2)]\n",
      "Element: 1, Indices: [(24, 42), (25, 40), (28, 35), (49, 45)]\n",
      "Element: s, Indices: [(4, 16), (9, 12), (10, 23), (11, 17)]\n",
      "Element: 9, Indices: [(6, 36), (9, 26), (10, 25), (11, 33)]\n",
      "Element: 7, Indices: [(18, 36), (35, 43), (39, 44), (40, 45)]\n",
      "Element: c, Indices: [(10, 32), (12, 39), (13, 34), (19, 9)]\n",
      "Element: F, Indices: [(20, 41), (35, 42), (39, 39), (40, 48)]\n",
      "Element: o, Indices: [(3, 6), (6, 2), (7, 5), (8, 19)]\n",
      "Element: w, Indices: [(1, 23), (4, 22), (5, 24), (6, 21)]\n",
      "Element: n, Indices: [(15, 13), (20, 7), (22, 10), (29, 18)]\n"
     ]
    }
   ],
   "source": [
    "for element in concatenated_set:\n",
    "    indices = [(i, j) for i, row in enumerate(data) for j, val in enumerate(row) if val == element]\n",
    "    print(f\"Element: {element}, Indices: {indices}\")\n",
    "    for i, j in indices:\n",
    "        for i2, j2 in indices:\n",
    "            in_bounds = True\n",
    "            distance = 1\n",
    "            while in_bounds:\n",
    "                node = (i -distance*(i2-i), j -distance*(j2-j))\n",
    "                distance += 1\n",
    "                # print(f\"Node: {node}\")\n",
    "                if node[0] >= 0 and node[1] >= 0 and node[0] < len(data) and node[1] < len(data[0]):\n",
    "                    if node not in indices:\n",
    "                        matrix_nodes[node] = 1\n",
    "                    else:\n",
    "                        matrix_nodes[node] = 1\n",
    "                        in_bounds = False\n",
    "                else: \n",
    "                    in_bounds = False\n",
    "                "
   ]
  },
  {
   "cell_type": "code",
   "execution_count": 47,
   "metadata": {},
   "outputs": [
    {
     "data": {
      "text/plain": [
       "array([[1., 0., 0., ..., 0., 0., 0.],\n",
       "       [1., 0., 0., ..., 1., 0., 0.],\n",
       "       [0., 1., 1., ..., 1., 0., 0.],\n",
       "       ...,\n",
       "       [0., 0., 0., ..., 0., 1., 0.],\n",
       "       [1., 1., 1., ..., 0., 1., 1.],\n",
       "       [1., 0., 0., ..., 0., 0., 0.]])"
      ]
     },
     "execution_count": 47,
     "metadata": {},
     "output_type": "execute_result"
    }
   ],
   "source": [
    "matrix_nodes"
   ]
  },
  {
   "cell_type": "code",
   "execution_count": 48,
   "metadata": {},
   "outputs": [
    {
     "data": {
      "text/plain": [
       "1064.0"
      ]
     },
     "execution_count": 48,
     "metadata": {},
     "output_type": "execute_result"
    }
   ],
   "source": [
    "np.sum(matrix_nodes)"
   ]
  }
 ],
 "metadata": {
  "kernelspec": {
   "display_name": "sandbox-occam",
   "language": "python",
   "name": "python3"
  },
  "language_info": {
   "codemirror_mode": {
    "name": "ipython",
    "version": 3
   },
   "file_extension": ".py",
   "mimetype": "text/x-python",
   "name": "python",
   "nbconvert_exporter": "python",
   "pygments_lexer": "ipython3",
   "version": "3.10.14"
  }
 },
 "nbformat": 4,
 "nbformat_minor": 2
}
